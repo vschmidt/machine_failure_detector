{
 "cells": [
  {
   "cell_type": "code",
   "execution_count": 49,
   "id": "4f148bdd",
   "metadata": {},
   "outputs": [],
   "source": [
    "import os\n",
    "import wave\n",
    "import struct\n",
    "import pandas as pd\n",
    "import scipy\n",
    "from scipy import signal\n",
    "from scipy.fft import fftshift\n",
    "\n",
    "import numpy as np\n",
    "np.random.seed(seed=42)\n",
    "import seaborn as sns\n",
    "\n",
    "import matplotlib.pyplot as plt \n",
    "import matplotlib.pylab as plab\n",
    "from matplotlib import colors as c\n",
    "\n",
    "import IPython.display as ipd\n",
    "import librosa\n",
    "import librosa.display"
   ]
  },
  {
   "cell_type": "markdown",
   "id": "1a2f055b",
   "metadata": {},
   "source": [
    "# Funções auxiliares"
   ]
  },
  {
   "cell_type": "code",
   "execution_count": 52,
   "id": "93ea9734",
   "metadata": {},
   "outputs": [],
   "source": [
    "def plot_wave(caminho, titulo):    \n",
    "    data, sample_rate = librosa.load(caminho)\n",
    "    print(\"Frequência do áudio: \", sample_rate)\n",
    "    librosa.display.waveplot(data,sr=sample_rate)\n",
    "    plt.title(titulo)\n",
    "    plt.xlabel(\"Tempo\")\n",
    "    plt.ylabel(\"Amplitude\")   \n",
    "    \n",
    "def plot_fft_wave(caminho, titulo, x_limits):\n",
    "    data, sample_rate = librosa.load(caminho)\n",
    "    n = len(data)\n",
    "    T = 1/sample_rate\n",
    "    yf = scipy.fft.fft(data) #Aplica a FFT no audio\n",
    "    xf = np.linspace(0.0, 1.0/(2.0*T), n//2) #Cria um array contendo os pontos de x correspondentes ao yf\n",
    "    \n",
    "    fig, ax = plt.subplots()\n",
    "    \n",
    "    ax.plot(xf, 2.0/n * np.abs(yf[:n//2]))\n",
    "    ax.set_xlim(x_limits)\n",
    "    plt.grid()\n",
    "    plt.xlabel(\"Frequência\")\n",
    "    plt.ylabel(\"Magnitude\")\n",
    "    plt.title(titulo)\n",
    "    \n",
    "def plot_wave_with_fft(caminho):  \n",
    "    data, sample_rate = librosa.load(caminho)\n",
    "    n = len(data)\n",
    "    T = 1/sample_rate\n",
    "    yf = scipy.fft.fft(data) #Aplica a FFT no audio\n",
    "    xf = np.linspace(0.0, 1.0/(2.0*T), n//2) #Cria um array contendo os pontos de x correspondentes ao yf\n",
    "    \n",
    "    plt.figure(figsize=(15,5))\n",
    "    \n",
    "    plt.subplot(1, 2, 1)\n",
    "    librosa.display.waveplot(data,sr=sample_rate)\n",
    "    plt.xlabel(\"Tempo\")\n",
    "    plt.ylabel(\"Amplitude\")\n",
    "    plt.title(\"Onda\")\n",
    "    ax = plt.gca()\n",
    "#     ax.set_xlim([0, 50])\n",
    "    ax.set_ylim([-0.2, 0.2])\n",
    "    \n",
    "    plt.subplot(1, 2, 2)\n",
    "    plt.plot(xf, 2.0/n * np.abs(yf[:n//2]))\n",
    "    plt.grid()\n",
    "    plt.xlim(0, 2000)\n",
    "    plt.xlabel(\"Frequência\")\n",
    "    plt.ylabel(\"Magnitude\")\n",
    "    plt.title(\"FFT\")\n",
    "    # Set limits\n",
    "    ax = plt.gca()\n",
    "    ax.set_xlim([0, 50])\n",
    "#     ax.set_ylim([ymin, ymax])\n",
    "    \n",
    "def plot_multiple_FFT(lista_caminhos, xlim=[0,50]):\n",
    "    plt.figure(figsize=(15, 10))\n",
    "    plt.grid()\n",
    "    plt.xlabel(\"Frequência\")\n",
    "    plt.xlim(xlim)\n",
    "    plt.ylabel(\"Magnitude\")    \n",
    "    \n",
    "    for caminho in lista_caminhos:\n",
    "        data, sample_rate = librosa.load(caminho)\n",
    "        n = len(data)\n",
    "        T = 1/sample_rate\n",
    "        yf = scipy.fft.fft(data) #Aplica a FFT no audio\n",
    "        xf = np.linspace(0.0, 1.0/(2.0*T), n//2) #Cria um array contendo os pontos de x correspondentes ao yf\n",
    "\n",
    "        plt.plot(xf, 2.0/n * np.abs(yf[:n//2]))\n",
    "    \n",
    "    plt.legend(lista_caminhos)\n",
    "    \n",
    "        \n",
    "def spectrograma(caminho):\n",
    "    x, fs = librosa.load(caminho)\n",
    "    f, t, Sxx = signal.spectrogram(x, fs)\n",
    "    cMap = c.ListedColormap(['w','b'])\n",
    "    plt.pcolormesh(t, f, Sxx, shading='gouraud', cmap=cMap)\n",
    "    plt.ylabel('Frequência [Hz]')\n",
    "    plt.xlabel('Tempo [sec]')"
   ]
  },
  {
   "cell_type": "code",
   "execution_count": 53,
   "id": "95e7fc0b",
   "metadata": {},
   "outputs": [
    {
     "data": {
      "image/png": "[encoded data removed]",
      "text/plain": [
       "<Figure size 432x288 with 1 Axes>"
      ]
     },
     "metadata": {
      "needs_background": "light"
     },
     "output_type": "display_data"
    }
   ],
   "source": [
    "spectrograma(desbalanceado)"
   ]
  },
  {
   "cell_type": "markdown",
   "id": "81aca74f",
   "metadata": {},
   "source": [
    "# Analise do cenário em som ambiente"
   ]
  },
  {
   "cell_type": "code",
   "execution_count": 17,
   "id": "762a6416",
   "metadata": {},
   "outputs": [
    {
     "data": {
      "text/plain": [
       "'../Obtenção de dados/Saídas/'"
      ]
     },
     "execution_count": 17,
     "metadata": {},
     "output_type": "execute_result"
    }
   ],
   "source": [
    "base_path = '../Obtenção de dados/Saídas/'\n",
    "base_path"
   ]
  },
  {
   "cell_type": "markdown",
   "id": "364624ea",
   "metadata": {},
   "source": [
    "# Carregar os dados"
   ]
  },
  {
   "cell_type": "code",
   "execution_count": 18,
   "id": "644f69c6",
   "metadata": {},
   "outputs": [
    {
     "data": {
      "text/plain": [
       "['0 - Regime Normal/',\n",
       " '1 - Falta de tensão/',\n",
       " '2 - Sobrecarga/',\n",
       " '3 - Desbalanceamento do eixo/']"
      ]
     },
     "execution_count": 18,
     "metadata": {},
     "output_type": "execute_result"
    }
   ],
   "source": [
    "tests_path = ['0 - Regime Normal/', \n",
    "              '1 - Falta de tensão/', \n",
    "              '2 - Sobrecarga/', \n",
    "              '3 - Desbalanceamento do eixo/']\n",
    "\n",
    "tests_path"
   ]
  },
  {
   "cell_type": "code",
   "execution_count": 19,
   "id": "3f866732",
   "metadata": {},
   "outputs": [
    {
     "data": {
      "text/plain": [
       "['0 - Regime Normal',\n",
       " '1 - Falta de tensão',\n",
       " '2 - Sobrecarga',\n",
       " '3 - Desbalanceamento do eixo']"
      ]
     },
     "execution_count": 19,
     "metadata": {},
     "output_type": "execute_result"
    }
   ],
   "source": [
    "os.listdir(base_path)"
   ]
  },
  {
   "cell_type": "markdown",
   "id": "4f442f7f",
   "metadata": {},
   "source": [
    "### Encontrar o caminho completo de todos os arquivos"
   ]
  },
  {
   "cell_type": "code",
   "execution_count": 7,
   "id": "676eb34d",
   "metadata": {},
   "outputs": [
    {
     "data": {
      "text/plain": [
       "[('../Obtenção de dados/Saídas/0 - Regime Normal/2021-05-26 20_52_05.056246.wav',\n",
       "  '0 - Regime Normal/'),\n",
       " ('../Obtenção de dados/Saídas/0 - Regime Normal/2021-05-26 20_52_19.030997.wav',\n",
       "  '0 - Regime Normal/'),\n",
       " ('../Obtenção de dados/Saídas/0 - Regime Normal/2021-05-26 20_52_48.734353.wav',\n",
       "  '0 - Regime Normal/'),\n",
       " ('../Obtenção de dados/Saídas/0 - Regime Normal/2021-05-26 20_53_01.114803.wav',\n",
       "  '0 - Regime Normal/'),\n",
       " ('../Obtenção de dados/Saídas/0 - Regime Normal/2021-05-26 20_53_12.448972.wav',\n",
       "  '0 - Regime Normal/'),\n",
       " ('../Obtenção de dados/Saídas/0 - Regime Normal/2021-05-26 20_53_24.358845.wav',\n",
       "  '0 - Regime Normal/'),\n",
       " ('../Obtenção de dados/Saídas/0 - Regime Normal/2021-05-26 20_53_43.925687.wav',\n",
       "  '0 - Regime Normal/'),\n",
       " ('../Obtenção de dados/Saídas/0 - Regime Normal/2021-05-26 20_54_01.121870.wav',\n",
       "  '0 - Regime Normal/'),\n",
       " ('../Obtenção de dados/Saídas/0 - Regime Normal/2021-05-26 20_54_13.613173.wav',\n",
       "  '0 - Regime Normal/'),\n",
       " ('../Obtenção de dados/Saídas/0 - Regime Normal/2021-05-26 20_54_25.130846.wav',\n",
       "  '0 - Regime Normal/'),\n",
       " ('../Obtenção de dados/Saídas/0 - Regime Normal/2021-05-26 20_54_37.037314.wav',\n",
       "  '0 - Regime Normal/'),\n",
       " ('../Obtenção de dados/Saídas/0 - Regime Normal/2021-05-26 20_54_48.132438.wav',\n",
       "  '0 - Regime Normal/'),\n",
       " ('../Obtenção de dados/Saídas/0 - Regime Normal/2021-05-26 22_01_35.359185.wav',\n",
       "  '0 - Regime Normal/'),\n",
       " ('../Obtenção de dados/Saídas/0 - Regime Normal/2021-05-26 22_01_47.511928.wav',\n",
       "  '0 - Regime Normal/'),\n",
       " ('../Obtenção de dados/Saídas/0 - Regime Normal/2021-05-26 22_02_01.471486.wav',\n",
       "  '0 - Regime Normal/'),\n",
       " ('../Obtenção de dados/Saídas/0 - Regime Normal/2021-05-26 22_02_12.607124.wav',\n",
       "  '0 - Regime Normal/'),\n",
       " ('../Obtenção de dados/Saídas/0 - Regime Normal/2021-05-26 22_02_24.220128.wav',\n",
       "  '0 - Regime Normal/'),\n",
       " ('../Obtenção de dados/Saídas/0 - Regime Normal/2021-05-26 22_02_35.518746.wav',\n",
       "  '0 - Regime Normal/'),\n",
       " ('../Obtenção de dados/Saídas/0 - Regime Normal/2021-05-26 22_03_08.334314.wav',\n",
       "  '0 - Regime Normal/'),\n",
       " ('../Obtenção de dados/Saídas/0 - Regime Normal/2021-05-26 22_03_19.189881.wav',\n",
       "  '0 - Regime Normal/'),\n",
       " ('../Obtenção de dados/Saídas/0 - Regime Normal/2021-05-26 22_03_29.958938.wav',\n",
       "  '0 - Regime Normal/'),\n",
       " ('../Obtenção de dados/Saídas/0 - Regime Normal/2021-05-26 22_03_40.958462.wav',\n",
       "  '0 - Regime Normal/'),\n",
       " ('../Obtenção de dados/Saídas/0 - Regime Normal/2021-05-26 22_03_54.049081.wav',\n",
       "  '0 - Regime Normal/'),\n",
       " ('../Obtenção de dados/Saídas/0 - Regime Normal/2021-05-26 22_04_04.799341.wav',\n",
       "  '0 - Regime Normal/'),\n",
       " ('../Obtenção de dados/Saídas/1 - Falta de tensão/2021-05-26 20_57_34.723577.wav',\n",
       "  '1 - Falta de tensão/'),\n",
       " ('../Obtenção de dados/Saídas/1 - Falta de tensão/2021-05-26 21_01_15.193305.wav',\n",
       "  '1 - Falta de tensão/'),\n",
       " ('../Obtenção de dados/Saídas/1 - Falta de tensão/2021-05-26 21_01_42.722524.wav',\n",
       "  '1 - Falta de tensão/'),\n",
       " ('../Obtenção de dados/Saídas/1 - Falta de tensão/2021-05-26 21_01_54.225982.wav',\n",
       "  '1 - Falta de tensão/'),\n",
       " ('../Obtenção de dados/Saídas/1 - Falta de tensão/2021-05-26 21_02_17.097680.wav',\n",
       "  '1 - Falta de tensão/'),\n",
       " ('../Obtenção de dados/Saídas/1 - Falta de tensão/2021-05-26 21_11_36.947380.wav',\n",
       "  '1 - Falta de tensão/'),\n",
       " ('../Obtenção de dados/Saídas/1 - Falta de tensão/2021-05-26 21_14_21.649827.wav',\n",
       "  '1 - Falta de tensão/'),\n",
       " ('../Obtenção de dados/Saídas/1 - Falta de tensão/2021-05-26 21_19_59.742587.wav',\n",
       "  '1 - Falta de tensão/'),\n",
       " ('../Obtenção de dados/Saídas/1 - Falta de tensão/2021-05-26 21_22_12.670312.wav',\n",
       "  '1 - Falta de tensão/'),\n",
       " ('../Obtenção de dados/Saídas/1 - Falta de tensão/2021-05-26 21_23_01.473350.wav',\n",
       "  '1 - Falta de tensão/'),\n",
       " ('../Obtenção de dados/Saídas/1 - Falta de tensão/2021-05-26 21_25_19.019990.wav',\n",
       "  '1 - Falta de tensão/'),\n",
       " ('../Obtenção de dados/Saídas/1 - Falta de tensão/2021-05-26 21_26_48.990455.wav',\n",
       "  '1 - Falta de tensão/'),\n",
       " ('../Obtenção de dados/Saídas/1 - Falta de tensão/2021-05-26 21_52_01.317983.wav',\n",
       "  '1 - Falta de tensão/'),\n",
       " ('../Obtenção de dados/Saídas/1 - Falta de tensão/2021-05-26 21_52_12.589382.wav',\n",
       "  '1 - Falta de tensão/'),\n",
       " ('../Obtenção de dados/Saídas/1 - Falta de tensão/2021-05-26 21_52_23.465594.wav',\n",
       "  '1 - Falta de tensão/'),\n",
       " ('../Obtenção de dados/Saídas/1 - Falta de tensão/2021-05-26 21_52_36.682779.wav',\n",
       "  '1 - Falta de tensão/'),\n",
       " ('../Obtenção de dados/Saídas/1 - Falta de tensão/2021-05-26 21_52_47.698133.wav',\n",
       "  '1 - Falta de tensão/'),\n",
       " ('../Obtenção de dados/Saídas/1 - Falta de tensão/2021-05-26 21_52_58.747160.wav',\n",
       "  '1 - Falta de tensão/'),\n",
       " ('../Obtenção de dados/Saídas/1 - Falta de tensão/2021-05-26 21_53_11.103712.wav',\n",
       "  '1 - Falta de tensão/'),\n",
       " ('../Obtenção de dados/Saídas/1 - Falta de tensão/2021-05-26 21_53_24.933286.wav',\n",
       "  '1 - Falta de tensão/'),\n",
       " ('../Obtenção de dados/Saídas/1 - Falta de tensão/2021-05-26 21_53_36.499406.wav',\n",
       "  '1 - Falta de tensão/'),\n",
       " ('../Obtenção de dados/Saídas/1 - Falta de tensão/2021-05-26 21_53_47.926832.wav',\n",
       "  '1 - Falta de tensão/'),\n",
       " ('../Obtenção de dados/Saídas/1 - Falta de tensão/2021-05-26 21_54_10.942758.wav',\n",
       "  '1 - Falta de tensão/'),\n",
       " ('../Obtenção de dados/Saídas/1 - Falta de tensão/2021-05-26 21_54_22.172506.wav',\n",
       "  '1 - Falta de tensão/'),\n",
       " ('../Obtenção de dados/Saídas/2 - Sobrecarga/2021-05-26 21_29_52.639584.wav',\n",
       "  '2 - Sobrecarga/'),\n",
       " ('../Obtenção de dados/Saídas/2 - Sobrecarga/2021-05-26 21_30_07.287844.wav',\n",
       "  '2 - Sobrecarga/'),\n",
       " ('../Obtenção de dados/Saídas/2 - Sobrecarga/2021-05-26 21_31_23.045015.wav',\n",
       "  '2 - Sobrecarga/'),\n",
       " ('../Obtenção de dados/Saídas/2 - Sobrecarga/2021-05-26 21_31_36.998812.wav',\n",
       "  '2 - Sobrecarga/'),\n",
       " ('../Obtenção de dados/Saídas/2 - Sobrecarga/2021-05-26 21_32_27.349514.wav',\n",
       "  '2 - Sobrecarga/'),\n",
       " ('../Obtenção de dados/Saídas/2 - Sobrecarga/2021-05-26 21_32_40.661905.wav',\n",
       "  '2 - Sobrecarga/'),\n",
       " ('../Obtenção de dados/Saídas/2 - Sobrecarga/2021-05-26 21_33_01.165547.wav',\n",
       "  '2 - Sobrecarga/'),\n",
       " ('../Obtenção de dados/Saídas/2 - Sobrecarga/2021-05-26 21_33_14.009581.wav',\n",
       "  '2 - Sobrecarga/'),\n",
       " ('../Obtenção de dados/Saídas/2 - Sobrecarga/2021-05-26 21_33_27.310885.wav',\n",
       "  '2 - Sobrecarga/'),\n",
       " ('../Obtenção de dados/Saídas/2 - Sobrecarga/2021-05-26 21_33_51.109577.wav',\n",
       "  '2 - Sobrecarga/'),\n",
       " ('../Obtenção de dados/Saídas/2 - Sobrecarga/2021-05-26 21_34_01.227154.wav',\n",
       "  '2 - Sobrecarga/'),\n",
       " ('../Obtenção de dados/Saídas/2 - Sobrecarga/2021-05-26 21_34_11.374896.wav',\n",
       "  '2 - Sobrecarga/'),\n",
       " ('../Obtenção de dados/Saídas/2 - Sobrecarga/2021-05-26 22_07_40.758852.wav',\n",
       "  '2 - Sobrecarga/'),\n",
       " ('../Obtenção de dados/Saídas/2 - Sobrecarga/2021-05-26 22_07_53.586308.wav',\n",
       "  '2 - Sobrecarga/'),\n",
       " ('../Obtenção de dados/Saídas/2 - Sobrecarga/2021-05-26 22_08_13.843309.wav',\n",
       "  '2 - Sobrecarga/'),\n",
       " ('../Obtenção de dados/Saídas/2 - Sobrecarga/2021-05-26 22_08_26.661042.wav',\n",
       "  '2 - Sobrecarga/'),\n",
       " ('../Obtenção de dados/Saídas/2 - Sobrecarga/2021-05-26 22_08_39.061739.wav',\n",
       "  '2 - Sobrecarga/'),\n",
       " ('../Obtenção de dados/Saídas/2 - Sobrecarga/2021-05-26 22_09_26.019891.wav',\n",
       "  '2 - Sobrecarga/'),\n",
       " ('../Obtenção de dados/Saídas/2 - Sobrecarga/2021-05-26 22_09_39.964743.wav',\n",
       "  '2 - Sobrecarga/'),\n",
       " ('../Obtenção de dados/Saídas/2 - Sobrecarga/2021-05-26 22_09_52.859921.wav',\n",
       "  '2 - Sobrecarga/'),\n",
       " ('../Obtenção de dados/Saídas/2 - Sobrecarga/2021-05-26 22_10_05.416206.wav',\n",
       "  '2 - Sobrecarga/'),\n",
       " ('../Obtenção de dados/Saídas/2 - Sobrecarga/2021-05-26 22_10_18.111724.wav',\n",
       "  '2 - Sobrecarga/'),\n",
       " ('../Obtenção de dados/Saídas/2 - Sobrecarga/2021-05-26 22_10_31.573769.wav',\n",
       "  '2 - Sobrecarga/'),\n",
       " ('../Obtenção de dados/Saídas/2 - Sobrecarga/2021-05-26 22_10_44.552912.wav',\n",
       "  '2 - Sobrecarga/'),\n",
       " ('../Obtenção de dados/Saídas/3 - Desbalanceamento do eixo/2021-05-26 21_42_55.301808.wav',\n",
       "  '3 - Desbalanceamento do eixo/'),\n",
       " ('../Obtenção de dados/Saídas/3 - Desbalanceamento do eixo/2021-05-26 21_44_42.744929.wav',\n",
       "  '3 - Desbalanceamento do eixo/'),\n",
       " ('../Obtenção de dados/Saídas/3 - Desbalanceamento do eixo/2021-05-26 21_45_24.848066.wav',\n",
       "  '3 - Desbalanceamento do eixo/'),\n",
       " ('../Obtenção de dados/Saídas/3 - Desbalanceamento do eixo/2021-05-26 21_45_47.199023.wav',\n",
       "  '3 - Desbalanceamento do eixo/'),\n",
       " ('../Obtenção de dados/Saídas/3 - Desbalanceamento do eixo/2021-05-26 21_45_58.494619.wav',\n",
       "  '3 - Desbalanceamento do eixo/'),\n",
       " ('../Obtenção de dados/Saídas/3 - Desbalanceamento do eixo/2021-05-26 21_46_09.281196.wav',\n",
       "  '3 - Desbalanceamento do eixo/'),\n",
       " ('../Obtenção de dados/Saídas/3 - Desbalanceamento do eixo/2021-05-26 21_46_50.377921.wav',\n",
       "  '3 - Desbalanceamento do eixo/'),\n",
       " ('../Obtenção de dados/Saídas/3 - Desbalanceamento do eixo/2021-05-26 21_47_00.511879.wav',\n",
       "  '3 - Desbalanceamento do eixo/'),\n",
       " ('../Obtenção de dados/Saídas/3 - Desbalanceamento do eixo/2021-05-26 21_48_08.231853.wav',\n",
       "  '3 - Desbalanceamento do eixo/'),\n",
       " ('../Obtenção de dados/Saídas/3 - Desbalanceamento do eixo/2021-05-26 21_48_19.707781.wav',\n",
       "  '3 - Desbalanceamento do eixo/'),\n",
       " ('../Obtenção de dados/Saídas/3 - Desbalanceamento do eixo/2021-05-26 21_48_30.994333.wav',\n",
       "  '3 - Desbalanceamento do eixo/'),\n",
       " ('../Obtenção de dados/Saídas/3 - Desbalanceamento do eixo/2021-05-26 21_48_42.890983.wav',\n",
       "  '3 - Desbalanceamento do eixo/'),\n",
       " ('../Obtenção de dados/Saídas/3 - Desbalanceamento do eixo/2021-05-26 21_55_47.771111.wav',\n",
       "  '3 - Desbalanceamento do eixo/'),\n",
       " ('../Obtenção de dados/Saídas/3 - Desbalanceamento do eixo/2021-05-26 21_56_00.457387.wav',\n",
       "  '3 - Desbalanceamento do eixo/'),\n",
       " ('../Obtenção de dados/Saídas/3 - Desbalanceamento do eixo/2021-05-26 21_56_11.419927.wav',\n",
       "  '3 - Desbalanceamento do eixo/'),\n",
       " ('../Obtenção de dados/Saídas/3 - Desbalanceamento do eixo/2021-05-26 21_56_22.593388.wav',\n",
       "  '3 - Desbalanceamento do eixo/'),\n",
       " ('../Obtenção de dados/Saídas/3 - Desbalanceamento do eixo/2021-05-26 21_56_33.424180.wav',\n",
       "  '3 - Desbalanceamento do eixo/'),\n",
       " ('../Obtenção de dados/Saídas/3 - Desbalanceamento do eixo/2021-05-26 21_56_44.588094.wav',\n",
       "  '3 - Desbalanceamento do eixo/'),\n",
       " ('../Obtenção de dados/Saídas/3 - Desbalanceamento do eixo/2021-05-26 21_56_55.326143.wav',\n",
       "  '3 - Desbalanceamento do eixo/'),\n",
       " ('../Obtenção de dados/Saídas/3 - Desbalanceamento do eixo/2021-05-26 21_57_55.278574.wav',\n",
       "  '3 - Desbalanceamento do eixo/'),\n",
       " ('../Obtenção de dados/Saídas/3 - Desbalanceamento do eixo/2021-05-26 21_58_06.528957.wav',\n",
       "  '3 - Desbalanceamento do eixo/'),\n",
       " ('../Obtenção de dados/Saídas/3 - Desbalanceamento do eixo/2021-05-26 21_58_17.581098.wav',\n",
       "  '3 - Desbalanceamento do eixo/'),\n",
       " ('../Obtenção de dados/Saídas/3 - Desbalanceamento do eixo/2021-05-26 21_58_28.367005.wav',\n",
       "  '3 - Desbalanceamento do eixo/'),\n",
       " ('../Obtenção de dados/Saídas/3 - Desbalanceamento do eixo/2021-05-26 21_58_39.487154.wav',\n",
       "  '3 - Desbalanceamento do eixo/')]"
      ]
     },
     "execution_count": 7,
     "metadata": {},
     "output_type": "execute_result"
    }
   ],
   "source": [
    "all_files = []\n",
    "\n",
    "for f in tests_path:    \n",
    "    all_files = all_files + [(base_path + f + i, f) for i in os.listdir(base_path + f)]\n",
    "\n",
    "all_files"
   ]
  },
  {
   "cell_type": "markdown",
   "id": "f7b5e4af",
   "metadata": {},
   "source": [
    "## Carregar os arquivos e adiciona-los em um conjunto manipulável"
   ]
  },
  {
   "cell_type": "markdown",
   "id": "3c3065f8",
   "metadata": {},
   "source": [
    "#### Exemplo para um arquivo"
   ]
  },
  {
   "cell_type": "code",
   "execution_count": 8,
   "id": "75285d66",
   "metadata": {},
   "outputs": [],
   "source": [
    "import wave\n",
    "import struct\n",
    "\n",
    "CHUNK = 1024 * 2\n",
    "\n",
    "# some_file = '../Obtenção de dados/Saídas/0 - Regime Normal/2021-05-26 20:53:43.925687.wav'\n",
    "some_file = all_files[0][0]\n",
    "\n",
    "wave_file = wave.open(some_file, 'rb')\n",
    "data = wave_file.readframes(CHUNK)\n",
    "dataInt = struct.unpack(str(CHUNK) + 'h', data)"
   ]
  },
  {
   "cell_type": "markdown",
   "id": "c379672e",
   "metadata": {},
   "source": [
    "#### Carregar todos"
   ]
  },
  {
   "cell_type": "code",
   "execution_count": 9,
   "id": "327b2585",
   "metadata": {},
   "outputs": [
    {
     "data": {
      "text/html": [
       "<div>\n",
       "<style scoped>\n",
       "    .dataframe tbody tr th:only-of-type {\n",
       "        vertical-align: middle;\n",
       "    }\n",
       "\n",
       "    .dataframe tbody tr th {\n",
       "        vertical-align: top;\n",
       "    }\n",
       "\n",
       "    .dataframe thead th {\n",
       "        text-align: right;\n",
       "    }\n",
       "</style>\n",
       "<table border=\"1\" class=\"dataframe\">\n",
       "  <thead>\n",
       "    <tr style=\"text-align: right;\">\n",
       "      <th></th>\n",
       "      <th>0</th>\n",
       "      <th>1</th>\n",
       "      <th>2</th>\n",
       "      <th>3</th>\n",
       "      <th>4</th>\n",
       "      <th>5</th>\n",
       "      <th>6</th>\n",
       "      <th>7</th>\n",
       "      <th>8</th>\n",
       "      <th>9</th>\n",
       "      <th>...</th>\n",
       "      <th>2039</th>\n",
       "      <th>2040</th>\n",
       "      <th>2041</th>\n",
       "      <th>2042</th>\n",
       "      <th>2043</th>\n",
       "      <th>2044</th>\n",
       "      <th>2045</th>\n",
       "      <th>2046</th>\n",
       "      <th>2047</th>\n",
       "      <th>class</th>\n",
       "    </tr>\n",
       "  </thead>\n",
       "  <tbody>\n",
       "    <tr>\n",
       "      <th>0</th>\n",
       "      <td>1262.0</td>\n",
       "      <td>1180.0</td>\n",
       "      <td>1160.0</td>\n",
       "      <td>1200.0</td>\n",
       "      <td>1273.0</td>\n",
       "      <td>1372.0</td>\n",
       "      <td>1399.0</td>\n",
       "      <td>1465.0</td>\n",
       "      <td>1578.0</td>\n",
       "      <td>1595.0</td>\n",
       "      <td>...</td>\n",
       "      <td>-5.0</td>\n",
       "      <td>68.0</td>\n",
       "      <td>124.0</td>\n",
       "      <td>152.0</td>\n",
       "      <td>146.0</td>\n",
       "      <td>90.0</td>\n",
       "      <td>2.0</td>\n",
       "      <td>-131.0</td>\n",
       "      <td>-182.0</td>\n",
       "      <td>0 - Regime Normal/</td>\n",
       "    </tr>\n",
       "    <tr>\n",
       "      <th>1</th>\n",
       "      <td>-3654.0</td>\n",
       "      <td>-3577.0</td>\n",
       "      <td>-3553.0</td>\n",
       "      <td>-3519.0</td>\n",
       "      <td>-3389.0</td>\n",
       "      <td>-3346.0</td>\n",
       "      <td>-3378.0</td>\n",
       "      <td>-3438.0</td>\n",
       "      <td>-3496.0</td>\n",
       "      <td>-3498.0</td>\n",
       "      <td>...</td>\n",
       "      <td>-85.0</td>\n",
       "      <td>-91.0</td>\n",
       "      <td>-203.0</td>\n",
       "      <td>-305.0</td>\n",
       "      <td>-355.0</td>\n",
       "      <td>-335.0</td>\n",
       "      <td>-331.0</td>\n",
       "      <td>-322.0</td>\n",
       "      <td>-294.0</td>\n",
       "      <td>0 - Regime Normal/</td>\n",
       "    </tr>\n",
       "    <tr>\n",
       "      <th>2</th>\n",
       "      <td>-551.0</td>\n",
       "      <td>-399.0</td>\n",
       "      <td>-394.0</td>\n",
       "      <td>-418.0</td>\n",
       "      <td>-445.0</td>\n",
       "      <td>-379.0</td>\n",
       "      <td>-283.0</td>\n",
       "      <td>-310.0</td>\n",
       "      <td>-253.0</td>\n",
       "      <td>-125.0</td>\n",
       "      <td>...</td>\n",
       "      <td>2240.0</td>\n",
       "      <td>2329.0</td>\n",
       "      <td>2438.0</td>\n",
       "      <td>2558.0</td>\n",
       "      <td>2550.0</td>\n",
       "      <td>2380.0</td>\n",
       "      <td>2297.0</td>\n",
       "      <td>2343.0</td>\n",
       "      <td>2320.0</td>\n",
       "      <td>0 - Regime Normal/</td>\n",
       "    </tr>\n",
       "    <tr>\n",
       "      <th>3</th>\n",
       "      <td>1775.0</td>\n",
       "      <td>1653.0</td>\n",
       "      <td>1672.0</td>\n",
       "      <td>1650.0</td>\n",
       "      <td>1670.0</td>\n",
       "      <td>1720.0</td>\n",
       "      <td>1767.0</td>\n",
       "      <td>1847.0</td>\n",
       "      <td>1947.0</td>\n",
       "      <td>2004.0</td>\n",
       "      <td>...</td>\n",
       "      <td>3742.0</td>\n",
       "      <td>3800.0</td>\n",
       "      <td>3850.0</td>\n",
       "      <td>4008.0</td>\n",
       "      <td>4176.0</td>\n",
       "      <td>4197.0</td>\n",
       "      <td>4116.0</td>\n",
       "      <td>4012.0</td>\n",
       "      <td>3931.0</td>\n",
       "      <td>0 - Regime Normal/</td>\n",
       "    </tr>\n",
       "    <tr>\n",
       "      <th>4</th>\n",
       "      <td>2305.0</td>\n",
       "      <td>2196.0</td>\n",
       "      <td>2092.0</td>\n",
       "      <td>2028.0</td>\n",
       "      <td>1909.0</td>\n",
       "      <td>1807.0</td>\n",
       "      <td>1776.0</td>\n",
       "      <td>1839.0</td>\n",
       "      <td>1902.0</td>\n",
       "      <td>1943.0</td>\n",
       "      <td>...</td>\n",
       "      <td>-1234.0</td>\n",
       "      <td>-1330.0</td>\n",
       "      <td>-1386.0</td>\n",
       "      <td>-1403.0</td>\n",
       "      <td>-1380.0</td>\n",
       "      <td>-1344.0</td>\n",
       "      <td>-1329.0</td>\n",
       "      <td>-1344.0</td>\n",
       "      <td>-1366.0</td>\n",
       "      <td>0 - Regime Normal/</td>\n",
       "    </tr>\n",
       "  </tbody>\n",
       "</table>\n",
       "<p>5 rows × 2049 columns</p>\n",
       "</div>"
      ],
      "text/plain": [
       "        0       1       2       3       4       5       6       7       8  \\\n",
       "0  1262.0  1180.0  1160.0  1200.0  1273.0  1372.0  1399.0  1465.0  1578.0   \n",
       "1 -3654.0 -3577.0 -3553.0 -3519.0 -3389.0 -3346.0 -3378.0 -3438.0 -3496.0   \n",
       "2  -551.0  -399.0  -394.0  -418.0  -445.0  -379.0  -283.0  -310.0  -253.0   \n",
       "3  1775.0  1653.0  1672.0  1650.0  1670.0  1720.0  1767.0  1847.0  1947.0   \n",
       "4  2305.0  2196.0  2092.0  2028.0  1909.0  1807.0  1776.0  1839.0  1902.0   \n",
       "\n",
       "        9  ...    2039    2040    2041    2042    2043    2044    2045  \\\n",
       "0  1595.0  ...    -5.0    68.0   124.0   152.0   146.0    90.0     2.0   \n",
       "1 -3498.0  ...   -85.0   -91.0  -203.0  -305.0  -355.0  -335.0  -331.0   \n",
       "2  -125.0  ...  2240.0  2329.0  2438.0  2558.0  2550.0  2380.0  2297.0   \n",
       "3  2004.0  ...  3742.0  3800.0  3850.0  4008.0  4176.0  4197.0  4116.0   \n",
       "4  1943.0  ... -1234.0 -1330.0 -1386.0 -1403.0 -1380.0 -1344.0 -1329.0   \n",
       "\n",
       "     2046    2047               class  \n",
       "0  -131.0  -182.0  0 - Regime Normal/  \n",
       "1  -322.0  -294.0  0 - Regime Normal/  \n",
       "2  2343.0  2320.0  0 - Regime Normal/  \n",
       "3  4012.0  3931.0  0 - Regime Normal/  \n",
       "4 -1344.0 -1366.0  0 - Regime Normal/  \n",
       "\n",
       "[5 rows x 2049 columns]"
      ]
     },
     "execution_count": 9,
     "metadata": {},
     "output_type": "execute_result"
    }
   ],
   "source": [
    "df_audio = pd.DataFrame()\n",
    "\n",
    "for f, c in all_files:\n",
    "    df_aux = pd.DataFrame()\n",
    "    \n",
    "    wave_file = wave.open(f, 'rb')\n",
    "    data = wave_file.readframes(CHUNK)\n",
    "    dataInt = struct.unpack(str(CHUNK) + 'h', data)\n",
    "    \n",
    "    df_aux = df_aux.append(pd.Series(dataInt), ignore_index=True)\n",
    "    df_aux['class'] = c\n",
    "    df_audio = pd.concat([df_audio, df_aux])\n",
    "    \n",
    "    \n",
    "    \n",
    "df_audio = df_audio.reset_index(drop=True)\n",
    "df_audio.head()"
   ]
  },
  {
   "cell_type": "markdown",
   "id": "25236b51",
   "metadata": {},
   "source": [
    "## Salvar os dados em um conjunto intermediário"
   ]
  },
  {
   "cell_type": "code",
   "execution_count": 10,
   "id": "7c04027b",
   "metadata": {},
   "outputs": [],
   "source": [
    "df_audio.to_csv('Saídas/dados_carregados.csv')"
   ]
  },
  {
   "cell_type": "markdown",
   "id": "def8f580",
   "metadata": {},
   "source": [
    "### Verificar a quantidade de amostras por classe"
   ]
  },
  {
   "cell_type": "code",
   "execution_count": 11,
   "id": "fae5ad90",
   "metadata": {},
   "outputs": [
    {
     "data": {
      "image/png": "[encoded data removed]",
      "text/plain": [
       "<Figure size 1080x360 with 1 Axes>"
      ]
     },
     "metadata": {
      "needs_background": "light"
     },
     "output_type": "display_data"
    }
   ],
   "source": [
    "plt.figure(figsize=(15,5))\n",
    "sns.countplot(data=df_audio, x = 'class');"
   ]
  },
  {
   "cell_type": "markdown",
   "id": "f3ce3fb3",
   "metadata": {},
   "source": [
    "# Análise das formas de onda no dominio da transformada"
   ]
  },
  {
   "cell_type": "code",
   "execution_count": 12,
   "id": "11fa3a2c",
   "metadata": {},
   "outputs": [],
   "source": [
    "regime_normal = all_files[0][0]\n",
    "falta_tensao = all_files[28][0]\n",
    "sobrecarga = all_files[56][0]\n",
    "desbalanceado = all_files[84][0]"
   ]
  },
  {
   "cell_type": "markdown",
   "id": "9d85e872",
   "metadata": {},
   "source": [
    "### Regime normal"
   ]
  },
  {
   "cell_type": "code",
   "execution_count": 37,
   "id": "5d7c6d9b",
   "metadata": {},
   "outputs": [
    {
     "data": {
      "image/png": "[encoded data removed]",
      "text/plain": [
       "<Figure size 1080x360 with 2 Axes>"
      ]
     },
     "metadata": {
      "needs_background": "light"
     },
     "output_type": "display_data"
    }
   ],
   "source": [
    "plot_wave_with_fft(regime_normal)"
   ]
  },
  {
   "cell_type": "markdown",
   "id": "d2106f4d",
   "metadata": {},
   "source": [
    "### Falta de tensão"
   ]
  },
  {
   "cell_type": "code",
   "execution_count": 38,
   "id": "46ae1227",
   "metadata": {
    "scrolled": true
   },
   "outputs": [
    {
     "data": {
      "image/png": "[encoded data removed]",
      "text/plain": [
       "<Figure size 1080x360 with 2 Axes>"
      ]
     },
     "metadata": {
      "needs_background": "light"
     },
     "output_type": "display_data"
    }
   ],
   "source": [
    "plot_wave_with_fft(falta_tensao)"
   ]
  },
  {
   "cell_type": "markdown",
   "id": "0cac6ec5",
   "metadata": {},
   "source": [
    "### Sobrecarga"
   ]
  },
  {
   "cell_type": "code",
   "execution_count": 39,
   "id": "d07224a4",
   "metadata": {},
   "outputs": [
    {
     "data": {
      "image/png": "[encoded data removed]",
      "text/plain": [
       "<Figure size 1080x360 with 2 Axes>"
      ]
     },
     "metadata": {
      "needs_background": "light"
     },
     "output_type": "display_data"
    }
   ],
   "source": [
    "plot_wave_with_fft(sobrecarga)"
   ]
  },
  {
   "cell_type": "markdown",
   "id": "e805f86f",
   "metadata": {},
   "source": [
    "### Desbalanceamento"
   ]
  },
  {
   "cell_type": "code",
   "execution_count": 40,
   "id": "4e75b044",
   "metadata": {},
   "outputs": [
    {
     "data": {
      "image/png": "[encoded data removed]",
      "text/plain": [
       "<Figure size 1080x360 with 2 Axes>"
      ]
     },
     "metadata": {
      "needs_background": "light"
     },
     "output_type": "display_data"
    }
   ],
   "source": [
    "plot_wave_with_fft(desbalanceado)"
   ]
  },
  {
   "cell_type": "markdown",
   "id": "3477f39d",
   "metadata": {},
   "source": [
    "### Notas observadas\n",
    "\n",
    "* Pouca variação no espectro\n",
    "* A aplicacao de um filtro passa alta pode ser interessante visto que a sobrecarga e o regime normal em baixas frequencias sao muito semelhantes\n",
    "\n",
    "### Considerações no processamento\n",
    "* Experimentar um modo hibrido de treinamento caso não se tenha um bom desempenho apenas com a FFT\\"
   ]
  },
  {
   "cell_type": "markdown",
   "id": "bda46d72",
   "metadata": {},
   "source": [
    "# Resumo das faixas de frequência"
   ]
  },
  {
   "cell_type": "code",
   "execution_count": 32,
   "id": "e06e242a",
   "metadata": {},
   "outputs": [
    {
     "data": {
      "image/png": "[encoded data removed]",
      "text/plain": [
       "<Figure size 1080x720 with 1 Axes>"
      ]
     },
     "metadata": {
      "needs_background": "light"
     },
     "output_type": "display_data"
    }
   ],
   "source": [
    "lista_fft = [\n",
    "    regime_normal,\n",
    "    falta_tensao,\n",
    "    sobrecarga,\n",
    "    desbalanceado\n",
    "]\n",
    "\n",
    "plot_multiple_FFT(lista_fft)"
   ]
  },
  {
   "cell_type": "markdown",
   "id": "970316f9",
   "metadata": {},
   "source": [
    "### Notas:\n",
    "* Amplo espectro com baixa variação "
   ]
  },
  {
   "cell_type": "markdown",
   "id": "2dc3a44e",
   "metadata": {},
   "source": [
    "# Análise com Espectograma "
   ]
  },
  {
   "cell_type": "code",
   "execution_count": 42,
   "id": "445b7b53",
   "metadata": {},
   "outputs": [
    {
     "name": "stderr",
     "output_type": "stream",
     "text": [
      "<ipython-input-41-6412bf7ebe41>:77: MatplotlibDeprecationWarning: shading='flat' when X and Y have the same dimensions as C is deprecated since 3.3.  Either specify the corners of the quadrilaterals with X and Y, or pass shading='auto', 'nearest' or 'gouraud', or set rcParams['pcolor.shading'].  This will become an error two minor releases later.\n",
      "  plt.pcolormesh(t, f, Sxx)\n"
     ]
    },
    {
     "data": {
      "image/png": "[encoded data removed]",
      "text/plain": [
       "<Figure size 432x288 with 1 Axes>"
      ]
     },
     "metadata": {
      "needs_background": "light"
     },
     "output_type": "display_data"
    }
   ],
   "source": [
    "spectrograma(regime_normal)"
   ]
  },
  {
   "cell_type": "code",
   "execution_count": 18,
   "id": "54795893",
   "metadata": {},
   "outputs": [
    {
     "data": {
      "image/png": "[encoded data removed]",
      "text/plain": [
       "<Figure size 432x288 with 1 Axes>"
      ]
     },
     "metadata": {
      "needs_background": "light"
     },
     "output_type": "display_data"
    }
   ],
   "source": [
    "spectrograma(falta_tensao)"
   ]
  },
  {
   "cell_type": "code",
   "execution_count": 19,
   "id": "47178379",
   "metadata": {},
   "outputs": [
    {
     "data": {
      "image/png": "[encoded data removed]",
      "text/plain": [
       "<Figure size 432x288 with 1 Axes>"
      ]
     },
     "metadata": {
      "needs_background": "light"
     },
     "output_type": "display_data"
    }
   ],
   "source": [
    "spectrograma(sobrecarga)"
   ]
  },
  {
   "cell_type": "code",
   "execution_count": 20,
   "id": "a04059ea",
   "metadata": {},
   "outputs": [
    {
     "data": {
      "image/png": "[encoded data removed]",
      "text/plain": [
       "<Figure size 432x288 with 1 Axes>"
      ]
     },
     "metadata": {
      "needs_background": "light"
     },
     "output_type": "display_data"
    }
   ],
   "source": [
    "spectrograma(desbalanceado)"
   ]
  },
  {
   "cell_type": "markdown",
   "id": "c8fcf1bb",
   "metadata": {},
   "source": [
    "### Notas\n",
    "* A variação da frequência no tempo fica um pouco mais evidente com o uso do espectrograma"
   ]
  },
  {
   "cell_type": "markdown",
   "id": "16dc9e2f",
   "metadata": {},
   "source": [
    "# 1º Teste: Conjunto de dados cru sem aplicação da FFT"
   ]
  },
  {
   "cell_type": "code",
   "execution_count": 21,
   "id": "52dbc33d",
   "metadata": {},
   "outputs": [
    {
     "data": {
      "text/html": [
       "<div>\n",
       "<style scoped>\n",
       "    .dataframe tbody tr th:only-of-type {\n",
       "        vertical-align: middle;\n",
       "    }\n",
       "\n",
       "    .dataframe tbody tr th {\n",
       "        vertical-align: top;\n",
       "    }\n",
       "\n",
       "    .dataframe thead th {\n",
       "        text-align: right;\n",
       "    }\n",
       "</style>\n",
       "<table border=\"1\" class=\"dataframe\">\n",
       "  <thead>\n",
       "    <tr style=\"text-align: right;\">\n",
       "      <th></th>\n",
       "      <th>0</th>\n",
       "      <th>1</th>\n",
       "      <th>2</th>\n",
       "      <th>3</th>\n",
       "      <th>4</th>\n",
       "      <th>5</th>\n",
       "      <th>6</th>\n",
       "      <th>7</th>\n",
       "      <th>8</th>\n",
       "      <th>9</th>\n",
       "      <th>...</th>\n",
       "      <th>2039</th>\n",
       "      <th>2040</th>\n",
       "      <th>2041</th>\n",
       "      <th>2042</th>\n",
       "      <th>2043</th>\n",
       "      <th>2044</th>\n",
       "      <th>2045</th>\n",
       "      <th>2046</th>\n",
       "      <th>2047</th>\n",
       "      <th>class</th>\n",
       "    </tr>\n",
       "  </thead>\n",
       "  <tbody>\n",
       "    <tr>\n",
       "      <th>0</th>\n",
       "      <td>1262.0</td>\n",
       "      <td>1180.0</td>\n",
       "      <td>1160.0</td>\n",
       "      <td>1200.0</td>\n",
       "      <td>1273.0</td>\n",
       "      <td>1372.0</td>\n",
       "      <td>1399.0</td>\n",
       "      <td>1465.0</td>\n",
       "      <td>1578.0</td>\n",
       "      <td>1595.0</td>\n",
       "      <td>...</td>\n",
       "      <td>-5.0</td>\n",
       "      <td>68.0</td>\n",
       "      <td>124.0</td>\n",
       "      <td>152.0</td>\n",
       "      <td>146.0</td>\n",
       "      <td>90.0</td>\n",
       "      <td>2.0</td>\n",
       "      <td>-131.0</td>\n",
       "      <td>-182.0</td>\n",
       "      <td>0 - Regime Normal/</td>\n",
       "    </tr>\n",
       "    <tr>\n",
       "      <th>1</th>\n",
       "      <td>-3654.0</td>\n",
       "      <td>-3577.0</td>\n",
       "      <td>-3553.0</td>\n",
       "      <td>-3519.0</td>\n",
       "      <td>-3389.0</td>\n",
       "      <td>-3346.0</td>\n",
       "      <td>-3378.0</td>\n",
       "      <td>-3438.0</td>\n",
       "      <td>-3496.0</td>\n",
       "      <td>-3498.0</td>\n",
       "      <td>...</td>\n",
       "      <td>-85.0</td>\n",
       "      <td>-91.0</td>\n",
       "      <td>-203.0</td>\n",
       "      <td>-305.0</td>\n",
       "      <td>-355.0</td>\n",
       "      <td>-335.0</td>\n",
       "      <td>-331.0</td>\n",
       "      <td>-322.0</td>\n",
       "      <td>-294.0</td>\n",
       "      <td>0 - Regime Normal/</td>\n",
       "    </tr>\n",
       "    <tr>\n",
       "      <th>2</th>\n",
       "      <td>-551.0</td>\n",
       "      <td>-399.0</td>\n",
       "      <td>-394.0</td>\n",
       "      <td>-418.0</td>\n",
       "      <td>-445.0</td>\n",
       "      <td>-379.0</td>\n",
       "      <td>-283.0</td>\n",
       "      <td>-310.0</td>\n",
       "      <td>-253.0</td>\n",
       "      <td>-125.0</td>\n",
       "      <td>...</td>\n",
       "      <td>2240.0</td>\n",
       "      <td>2329.0</td>\n",
       "      <td>2438.0</td>\n",
       "      <td>2558.0</td>\n",
       "      <td>2550.0</td>\n",
       "      <td>2380.0</td>\n",
       "      <td>2297.0</td>\n",
       "      <td>2343.0</td>\n",
       "      <td>2320.0</td>\n",
       "      <td>0 - Regime Normal/</td>\n",
       "    </tr>\n",
       "    <tr>\n",
       "      <th>3</th>\n",
       "      <td>1775.0</td>\n",
       "      <td>1653.0</td>\n",
       "      <td>1672.0</td>\n",
       "      <td>1650.0</td>\n",
       "      <td>1670.0</td>\n",
       "      <td>1720.0</td>\n",
       "      <td>1767.0</td>\n",
       "      <td>1847.0</td>\n",
       "      <td>1947.0</td>\n",
       "      <td>2004.0</td>\n",
       "      <td>...</td>\n",
       "      <td>3742.0</td>\n",
       "      <td>3800.0</td>\n",
       "      <td>3850.0</td>\n",
       "      <td>4008.0</td>\n",
       "      <td>4176.0</td>\n",
       "      <td>4197.0</td>\n",
       "      <td>4116.0</td>\n",
       "      <td>4012.0</td>\n",
       "      <td>3931.0</td>\n",
       "      <td>0 - Regime Normal/</td>\n",
       "    </tr>\n",
       "    <tr>\n",
       "      <th>4</th>\n",
       "      <td>2305.0</td>\n",
       "      <td>2196.0</td>\n",
       "      <td>2092.0</td>\n",
       "      <td>2028.0</td>\n",
       "      <td>1909.0</td>\n",
       "      <td>1807.0</td>\n",
       "      <td>1776.0</td>\n",
       "      <td>1839.0</td>\n",
       "      <td>1902.0</td>\n",
       "      <td>1943.0</td>\n",
       "      <td>...</td>\n",
       "      <td>-1234.0</td>\n",
       "      <td>-1330.0</td>\n",
       "      <td>-1386.0</td>\n",
       "      <td>-1403.0</td>\n",
       "      <td>-1380.0</td>\n",
       "      <td>-1344.0</td>\n",
       "      <td>-1329.0</td>\n",
       "      <td>-1344.0</td>\n",
       "      <td>-1366.0</td>\n",
       "      <td>0 - Regime Normal/</td>\n",
       "    </tr>\n",
       "  </tbody>\n",
       "</table>\n",
       "<p>5 rows × 2049 columns</p>\n",
       "</div>"
      ],
      "text/plain": [
       "        0       1       2       3       4       5       6       7       8  \\\n",
       "0  1262.0  1180.0  1160.0  1200.0  1273.0  1372.0  1399.0  1465.0  1578.0   \n",
       "1 -3654.0 -3577.0 -3553.0 -3519.0 -3389.0 -3346.0 -3378.0 -3438.0 -3496.0   \n",
       "2  -551.0  -399.0  -394.0  -418.0  -445.0  -379.0  -283.0  -310.0  -253.0   \n",
       "3  1775.0  1653.0  1672.0  1650.0  1670.0  1720.0  1767.0  1847.0  1947.0   \n",
       "4  2305.0  2196.0  2092.0  2028.0  1909.0  1807.0  1776.0  1839.0  1902.0   \n",
       "\n",
       "        9  ...    2039    2040    2041    2042    2043    2044    2045  \\\n",
       "0  1595.0  ...    -5.0    68.0   124.0   152.0   146.0    90.0     2.0   \n",
       "1 -3498.0  ...   -85.0   -91.0  -203.0  -305.0  -355.0  -335.0  -331.0   \n",
       "2  -125.0  ...  2240.0  2329.0  2438.0  2558.0  2550.0  2380.0  2297.0   \n",
       "3  2004.0  ...  3742.0  3800.0  3850.0  4008.0  4176.0  4197.0  4116.0   \n",
       "4  1943.0  ... -1234.0 -1330.0 -1386.0 -1403.0 -1380.0 -1344.0 -1329.0   \n",
       "\n",
       "     2046    2047               class  \n",
       "0  -131.0  -182.0  0 - Regime Normal/  \n",
       "1  -322.0  -294.0  0 - Regime Normal/  \n",
       "2  2343.0  2320.0  0 - Regime Normal/  \n",
       "3  4012.0  3931.0  0 - Regime Normal/  \n",
       "4 -1344.0 -1366.0  0 - Regime Normal/  \n",
       "\n",
       "[5 rows x 2049 columns]"
      ]
     },
     "execution_count": 21,
     "metadata": {},
     "output_type": "execute_result"
    }
   ],
   "source": [
    "import pandas as pd\n",
    "\n",
    "df_audio = pd.read_csv('Saídas/dados_carregados.csv', index_col=0)\n",
    "df_audio.head()"
   ]
  },
  {
   "cell_type": "markdown",
   "id": "7a18ff3c",
   "metadata": {},
   "source": [
    "### Separação de entradas e saídas"
   ]
  },
  {
   "cell_type": "code",
   "execution_count": 22,
   "id": "255e4fdc",
   "metadata": {},
   "outputs": [],
   "source": [
    "X = df_audio.drop(['class'], axis=1)\n",
    "y = df_audio['class']"
   ]
  },
  {
   "cell_type": "markdown",
   "id": "2164926c",
   "metadata": {},
   "source": [
    "### Encode das saidas"
   ]
  },
  {
   "cell_type": "code",
   "execution_count": 23,
   "id": "8e04820b",
   "metadata": {},
   "outputs": [],
   "source": [
    "from sklearn.preprocessing import LabelEncoder\n",
    "\n",
    "lbl_enc = LabelEncoder()\n",
    "\n",
    "y = lbl_enc.fit_transform(y)"
   ]
  },
  {
   "cell_type": "markdown",
   "id": "7e5bf790",
   "metadata": {},
   "source": [
    "## Separação treino e teste "
   ]
  },
  {
   "cell_type": "code",
   "execution_count": 24,
   "id": "9a418601",
   "metadata": {},
   "outputs": [],
   "source": [
    "from sklearn.model_selection import train_test_split\n",
    "\n",
    "X_train, X_test, y_train, y_test = train_test_split(X, y, test_size=0.2, random_state=42, stratify=y)"
   ]
  },
  {
   "cell_type": "markdown",
   "id": "4ddf32f0",
   "metadata": {},
   "source": [
    "# Experimentação com algoritmos tradicionais "
   ]
  },
  {
   "cell_type": "code",
   "execution_count": 25,
   "id": "70d81660",
   "metadata": {},
   "outputs": [
    {
     "name": "stdout",
     "output_type": "stream",
     "text": [
      "KNeighborsClassifier(n_neighbors=3)\n",
      "model score: 0.400\n",
      "\n",
      "\n",
      "SVC(C=0.025, gamma='auto', probability=True)\n",
      "model score: 0.250\n",
      "\n",
      "\n",
      "NuSVC(gamma='auto', probability=True)\n",
      "model score: 0.250\n",
      "\n",
      "\n",
      "DecisionTreeClassifier()\n",
      "model score: 0.350\n",
      "\n",
      "\n",
      "RandomForestClassifier()\n",
      "model score: 0.450\n",
      "\n",
      "\n",
      "AdaBoostClassifier()\n",
      "model score: 0.350\n",
      "\n",
      "\n",
      "GradientBoostingClassifier()\n",
      "model score: 0.250\n",
      "\n",
      "\n"
     ]
    }
   ],
   "source": [
    "from sklearn.metrics import accuracy_score, log_loss\n",
    "from sklearn.neighbors import KNeighborsClassifier\n",
    "from sklearn.svm import SVC, LinearSVC, NuSVC\n",
    "from sklearn.tree import DecisionTreeClassifier\n",
    "from sklearn.ensemble import RandomForestClassifier, AdaBoostClassifier, GradientBoostingClassifier\n",
    "from sklearn.discriminant_analysis import LinearDiscriminantAnalysis\n",
    "from sklearn.discriminant_analysis import QuadraticDiscriminantAnalysis\n",
    "\n",
    "classifiers = [\n",
    "    KNeighborsClassifier(3),\n",
    "    SVC(kernel=\"rbf\", C=0.025, probability=True, gamma=\"auto\"),\n",
    "    NuSVC(probability=True, gamma=\"auto\"),\n",
    "    DecisionTreeClassifier(),\n",
    "    RandomForestClassifier(n_estimators=100),\n",
    "    AdaBoostClassifier(),\n",
    "    GradientBoostingClassifier(),\n",
    "        \n",
    "]\n",
    "\n",
    "for classifier in classifiers:\n",
    "    classifier.fit(X_train, y_train)   \n",
    "    print(classifier)\n",
    "    print(\"model score: %.3f\" % classifier.score(X_test, y_test))\n",
    "    print(\"\\n\")"
   ]
  },
  {
   "cell_type": "markdown",
   "id": "a25ac1b2",
   "metadata": {},
   "source": [
    "## Experimentação com Algoritimo de aprendizagem profunda"
   ]
  },
  {
   "cell_type": "code",
   "execution_count": 26,
   "id": "5ae022e8",
   "metadata": {},
   "outputs": [],
   "source": [
    "from keras.models import Sequential\n",
    "from keras.layers import Dense"
   ]
  },
  {
   "cell_type": "code",
   "execution_count": 27,
   "id": "36a40814",
   "metadata": {},
   "outputs": [],
   "source": [
    "model = Sequential()\n",
    "model.add(Dense(12, input_dim=2048, activation='relu'))\n",
    "model.add(Dense(1024, activation='relu'))\n",
    "model.add(Dense(1, activation='sigmoid'))"
   ]
  },
  {
   "cell_type": "code",
   "execution_count": 28,
   "id": "24d027d4",
   "metadata": {},
   "outputs": [],
   "source": [
    "model.compile(loss='binary_crossentropy', optimizer='adam', metrics=['accuracy'])"
   ]
  },
  {
   "cell_type": "code",
   "execution_count": 29,
   "id": "605ccde3",
   "metadata": {},
   "outputs": [],
   "source": [
    "X_train_deep = np.asarray(X_train)\n",
    "y_train_deep = np.asarray(y_train)\n",
    "X_test_deep = np.asarray(X_test)\n",
    "y_test_deep = np.asarray(y_test)"
   ]
  },
  {
   "cell_type": "code",
   "execution_count": 30,
   "id": "ca60b09e",
   "metadata": {
    "scrolled": true
   },
   "outputs": [
    {
     "name": "stdout",
     "output_type": "stream",
     "text": [
      "Epoch 1/100\n",
      "1/1 [==============================] - 19s 19s/step - loss: 135.2406 - accuracy: 0.3026\n",
      "Epoch 2/100\n",
      "1/1 [==============================] - 0s 4ms/step - loss: -161.0914 - accuracy: 0.2500\n",
      "Epoch 3/100\n",
      "1/1 [==============================] - 0s 4ms/step - loss: -420.2585 - accuracy: 0.2500\n",
      "Epoch 4/100\n",
      "1/1 [==============================] - 0s 5ms/step - loss: -805.8462 - accuracy: 0.2500\n",
      "Epoch 5/100\n",
      "1/1 [==============================] - 0s 7ms/step - loss: -1343.3464 - accuracy: 0.2500\n",
      "Epoch 6/100\n",
      "1/1 [==============================] - 0s 5ms/step - loss: -2047.7085 - accuracy: 0.2500\n",
      "Epoch 7/100\n",
      "1/1 [==============================] - 0s 6ms/step - loss: -2930.1580 - accuracy: 0.2500\n",
      "Epoch 8/100\n",
      "1/1 [==============================] - 0s 4ms/step - loss: -3997.0078 - accuracy: 0.2500\n",
      "Epoch 9/100\n",
      "1/1 [==============================] - 0s 4ms/step - loss: -5262.4731 - accuracy: 0.2500\n",
      "Epoch 10/100\n",
      "1/1 [==============================] - 0s 4ms/step - loss: -6743.5889 - accuracy: 0.2500\n",
      "Epoch 11/100\n",
      "1/1 [==============================] - 0s 6ms/step - loss: -8455.3779 - accuracy: 0.2500\n",
      "Epoch 12/100\n",
      "1/1 [==============================] - 0s 4ms/step - loss: -10408.8672 - accuracy: 0.2500\n",
      "Epoch 13/100\n",
      "1/1 [==============================] - 0s 6ms/step - loss: -12622.9658 - accuracy: 0.2500\n",
      "Epoch 14/100\n",
      "1/1 [==============================] - 0s 4ms/step - loss: -15126.2520 - accuracy: 0.2500\n",
      "Epoch 15/100\n",
      "1/1 [==============================] - 0s 4ms/step - loss: -17940.2246 - accuracy: 0.2500\n",
      "Epoch 16/100\n",
      "1/1 [==============================] - 0s 4ms/step - loss: -21090.0195 - accuracy: 0.2500\n",
      "Epoch 17/100\n",
      "1/1 [==============================] - 0s 5ms/step - loss: -24602.2812 - accuracy: 0.2500\n",
      "Epoch 18/100\n",
      "1/1 [==============================] - 0s 5ms/step - loss: -28503.0859 - accuracy: 0.2500\n",
      "Epoch 19/100\n",
      "1/1 [==============================] - 0s 5ms/step - loss: -32820.4883 - accuracy: 0.2500\n",
      "Epoch 20/100\n",
      "1/1 [==============================] - 0s 4ms/step - loss: -37586.4531 - accuracy: 0.2500\n",
      "Epoch 21/100\n",
      "1/1 [==============================] - 0s 4ms/step - loss: -42838.8086 - accuracy: 0.2500\n",
      "Epoch 22/100\n",
      "1/1 [==============================] - 0s 3ms/step - loss: -48616.5938 - accuracy: 0.2500\n",
      "Epoch 23/100\n",
      "1/1 [==============================] - 0s 6ms/step - loss: -54954.9062 - accuracy: 0.2500\n",
      "Epoch 24/100\n",
      "1/1 [==============================] - 0s 5ms/step - loss: -61892.6445 - accuracy: 0.2500\n",
      "Epoch 25/100\n",
      "1/1 [==============================] - 0s 4ms/step - loss: -69483.9688 - accuracy: 0.2500\n",
      "Epoch 26/100\n",
      "1/1 [==============================] - 0s 4ms/step - loss: -77768.8828 - accuracy: 0.2500\n",
      "Epoch 27/100\n",
      "1/1 [==============================] - 0s 6ms/step - loss: -86793.3594 - accuracy: 0.2500\n",
      "Epoch 28/100\n",
      "1/1 [==============================] - 0s 5ms/step - loss: -96606.1016 - accuracy: 0.2500\n",
      "Epoch 29/100\n",
      "1/1 [==============================] - 0s 5ms/step - loss: -107262.5938 - accuracy: 0.2500\n",
      "Epoch 30/100\n",
      "1/1 [==============================] - 0s 6ms/step - loss: -118814.5547 - accuracy: 0.2500\n",
      "Epoch 31/100\n",
      "1/1 [==============================] - 0s 5ms/step - loss: -131316.9688 - accuracy: 0.2500\n",
      "Epoch 32/100\n",
      "1/1 [==============================] - 0s 6ms/step - loss: -144820.4688 - accuracy: 0.2500\n",
      "Epoch 33/100\n",
      "1/1 [==============================] - 0s 4ms/step - loss: -159384.0469 - accuracy: 0.2500\n",
      "Epoch 34/100\n",
      "1/1 [==============================] - 0s 5ms/step - loss: -175077.5000 - accuracy: 0.2500\n",
      "Epoch 35/100\n",
      "1/1 [==============================] - 0s 5ms/step - loss: -191980.1250 - accuracy: 0.2500\n",
      "Epoch 36/100\n",
      "1/1 [==============================] - 0s 4ms/step - loss: -210135.3125 - accuracy: 0.2500\n",
      "Epoch 37/100\n",
      "1/1 [==============================] - 0s 4ms/step - loss: -229631.0000 - accuracy: 0.2500\n",
      "Epoch 38/100\n",
      "1/1 [==============================] - 0s 4ms/step - loss: -250553.7344 - accuracy: 0.2500\n",
      "Epoch 39/100\n",
      "1/1 [==============================] - 0s 5ms/step - loss: -272966.2188 - accuracy: 0.2500\n",
      "Epoch 40/100\n",
      "1/1 [==============================] - 0s 6ms/step - loss: -296903.4062 - accuracy: 0.2500\n",
      "Epoch 41/100\n",
      "1/1 [==============================] - 0s 10ms/step - loss: -322466.6875 - accuracy: 0.2500\n",
      "Epoch 42/100\n",
      "1/1 [==============================] - 0s 6ms/step - loss: -349733.3438 - accuracy: 0.2500\n",
      "Epoch 43/100\n",
      "1/1 [==============================] - 0s 6ms/step - loss: -378774.6250 - accuracy: 0.2500\n",
      "Epoch 44/100\n",
      "1/1 [==============================] - 0s 7ms/step - loss: -409681.5000 - accuracy: 0.2500\n",
      "Epoch 45/100\n",
      "1/1 [==============================] - 0s 7ms/step - loss: -442533.8438 - accuracy: 0.2500\n",
      "Epoch 46/100\n",
      "1/1 [==============================] - 0s 7ms/step - loss: -477410.0625 - accuracy: 0.2500\n",
      "Epoch 47/100\n",
      "1/1 [==============================] - 0s 8ms/step - loss: -514377.9062 - accuracy: 0.2500\n",
      "Epoch 48/100\n",
      "1/1 [==============================] - 0s 8ms/step - loss: -553539.2500 - accuracy: 0.2500\n",
      "Epoch 49/100\n",
      "1/1 [==============================] - 0s 16ms/step - loss: -594977.7500 - accuracy: 0.2500\n",
      "Epoch 50/100\n",
      "1/1 [==============================] - 0s 11ms/step - loss: -638787.5000 - accuracy: 0.2500\n",
      "Epoch 51/100\n",
      "1/1 [==============================] - 0s 7ms/step - loss: -685070.1875 - accuracy: 0.2500\n",
      "Epoch 52/100\n",
      "1/1 [==============================] - 0s 10ms/step - loss: -733905.5625 - accuracy: 0.2500\n",
      "Epoch 53/100\n",
      "1/1 [==============================] - 0s 8ms/step - loss: -785399.6875 - accuracy: 0.2500\n",
      "Epoch 54/100\n",
      "1/1 [==============================] - 0s 12ms/step - loss: -839644.3125 - accuracy: 0.2500\n",
      "Epoch 55/100\n",
      "1/1 [==============================] - 0s 5ms/step - loss: -896739.8125 - accuracy: 0.2500\n",
      "Epoch 56/100\n",
      "1/1 [==============================] - 0s 4ms/step - loss: -956774.1250 - accuracy: 0.2500\n",
      "Epoch 57/100\n",
      "1/1 [==============================] - 0s 6ms/step - loss: -1019860.3125 - accuracy: 0.2500\n",
      "Epoch 58/100\n",
      "1/1 [==============================] - 0s 5ms/step - loss: -1086120.2500 - accuracy: 0.2500\n",
      "Epoch 59/100\n",
      "1/1 [==============================] - 0s 5ms/step - loss: -1155654.5000 - accuracy: 0.2500\n",
      "Epoch 60/100\n",
      "1/1 [==============================] - 0s 6ms/step - loss: -1228644.8750 - accuracy: 0.2500\n",
      "Epoch 61/100\n",
      "1/1 [==============================] - 0s 4ms/step - loss: -1305165.6250 - accuracy: 0.2500\n",
      "Epoch 62/100\n",
      "1/1 [==============================] - 0s 4ms/step - loss: -1385319.6250 - accuracy: 0.2500\n",
      "Epoch 63/100\n",
      "1/1 [==============================] - 0s 5ms/step - loss: -1469217.0000 - accuracy: 0.2500\n",
      "Epoch 64/100\n",
      "1/1 [==============================] - 0s 5ms/step - loss: -1556951.3750 - accuracy: 0.2500\n",
      "Epoch 65/100\n",
      "1/1 [==============================] - 0s 5ms/step - loss: -1648665.7500 - accuracy: 0.2500\n",
      "Epoch 66/100\n",
      "1/1 [==============================] - 0s 5ms/step - loss: -1744459.8750 - accuracy: 0.2500\n",
      "Epoch 67/100\n",
      "1/1 [==============================] - 0s 4ms/step - loss: -1844458.1250 - accuracy: 0.2500\n",
      "Epoch 68/100\n",
      "1/1 [==============================] - 0s 4ms/step - loss: -1948646.3750 - accuracy: 0.2500\n",
      "Epoch 69/100\n",
      "1/1 [==============================] - 0s 5ms/step - loss: -2057311.1250 - accuracy: 0.2500\n",
      "Epoch 70/100\n",
      "1/1 [==============================] - 0s 5ms/step - loss: -2170555.5000 - accuracy: 0.2500\n",
      "Epoch 71/100\n",
      "1/1 [==============================] - 0s 4ms/step - loss: -2288504.2500 - accuracy: 0.2500\n",
      "Epoch 72/100\n",
      "1/1 [==============================] - 0s 4ms/step - loss: -2411273.2500 - accuracy: 0.2500\n",
      "Epoch 73/100\n",
      "1/1 [==============================] - 0s 4ms/step - loss: -2538964.7500 - accuracy: 0.2500\n",
      "Epoch 74/100\n",
      "1/1 [==============================] - 0s 5ms/step - loss: -2671711.2500 - accuracy: 0.2500\n",
      "Epoch 75/100\n",
      "1/1 [==============================] - 0s 5ms/step - loss: -2809660.7500 - accuracy: 0.2500\n",
      "Epoch 76/100\n",
      "1/1 [==============================] - 0s 5ms/step - loss: -2952915.2500 - accuracy: 0.2500\n",
      "Epoch 77/100\n",
      "1/1 [==============================] - 0s 3ms/step - loss: -3101657.0000 - accuracy: 0.2500\n",
      "Epoch 78/100\n",
      "1/1 [==============================] - 0s 5ms/step - loss: -3256229.5000 - accuracy: 0.2500\n",
      "Epoch 79/100\n",
      "1/1 [==============================] - 0s 5ms/step - loss: -3416769.7500 - accuracy: 0.2500\n",
      "Epoch 80/100\n",
      "1/1 [==============================] - 0s 6ms/step - loss: -3583243.7500 - accuracy: 0.2500\n",
      "Epoch 81/100\n",
      "1/1 [==============================] - 0s 4ms/step - loss: -3755749.0000 - accuracy: 0.2500\n",
      "Epoch 82/100\n",
      "1/1 [==============================] - 0s 4ms/step - loss: -3934421.0000 - accuracy: 0.2500\n",
      "Epoch 83/100\n",
      "1/1 [==============================] - 0s 4ms/step - loss: -4119364.2500 - accuracy: 0.2500\n",
      "Epoch 84/100\n",
      "1/1 [==============================] - 0s 7ms/step - loss: -4310732.0000 - accuracy: 0.2500\n",
      "Epoch 85/100\n",
      "1/1 [==============================] - 0s 5ms/step - loss: -4508668.5000 - accuracy: 0.2500\n",
      "Epoch 86/100\n",
      "1/1 [==============================] - 0s 5ms/step - loss: -4713293.5000 - accuracy: 0.2500\n",
      "Epoch 87/100\n",
      "1/1 [==============================] - 0s 4ms/step - loss: -4924732.5000 - accuracy: 0.2500\n",
      "Epoch 88/100\n",
      "1/1 [==============================] - 0s 5ms/step - loss: -5143152.0000 - accuracy: 0.2500\n",
      "Epoch 89/100\n",
      "1/1 [==============================] - 0s 5ms/step - loss: -5368664.5000 - accuracy: 0.2500\n",
      "Epoch 90/100\n",
      "1/1 [==============================] - 0s 6ms/step - loss: -5601472.0000 - accuracy: 0.2500\n",
      "Epoch 91/100\n",
      "1/1 [==============================] - 0s 6ms/step - loss: -5841777.5000 - accuracy: 0.2500\n",
      "Epoch 92/100\n",
      "1/1 [==============================] - 0s 6ms/step - loss: -6089645.0000 - accuracy: 0.2500\n",
      "Epoch 93/100\n",
      "1/1 [==============================] - 0s 4ms/step - loss: -6345277.0000 - accuracy: 0.2500\n",
      "Epoch 94/100\n",
      "1/1 [==============================] - 0s 6ms/step - loss: -6608770.5000 - accuracy: 0.2500\n",
      "Epoch 95/100\n",
      "1/1 [==============================] - 0s 5ms/step - loss: -6880250.0000 - accuracy: 0.2500\n",
      "Epoch 96/100\n",
      "1/1 [==============================] - 0s 7ms/step - loss: -7159791.0000 - accuracy: 0.2500\n",
      "Epoch 97/100\n",
      "1/1 [==============================] - 0s 4ms/step - loss: -7447608.5000 - accuracy: 0.2500\n",
      "Epoch 98/100\n",
      "1/1 [==============================] - 0s 5ms/step - loss: -7743934.5000 - accuracy: 0.2500\n",
      "Epoch 99/100\n",
      "1/1 [==============================] - 0s 4ms/step - loss: -8049030.5000 - accuracy: 0.2500\n",
      "Epoch 100/100\n",
      "1/1 [==============================] - 0s 7ms/step - loss: -8363042.5000 - accuracy: 0.2500\n"
     ]
    },
    {
     "data": {
      "text/plain": [
       "<keras.callbacks.History at 0x243d03514f0>"
      ]
     },
     "execution_count": 30,
     "metadata": {},
     "output_type": "execute_result"
    }
   ],
   "source": [
    "model.fit(X_train_deep, y_train_deep, epochs=100, batch_size=100)"
   ]
  },
  {
   "cell_type": "code",
   "execution_count": 31,
   "id": "70174fea",
   "metadata": {},
   "outputs": [
    {
     "name": "stdout",
     "output_type": "stream",
     "text": [
      "1/1 [==============================] - 0s 492ms/step - loss: -8053952.0000 - accuracy: 0.2500\n",
      "Accuracy: 25.00\n"
     ]
    }
   ],
   "source": [
    "_, accuracy = model.evaluate(X_test_deep, y_test_deep)\n",
    "print('Accuracy: %.2f' % (accuracy*100))"
   ]
  },
  {
   "cell_type": "markdown",
   "id": "f880a278",
   "metadata": {},
   "source": [
    "### Notas:\n",
    "* Performance pifia"
   ]
  },
  {
   "cell_type": "markdown",
   "id": "13fa9691",
   "metadata": {},
   "source": [
    "# Teste do melhor algoritimo com outras métricas"
   ]
  },
  {
   "cell_type": "code",
   "execution_count": 32,
   "id": "6cd8b471",
   "metadata": {},
   "outputs": [
    {
     "data": {
      "text/plain": [
       "KNeighborsClassifier()"
      ]
     },
     "execution_count": 32,
     "metadata": {},
     "output_type": "execute_result"
    }
   ],
   "source": [
    "clf = KNeighborsClassifier()\n",
    "clf.fit(X_train, y_train)   "
   ]
  },
  {
   "cell_type": "code",
   "execution_count": 33,
   "id": "0d387349",
   "metadata": {},
   "outputs": [],
   "source": [
    "from sklearn.metrics import confusion_matrix, accuracy_score, classification_report\n",
    "\n",
    "predicoes = clf.predict(X_test)"
   ]
  },
  {
   "cell_type": "code",
   "execution_count": 34,
   "id": "b5423952",
   "metadata": {},
   "outputs": [
    {
     "data": {
      "text/plain": [
       "0.45"
      ]
     },
     "execution_count": 34,
     "metadata": {},
     "output_type": "execute_result"
    }
   ],
   "source": [
    "accuracy_score(y_test, predicoes)"
   ]
  },
  {
   "cell_type": "code",
   "execution_count": 35,
   "id": "68c27441",
   "metadata": {},
   "outputs": [
    {
     "data": {
      "text/plain": [
       "array([[2, 2, 1, 0],\n",
       "       [0, 5, 0, 0],\n",
       "       [0, 4, 0, 1],\n",
       "       [0, 3, 0, 2]], dtype=int64)"
      ]
     },
     "execution_count": 35,
     "metadata": {},
     "output_type": "execute_result"
    }
   ],
   "source": [
    "confusion_matrix(y_test, predicoes)"
   ]
  },
  {
   "cell_type": "code",
   "execution_count": 36,
   "id": "97954942",
   "metadata": {},
   "outputs": [
    {
     "data": {
      "image/png": "[encoded data removed]",
      "text/plain": [
       "<Figure size 432x288 with 2 Axes>"
      ]
     },
     "metadata": {
      "needs_background": "light"
     },
     "output_type": "display_data"
    }
   ],
   "source": [
    "sns.heatmap(confusion_matrix(y_test, predicoes));"
   ]
  },
  {
   "cell_type": "code",
   "execution_count": 37,
   "id": "27bb2231",
   "metadata": {
    "scrolled": true
   },
   "outputs": [
    {
     "name": "stdout",
     "output_type": "stream",
     "text": [
      "              precision    recall  f1-score   support\n",
      "\n",
      "           0       1.00      0.40      0.57         5\n",
      "           1       0.36      1.00      0.53         5\n",
      "           2       0.00      0.00      0.00         5\n",
      "           3       0.67      0.40      0.50         5\n",
      "\n",
      "    accuracy                           0.45        20\n",
      "   macro avg       0.51      0.45      0.40        20\n",
      "weighted avg       0.51      0.45      0.40        20\n",
      "\n"
     ]
    }
   ],
   "source": [
    "print(classification_report(y_test, predicoes))"
   ]
  },
  {
   "cell_type": "markdown",
   "id": "f0d664d9",
   "metadata": {},
   "source": [
    "### Resultados inaceitáveis"
   ]
  },
  {
   "cell_type": "markdown",
   "id": "b75f2b87",
   "metadata": {},
   "source": [
    "# 2º teste: Submissão dos dados a uma FFT "
   ]
  },
  {
   "cell_type": "code",
   "execution_count": 38,
   "id": "a13eded6",
   "metadata": {},
   "outputs": [],
   "source": [
    "def apply_fft_in_df(dataInt):\n",
    "    fft_value = np.fft.fft(dataInt)\n",
    "    absolute_value = np.abs(fft_value).mean()\n",
    "    imaginary_value = np.imag(fft_value).mean()\n",
    "    \n",
    "    return absolute_value, imaginary_value\n",
    "\n",
    "X_fft = X.apply(apply_fft_in_df, axis=1, result_type='expand')"
   ]
  },
  {
   "cell_type": "code",
   "execution_count": 39,
   "id": "b913548d",
   "metadata": {},
   "outputs": [
    {
     "data": {
      "text/html": [
       "<div>\n",
       "<style scoped>\n",
       "    .dataframe tbody tr th:only-of-type {\n",
       "        vertical-align: middle;\n",
       "    }\n",
       "\n",
       "    .dataframe tbody tr th {\n",
       "        vertical-align: top;\n",
       "    }\n",
       "\n",
       "    .dataframe thead th {\n",
       "        text-align: right;\n",
       "    }\n",
       "</style>\n",
       "<table border=\"1\" class=\"dataframe\">\n",
       "  <thead>\n",
       "    <tr style=\"text-align: right;\">\n",
       "      <th></th>\n",
       "      <th>0</th>\n",
       "      <th>1</th>\n",
       "    </tr>\n",
       "  </thead>\n",
       "  <tbody>\n",
       "    <tr>\n",
       "      <th>0</th>\n",
       "      <td>11332.257144</td>\n",
       "      <td>-2.273737e-13</td>\n",
       "    </tr>\n",
       "    <tr>\n",
       "      <th>1</th>\n",
       "      <td>12496.597213</td>\n",
       "      <td>0.000000e+00</td>\n",
       "    </tr>\n",
       "    <tr>\n",
       "      <th>2</th>\n",
       "      <td>12886.051282</td>\n",
       "      <td>0.000000e+00</td>\n",
       "    </tr>\n",
       "    <tr>\n",
       "      <th>3</th>\n",
       "      <td>11888.214177</td>\n",
       "      <td>2.273737e-13</td>\n",
       "    </tr>\n",
       "    <tr>\n",
       "      <th>4</th>\n",
       "      <td>13832.573825</td>\n",
       "      <td>0.000000e+00</td>\n",
       "    </tr>\n",
       "  </tbody>\n",
       "</table>\n",
       "</div>"
      ],
      "text/plain": [
       "              0             1\n",
       "0  11332.257144 -2.273737e-13\n",
       "1  12496.597213  0.000000e+00\n",
       "2  12886.051282  0.000000e+00\n",
       "3  11888.214177  2.273737e-13\n",
       "4  13832.573825  0.000000e+00"
      ]
     },
     "execution_count": 39,
     "metadata": {},
     "output_type": "execute_result"
    }
   ],
   "source": [
    "X_fft.head()"
   ]
  },
  {
   "cell_type": "markdown",
   "id": "6eb3772b",
   "metadata": {},
   "source": [
    "## Separação treino e teste "
   ]
  },
  {
   "cell_type": "code",
   "execution_count": 40,
   "id": "99b15b9e",
   "metadata": {},
   "outputs": [],
   "source": [
    "from sklearn.model_selection import train_test_split\n",
    "\n",
    "X_train, X_test, y_train, y_test = train_test_split(X_fft, y, test_size=0.2, random_state=42, stratify=y)"
   ]
  },
  {
   "cell_type": "markdown",
   "id": "d796dd7a",
   "metadata": {},
   "source": [
    "# Treino de algoritmo "
   ]
  },
  {
   "cell_type": "code",
   "execution_count": 41,
   "id": "cbf60a5b",
   "metadata": {},
   "outputs": [
    {
     "name": "stdout",
     "output_type": "stream",
     "text": [
      "KNeighborsClassifier(n_neighbors=3)\n",
      "model score: 0.350\n",
      "\n",
      "\n",
      "SVC(C=0.025, gamma='auto', probability=True)\n",
      "model score: 0.300\n",
      "\n",
      "\n",
      "NuSVC(gamma='auto', probability=True)\n",
      "model score: 0.300\n",
      "\n",
      "\n",
      "DecisionTreeClassifier()\n",
      "model score: 0.450\n",
      "\n",
      "\n",
      "RandomForestClassifier()\n",
      "model score: 0.450\n",
      "\n",
      "\n",
      "AdaBoostClassifier()\n",
      "model score: 0.350\n",
      "\n",
      "\n",
      "GradientBoostingClassifier()\n",
      "model score: 0.450\n",
      "\n",
      "\n"
     ]
    }
   ],
   "source": [
    "from sklearn.metrics import accuracy_score, log_loss\n",
    "from sklearn.neighbors import KNeighborsClassifier\n",
    "from sklearn.svm import SVC, LinearSVC, NuSVC\n",
    "from sklearn.tree import DecisionTreeClassifier\n",
    "from sklearn.ensemble import RandomForestClassifier, AdaBoostClassifier, GradientBoostingClassifier\n",
    "from sklearn.discriminant_analysis import LinearDiscriminantAnalysis\n",
    "from sklearn.discriminant_analysis import QuadraticDiscriminantAnalysis\n",
    "\n",
    "classifiers = [\n",
    "    KNeighborsClassifier(3),\n",
    "    SVC(kernel=\"rbf\", C=0.025, probability=True, gamma=\"auto\"),\n",
    "    NuSVC(probability=True, gamma=\"auto\"),\n",
    "    DecisionTreeClassifier(),\n",
    "    RandomForestClassifier(n_estimators=100),\n",
    "    AdaBoostClassifier(),\n",
    "    GradientBoostingClassifier()\n",
    "]\n",
    "\n",
    "for classifier in classifiers:\n",
    "    classifier.fit(X_train, y_train)   \n",
    "    print(classifier)\n",
    "    print(\"model score: %.3f\" % classifier.score(X_test, y_test))\n",
    "    print(\"\\n\")"
   ]
  },
  {
   "cell_type": "code",
   "execution_count": 42,
   "id": "593f893a",
   "metadata": {},
   "outputs": [],
   "source": [
    "model = Sequential()\n",
    "model.add(Dense(12, input_dim=2, activation='relu'))\n",
    "model.add(Dense(1024, activation='relu'))\n",
    "model.add(Dense(1, activation='sigmoid'))\n",
    "\n",
    "model.compile(loss='binary_crossentropy', optimizer='adam', metrics=['accuracy'])\n",
    "\n",
    "X_train_deep = np.asarray(X_train)\n",
    "y_train_deep = np.asarray(y_train)\n",
    "X_test_deep = np.asarray(X_test)\n",
    "y_test_deep = np.asarray(y_test)"
   ]
  },
  {
   "cell_type": "code",
   "execution_count": 43,
   "id": "4888521f",
   "metadata": {
    "scrolled": true
   },
   "outputs": [
    {
     "name": "stdout",
     "output_type": "stream",
     "text": [
      "Epoch 1/100\n",
      "1/1 [==============================] - 1s 1s/step - loss: -33.6418 - accuracy: 0.2500\n",
      "Epoch 2/100\n",
      "1/1 [==============================] - 0s 5ms/step - loss: -424.9864 - accuracy: 0.2500\n",
      "Epoch 3/100\n",
      "1/1 [==============================] - 0s 3ms/step - loss: -810.8924 - accuracy: 0.2500\n",
      "Epoch 4/100\n",
      "1/1 [==============================] - 0s 3ms/step - loss: -1193.4691 - accuracy: 0.2500\n",
      "Epoch 5/100\n",
      "1/1 [==============================] - 0s 5ms/step - loss: -1572.6129 - accuracy: 0.2500\n",
      "Epoch 6/100\n",
      "1/1 [==============================] - 0s 4ms/step - loss: -1949.9781 - accuracy: 0.2500\n",
      "Epoch 7/100\n",
      "1/1 [==============================] - 0s 4ms/step - loss: -2328.3020 - accuracy: 0.2500\n",
      "Epoch 8/100\n",
      "1/1 [==============================] - 0s 3ms/step - loss: -2708.4592 - accuracy: 0.2500\n",
      "Epoch 9/100\n",
      "1/1 [==============================] - 0s 4ms/step - loss: -3088.7727 - accuracy: 0.2500\n",
      "Epoch 10/100\n",
      "1/1 [==============================] - 0s 4ms/step - loss: -3470.9255 - accuracy: 0.2500\n",
      "Epoch 11/100\n",
      "1/1 [==============================] - 0s 4ms/step - loss: -3854.3589 - accuracy: 0.2500\n",
      "Epoch 12/100\n",
      "1/1 [==============================] - 0s 4ms/step - loss: -4241.9219 - accuracy: 0.2500\n",
      "Epoch 13/100\n",
      "1/1 [==============================] - 0s 3ms/step - loss: -4635.5474 - accuracy: 0.2500\n",
      "Epoch 14/100\n",
      "1/1 [==============================] - 0s 4ms/step - loss: -5034.0142 - accuracy: 0.2500\n",
      "Epoch 15/100\n",
      "1/1 [==============================] - 0s 4ms/step - loss: -5437.6802 - accuracy: 0.2500\n",
      "Epoch 16/100\n",
      "1/1 [==============================] - 0s 3ms/step - loss: -5847.4805 - accuracy: 0.2500\n",
      "Epoch 17/100\n",
      "1/1 [==============================] - 0s 3ms/step - loss: -6263.8169 - accuracy: 0.2500\n",
      "Epoch 18/100\n",
      "1/1 [==============================] - 0s 3ms/step - loss: -6689.0225 - accuracy: 0.2500\n",
      "Epoch 19/100\n",
      "1/1 [==============================] - 0s 4ms/step - loss: -7123.3691 - accuracy: 0.2500\n",
      "Epoch 20/100\n",
      "1/1 [==============================] - 0s 4ms/step - loss: -7567.7007 - accuracy: 0.2500\n",
      "Epoch 21/100\n",
      "1/1 [==============================] - 0s 3ms/step - loss: -8023.7090 - accuracy: 0.2500\n",
      "Epoch 22/100\n",
      "1/1 [==============================] - 0s 3ms/step - loss: -8489.4980 - accuracy: 0.2500\n",
      "Epoch 23/100\n",
      "1/1 [==============================] - 0s 5ms/step - loss: -8966.8164 - accuracy: 0.2500\n",
      "Epoch 24/100\n",
      "1/1 [==============================] - 0s 3ms/step - loss: -9457.2969 - accuracy: 0.2500\n",
      "Epoch 25/100\n",
      "1/1 [==============================] - 0s 7ms/step - loss: -9961.7793 - accuracy: 0.2500\n",
      "Epoch 26/100\n",
      "1/1 [==============================] - 0s 4ms/step - loss: -10479.3877 - accuracy: 0.2500\n",
      "Epoch 27/100\n",
      "1/1 [==============================] - 0s 4ms/step - loss: -11011.9346 - accuracy: 0.2500\n",
      "Epoch 28/100\n",
      "1/1 [==============================] - 0s 3ms/step - loss: -11561.0938 - accuracy: 0.2500\n",
      "Epoch 29/100\n",
      "1/1 [==============================] - 0s 4ms/step - loss: -12126.8340 - accuracy: 0.2500\n",
      "Epoch 30/100\n",
      "1/1 [==============================] - 0s 3ms/step - loss: -12709.7705 - accuracy: 0.2500\n",
      "Epoch 31/100\n",
      "1/1 [==============================] - 0s 4ms/step - loss: -13310.7314 - accuracy: 0.2500\n",
      "Epoch 32/100\n",
      "1/1 [==============================] - 0s 5ms/step - loss: -13930.8057 - accuracy: 0.2500\n",
      "Epoch 33/100\n",
      "1/1 [==============================] - 0s 3ms/step - loss: -14570.8584 - accuracy: 0.2500\n",
      "Epoch 34/100\n",
      "1/1 [==============================] - 0s 5ms/step - loss: -15230.3486 - accuracy: 0.2500\n",
      "Epoch 35/100\n",
      "1/1 [==============================] - 0s 3ms/step - loss: -15910.8252 - accuracy: 0.2500\n",
      "Epoch 36/100\n",
      "1/1 [==============================] - 0s 4ms/step - loss: -16613.2754 - accuracy: 0.2500\n",
      "Epoch 37/100\n",
      "1/1 [==============================] - 0s 4ms/step - loss: -17338.2344 - accuracy: 0.2500\n",
      "Epoch 38/100\n",
      "1/1 [==============================] - 0s 3ms/step - loss: -18086.6094 - accuracy: 0.2500\n",
      "Epoch 39/100\n",
      "1/1 [==============================] - 0s 4ms/step - loss: -18858.7031 - accuracy: 0.2500\n",
      "Epoch 40/100\n",
      "1/1 [==============================] - 0s 4ms/step - loss: -19655.4316 - accuracy: 0.2500\n",
      "Epoch 41/100\n",
      "1/1 [==============================] - 0s 4ms/step - loss: -20477.4121 - accuracy: 0.2500\n",
      "Epoch 42/100\n",
      "1/1 [==============================] - 0s 3ms/step - loss: -21325.3320 - accuracy: 0.2500\n",
      "Epoch 43/100\n",
      "1/1 [==============================] - 0s 4ms/step - loss: -22199.6934 - accuracy: 0.2500\n",
      "Epoch 44/100\n",
      "1/1 [==============================] - 0s 4ms/step - loss: -23101.0879 - accuracy: 0.2500\n",
      "Epoch 45/100\n",
      "1/1 [==============================] - 0s 5ms/step - loss: -24030.0879 - accuracy: 0.2500\n",
      "Epoch 46/100\n",
      "1/1 [==============================] - 0s 5ms/step - loss: -24987.3906 - accuracy: 0.2500\n",
      "Epoch 47/100\n",
      "1/1 [==============================] - 0s 4ms/step - loss: -25973.5859 - accuracy: 0.2500\n",
      "Epoch 48/100\n",
      "1/1 [==============================] - 0s 4ms/step - loss: -26989.2891 - accuracy: 0.2500\n",
      "Epoch 49/100\n",
      "1/1 [==============================] - 0s 4ms/step - loss: -28035.1250 - accuracy: 0.2500\n",
      "Epoch 50/100\n",
      "1/1 [==============================] - 0s 4ms/step - loss: -29111.5254 - accuracy: 0.2500\n",
      "Epoch 51/100\n",
      "1/1 [==============================] - 0s 3ms/step - loss: -30219.2168 - accuracy: 0.2500\n",
      "Epoch 52/100\n",
      "1/1 [==============================] - 0s 3ms/step - loss: -31358.9082 - accuracy: 0.2500\n",
      "Epoch 53/100\n",
      "1/1 [==============================] - 0s 4ms/step - loss: -32531.0527 - accuracy: 0.2500\n",
      "Epoch 54/100\n",
      "1/1 [==============================] - 0s 3ms/step - loss: -33736.4023 - accuracy: 0.2500\n",
      "Epoch 55/100\n",
      "1/1 [==============================] - 0s 4ms/step - loss: -34975.6289 - accuracy: 0.2500\n",
      "Epoch 56/100\n",
      "1/1 [==============================] - 0s 3ms/step - loss: -36249.3711 - accuracy: 0.2500\n",
      "Epoch 57/100\n",
      "1/1 [==============================] - 0s 3ms/step - loss: -37558.9492 - accuracy: 0.2500\n",
      "Epoch 58/100\n",
      "1/1 [==============================] - 0s 3ms/step - loss: -38904.5742 - accuracy: 0.2500\n",
      "Epoch 59/100\n",
      "1/1 [==============================] - 0s 3ms/step - loss: -40286.8750 - accuracy: 0.2500\n",
      "Epoch 60/100\n",
      "1/1 [==============================] - 0s 6ms/step - loss: -41706.4883 - accuracy: 0.2500\n",
      "Epoch 61/100\n",
      "1/1 [==============================] - 0s 3ms/step - loss: -43164.0273 - accuracy: 0.2500\n",
      "Epoch 62/100\n",
      "1/1 [==============================] - 0s 3ms/step - loss: -44660.1641 - accuracy: 0.2500\n",
      "Epoch 63/100\n",
      "1/1 [==============================] - 0s 3ms/step - loss: -46195.5352 - accuracy: 0.2500\n",
      "Epoch 64/100\n",
      "1/1 [==============================] - 0s 4ms/step - loss: -47770.7969 - accuracy: 0.2500\n",
      "Epoch 65/100\n",
      "1/1 [==============================] - 0s 3ms/step - loss: -49386.4727 - accuracy: 0.2500\n",
      "Epoch 66/100\n",
      "1/1 [==============================] - 0s 4ms/step - loss: -51043.3555 - accuracy: 0.2500\n",
      "Epoch 67/100\n",
      "1/1 [==============================] - 0s 4ms/step - loss: -52742.1328 - accuracy: 0.2500\n",
      "Epoch 68/100\n",
      "1/1 [==============================] - 0s 4ms/step - loss: -54483.4688 - accuracy: 0.2500\n",
      "Epoch 69/100\n",
      "1/1 [==============================] - 0s 3ms/step - loss: -56268.0117 - accuracy: 0.2500\n",
      "Epoch 70/100\n",
      "1/1 [==============================] - 0s 4ms/step - loss: -58096.4336 - accuracy: 0.2500\n",
      "Epoch 71/100\n",
      "1/1 [==============================] - 0s 3ms/step - loss: -59969.4258 - accuracy: 0.2500\n",
      "Epoch 72/100\n",
      "1/1 [==============================] - 0s 6ms/step - loss: -61887.6562 - accuracy: 0.2500\n",
      "Epoch 73/100\n",
      "1/1 [==============================] - 0s 4ms/step - loss: -63851.7891 - accuracy: 0.2500\n",
      "Epoch 74/100\n",
      "1/1 [==============================] - 0s 5ms/step - loss: -65862.5469 - accuracy: 0.2500\n",
      "Epoch 75/100\n",
      "1/1 [==============================] - 0s 6ms/step - loss: -67921.1406 - accuracy: 0.2500\n",
      "Epoch 76/100\n",
      "1/1 [==============================] - 0s 4ms/step - loss: -70027.9297 - accuracy: 0.2500\n",
      "Epoch 77/100\n",
      "1/1 [==============================] - 0s 4ms/step - loss: -72184.2344 - accuracy: 0.2500\n",
      "Epoch 78/100\n",
      "1/1 [==============================] - 0s 5ms/step - loss: -74390.3438 - accuracy: 0.2500\n",
      "Epoch 79/100\n",
      "1/1 [==============================] - 0s 4ms/step - loss: -76646.8672 - accuracy: 0.2500\n",
      "Epoch 80/100\n",
      "1/1 [==============================] - 0s 4ms/step - loss: -78954.5078 - accuracy: 0.2500\n",
      "Epoch 81/100\n",
      "1/1 [==============================] - 0s 3ms/step - loss: -81313.9062 - accuracy: 0.2500\n",
      "Epoch 82/100\n",
      "1/1 [==============================] - 0s 5ms/step - loss: -83725.7969 - accuracy: 0.2500\n",
      "Epoch 83/100\n",
      "1/1 [==============================] - 0s 5ms/step - loss: -86190.8594 - accuracy: 0.2500\n",
      "Epoch 84/100\n",
      "1/1 [==============================] - 0s 4ms/step - loss: -88709.7812 - accuracy: 0.2500\n",
      "Epoch 85/100\n",
      "1/1 [==============================] - 0s 4ms/step - loss: -91283.3047 - accuracy: 0.2500\n",
      "Epoch 86/100\n",
      "1/1 [==============================] - 0s 4ms/step - loss: -93912.0938 - accuracy: 0.2500\n",
      "Epoch 87/100\n",
      "1/1 [==============================] - 0s 5ms/step - loss: -96596.8516 - accuracy: 0.2500\n",
      "Epoch 88/100\n",
      "1/1 [==============================] - 0s 6ms/step - loss: -99338.3281 - accuracy: 0.2500\n",
      "Epoch 89/100\n",
      "1/1 [==============================] - 0s 4ms/step - loss: -102137.1875 - accuracy: 0.2500\n",
      "Epoch 90/100\n",
      "1/1 [==============================] - 0s 4ms/step - loss: -104994.1719 - accuracy: 0.2500\n",
      "Epoch 91/100\n",
      "1/1 [==============================] - 0s 4ms/step - loss: -107910.1875 - accuracy: 0.2500\n",
      "Epoch 92/100\n",
      "1/1 [==============================] - 0s 3ms/step - loss: -110885.8438 - accuracy: 0.2500\n",
      "Epoch 93/100\n",
      "1/1 [==============================] - 0s 4ms/step - loss: -113921.8516 - accuracy: 0.2500\n",
      "Epoch 94/100\n",
      "1/1 [==============================] - 0s 3ms/step - loss: -117019.0547 - accuracy: 0.2500\n",
      "Epoch 95/100\n",
      "1/1 [==============================] - 0s 6ms/step - loss: -120179.3281 - accuracy: 0.2500\n",
      "Epoch 96/100\n",
      "1/1 [==============================] - 0s 3ms/step - loss: -123402.6562 - accuracy: 0.2500\n",
      "Epoch 97/100\n",
      "1/1 [==============================] - 0s 4ms/step - loss: -126689.7109 - accuracy: 0.2500\n",
      "Epoch 98/100\n",
      "1/1 [==============================] - 0s 3ms/step - loss: -130041.0781 - accuracy: 0.2500\n",
      "Epoch 99/100\n",
      "1/1 [==============================] - 0s 4ms/step - loss: -133457.5000 - accuracy: 0.2500\n",
      "Epoch 100/100\n",
      "1/1 [==============================] - 0s 3ms/step - loss: -136939.7031 - accuracy: 0.2500\n"
     ]
    },
    {
     "data": {
      "text/plain": [
       "<keras.callbacks.History at 0x243d0e6cfd0>"
      ]
     },
     "execution_count": 43,
     "metadata": {},
     "output_type": "execute_result"
    }
   ],
   "source": [
    "model.fit(X_train_deep, y_train_deep, epochs=100, batch_size=100)"
   ]
  },
  {
   "cell_type": "code",
   "execution_count": 44,
   "id": "48df4696",
   "metadata": {},
   "outputs": [
    {
     "name": "stdout",
     "output_type": "stream",
     "text": [
      "1/1 [==============================] - 0s 303ms/step - loss: -75352.9453 - accuracy: 0.2500\n",
      "Accuracy: 25.00\n"
     ]
    }
   ],
   "source": [
    "_, accuracy = model.evaluate(X_test_deep, y_test_deep)\n",
    "print('Accuracy: %.2f' % (accuracy*100))"
   ]
  },
  {
   "cell_type": "markdown",
   "id": "28a051ee",
   "metadata": {},
   "source": [
    "### Notas:\n",
    "* Performance pifia, DecisionTreeClassifier e Gradient Boosting parecem promissores"
   ]
  },
  {
   "cell_type": "markdown",
   "id": "13fa969c",
   "metadata": {},
   "source": [
    "# Teste do melhor algoritimo com outras métricas"
   ]
  },
  {
   "cell_type": "code",
   "execution_count": 45,
   "id": "6cd8b476",
   "metadata": {},
   "outputs": [
    {
     "data": {
      "text/plain": [
       "DecisionTreeClassifier()"
      ]
     },
     "execution_count": 45,
     "metadata": {},
     "output_type": "execute_result"
    }
   ],
   "source": [
    "clf = DecisionTreeClassifier()\n",
    "clf.fit(X_train, y_train)   "
   ]
  },
  {
   "cell_type": "code",
   "execution_count": 46,
   "id": "0d387348",
   "metadata": {},
   "outputs": [],
   "source": [
    "from sklearn.metrics import confusion_matrix, accuracy_score, classification_report\n",
    "\n",
    "predicoes = clf.predict(X_test)"
   ]
  },
  {
   "cell_type": "code",
   "execution_count": 47,
   "id": "b5423951",
   "metadata": {},
   "outputs": [
    {
     "data": {
      "text/plain": [
       "0.45"
      ]
     },
     "execution_count": 47,
     "metadata": {},
     "output_type": "execute_result"
    }
   ],
   "source": [
    "accuracy_score(y_test, predicoes)"
   ]
  },
  {
   "cell_type": "code",
   "execution_count": 48,
   "id": "68c2744f",
   "metadata": {},
   "outputs": [
    {
     "data": {
      "text/plain": [
       "array([[3, 0, 0, 2],\n",
       "       [1, 2, 1, 1],\n",
       "       [0, 1, 2, 2],\n",
       "       [1, 1, 1, 2]], dtype=int64)"
      ]
     },
     "execution_count": 48,
     "metadata": {},
     "output_type": "execute_result"
    }
   ],
   "source": [
    "confusion_matrix(y_test, predicoes)"
   ]
  },
  {
   "cell_type": "code",
   "execution_count": 49,
   "id": "97954941",
   "metadata": {},
   "outputs": [
    {
     "data": {
      "image/png": "[encoded data removed]",
      "text/plain": [
       "<Figure size 432x288 with 2 Axes>"
      ]
     },
     "metadata": {
      "needs_background": "light"
     },
     "output_type": "display_data"
    }
   ],
   "source": [
    "sns.heatmap(confusion_matrix(y_test, predicoes));"
   ]
  },
  {
   "cell_type": "code",
   "execution_count": 50,
   "id": "27bb223c",
   "metadata": {
    "scrolled": true
   },
   "outputs": [
    {
     "name": "stdout",
     "output_type": "stream",
     "text": [
      "              precision    recall  f1-score   support\n",
      "\n",
      "           0       0.60      0.60      0.60         5\n",
      "           1       0.50      0.40      0.44         5\n",
      "           2       0.50      0.40      0.44         5\n",
      "           3       0.29      0.40      0.33         5\n",
      "\n",
      "    accuracy                           0.45        20\n",
      "   macro avg       0.47      0.45      0.46        20\n",
      "weighted avg       0.47      0.45      0.46        20\n",
      "\n"
     ]
    }
   ],
   "source": [
    "print(classification_report(y_test, predicoes))"
   ]
  },
  {
   "cell_type": "markdown",
   "id": "2619ee9c",
   "metadata": {},
   "source": [
    "### Resultados melhoraram, mas ainda estao bem ruins. Por exemplo na classe 2 (Sobrecarga)"
   ]
  },
  {
   "cell_type": "code",
   "execution_count": 51,
   "id": "57db51c3",
   "metadata": {},
   "outputs": [
    {
     "data": {
      "text/plain": [
       "array(['0 - Regime Normal/', '1 - Falta de tensão/', '2 - Sobrecarga/',\n",
       "       '3 - Desbalanceamento do eixo/'], dtype=object)"
      ]
     },
     "execution_count": 51,
     "metadata": {},
     "output_type": "execute_result"
    }
   ],
   "source": [
    "lbl_enc.classes_"
   ]
  },
  {
   "cell_type": "markdown",
   "id": "cb85e342",
   "metadata": {},
   "source": [
    "# 3º Teste: obter os valores de média, minimo e máximo e a média da parte real e imaginária da FFT "
   ]
  },
  {
   "cell_type": "code",
   "execution_count": 52,
   "id": "7d598586",
   "metadata": {},
   "outputs": [],
   "source": [
    "def transform_array(arr):\n",
    "    mean = arr.mean()\n",
    "    minimun = arr.min()\n",
    "    maximun = arr.max()\n",
    "    \n",
    "    fft_value = np.fft.fft(arr)\n",
    "    real_part = np.abs(fft_value).mean()\n",
    "    imaginary_part = np.imag(fft_value).mean()\n",
    "    \n",
    "    return np.array([mean, minimun, maximun, real_part, imaginary_part])"
   ]
  },
  {
   "cell_type": "code",
   "execution_count": 53,
   "id": "86d8b343",
   "metadata": {},
   "outputs": [
    {
     "data": {
      "text/plain": [
       "array([ 3.05159180e+02, -3.47600000e+03,  3.14500000e+03,  1.13322571e+04,\n",
       "       -2.27373675e-13])"
      ]
     },
     "execution_count": 53,
     "metadata": {},
     "output_type": "execute_result"
    }
   ],
   "source": [
    "transform_array(X.iloc[0])"
   ]
  },
  {
   "cell_type": "code",
   "execution_count": 54,
   "id": "bb07b55b",
   "metadata": {
    "scrolled": true
   },
   "outputs": [
    {
     "data": {
      "text/html": [
       "<div>\n",
       "<style scoped>\n",
       "    .dataframe tbody tr th:only-of-type {\n",
       "        vertical-align: middle;\n",
       "    }\n",
       "\n",
       "    .dataframe tbody tr th {\n",
       "        vertical-align: top;\n",
       "    }\n",
       "\n",
       "    .dataframe thead th {\n",
       "        text-align: right;\n",
       "    }\n",
       "</style>\n",
       "<table border=\"1\" class=\"dataframe\">\n",
       "  <thead>\n",
       "    <tr style=\"text-align: right;\">\n",
       "      <th></th>\n",
       "      <th>Média</th>\n",
       "      <th>Minímo</th>\n",
       "      <th>Máximo</th>\n",
       "      <th>FFT Real</th>\n",
       "      <th>FFT Imaginário</th>\n",
       "    </tr>\n",
       "  </thead>\n",
       "  <tbody>\n",
       "    <tr>\n",
       "      <th>0</th>\n",
       "      <td>305.159180</td>\n",
       "      <td>-3476.0</td>\n",
       "      <td>3145.0</td>\n",
       "      <td>11332.257144</td>\n",
       "      <td>-2.273737e-13</td>\n",
       "    </tr>\n",
       "    <tr>\n",
       "      <th>1</th>\n",
       "      <td>19.894043</td>\n",
       "      <td>-3654.0</td>\n",
       "      <td>4321.0</td>\n",
       "      <td>12496.597213</td>\n",
       "      <td>0.000000e+00</td>\n",
       "    </tr>\n",
       "    <tr>\n",
       "      <th>2</th>\n",
       "      <td>296.060547</td>\n",
       "      <td>-3701.0</td>\n",
       "      <td>4180.0</td>\n",
       "      <td>12886.051282</td>\n",
       "      <td>0.000000e+00</td>\n",
       "    </tr>\n",
       "    <tr>\n",
       "      <th>3</th>\n",
       "      <td>617.674805</td>\n",
       "      <td>-3547.0</td>\n",
       "      <td>4654.0</td>\n",
       "      <td>11888.214177</td>\n",
       "      <td>2.273737e-13</td>\n",
       "    </tr>\n",
       "    <tr>\n",
       "      <th>4</th>\n",
       "      <td>313.874023</td>\n",
       "      <td>-3681.0</td>\n",
       "      <td>4748.0</td>\n",
       "      <td>13832.573825</td>\n",
       "      <td>0.000000e+00</td>\n",
       "    </tr>\n",
       "  </tbody>\n",
       "</table>\n",
       "</div>"
      ],
      "text/plain": [
       "        Média  Minímo  Máximo      FFT Real  FFT Imaginário\n",
       "0  305.159180 -3476.0  3145.0  11332.257144   -2.273737e-13\n",
       "1   19.894043 -3654.0  4321.0  12496.597213    0.000000e+00\n",
       "2  296.060547 -3701.0  4180.0  12886.051282    0.000000e+00\n",
       "3  617.674805 -3547.0  4654.0  11888.214177    2.273737e-13\n",
       "4  313.874023 -3681.0  4748.0  13832.573825    0.000000e+00"
      ]
     },
     "execution_count": 54,
     "metadata": {},
     "output_type": "execute_result"
    }
   ],
   "source": [
    "X_transform = X.apply(transform_array, axis=1, result_type='expand')\n",
    "X_transform.columns = ['Média', 'Minímo', 'Máximo', 'FFT Real', 'FFT Imaginário']\n",
    "X_transform.head()"
   ]
  },
  {
   "cell_type": "code",
   "execution_count": 55,
   "id": "cc6f1913",
   "metadata": {},
   "outputs": [],
   "source": [
    "X_output = X_transform.copy()\n",
    "X_output['class'] = y\n",
    "\n",
    "X_output.to_csv('Saídas/X_transform.csv')"
   ]
  },
  {
   "cell_type": "code",
   "execution_count": 56,
   "id": "649c7faa",
   "metadata": {},
   "outputs": [],
   "source": [
    "from sklearn.model_selection import train_test_split\n",
    "\n",
    "X_train, X_test, y_train, y_test = train_test_split(X_transform, y, test_size=0.2, random_state=42, stratify=y)"
   ]
  },
  {
   "cell_type": "code",
   "execution_count": 57,
   "id": "70e9758d",
   "metadata": {},
   "outputs": [
    {
     "name": "stdout",
     "output_type": "stream",
     "text": [
      "KNeighborsClassifier(n_neighbors=3)\n",
      "model score: 0.450\n",
      "\n",
      "\n",
      "SVC(C=0.025, gamma='auto', probability=True)\n",
      "model score: 0.350\n",
      "\n",
      "\n",
      "NuSVC(gamma='auto', probability=True)\n",
      "model score: 0.350\n",
      "\n",
      "\n",
      "DecisionTreeClassifier()\n",
      "model score: 0.550\n",
      "\n",
      "\n",
      "RandomForestClassifier()\n",
      "model score: 0.600\n",
      "\n",
      "\n",
      "AdaBoostClassifier()\n",
      "model score: 0.250\n",
      "\n",
      "\n",
      "GradientBoostingClassifier()\n",
      "model score: 0.650\n",
      "\n",
      "\n"
     ]
    }
   ],
   "source": [
    "from sklearn.metrics import accuracy_score, log_loss\n",
    "from sklearn.neighbors import KNeighborsClassifier\n",
    "from sklearn.svm import SVC, LinearSVC, NuSVC\n",
    "from sklearn.tree import DecisionTreeClassifier\n",
    "from sklearn.ensemble import RandomForestClassifier, AdaBoostClassifier, GradientBoostingClassifier\n",
    "from sklearn.discriminant_analysis import LinearDiscriminantAnalysis\n",
    "from sklearn.discriminant_analysis import QuadraticDiscriminantAnalysis\n",
    "\n",
    "classifiers = [\n",
    "    KNeighborsClassifier(3),\n",
    "    SVC(kernel=\"rbf\", C=0.025, probability=True, gamma=\"auto\"),\n",
    "    NuSVC(probability=True, gamma=\"auto\"),\n",
    "    DecisionTreeClassifier(),\n",
    "    RandomForestClassifier(n_estimators=100),\n",
    "    AdaBoostClassifier(),\n",
    "    GradientBoostingClassifier()\n",
    "]\n",
    "\n",
    "for classifier in classifiers:\n",
    "    classifier.fit(X_train, y_train)   \n",
    "    print(classifier)\n",
    "    print(\"model score: %.3f\" % classifier.score(X_test, y_test))\n",
    "    print(\"\\n\")"
   ]
  },
  {
   "cell_type": "code",
   "execution_count": 58,
   "id": "51bbbaf1",
   "metadata": {},
   "outputs": [],
   "source": [
    "from keras.models import Sequential\n",
    "from keras.layers import Dense\n",
    "\n",
    "model = Sequential()\n",
    "model.add(Dense(12, input_dim=5, activation='relu'))\n",
    "model.add(Dense(8, activation='relu'))\n",
    "model.add(Dense(1, activation='sigmoid'))\n",
    "\n",
    "model.compile(loss='binary_crossentropy', optimizer='adam', metrics=['accuracy'])\n",
    "\n",
    "X_train_deep = np.asarray(X_train)\n",
    "y_train_deep = np.asarray(y_train)\n",
    "X_test_deep = np.asarray(X_test)\n",
    "y_test_deep = np.asarray(y_test)"
   ]
  },
  {
   "cell_type": "code",
   "execution_count": 59,
   "id": "22a45639",
   "metadata": {
    "scrolled": true
   },
   "outputs": [
    {
     "name": "stdout",
     "output_type": "stream",
     "text": [
      "Epoch 1/100\n",
      "1/1 [==============================] - 1s 905ms/step - loss: -3670.3667 - accuracy: 0.2500\n",
      "Epoch 2/100\n",
      "1/1 [==============================] - 0s 2ms/step - loss: -3739.5115 - accuracy: 0.2500\n",
      "Epoch 3/100\n",
      "1/1 [==============================] - 0s 4ms/step - loss: -3808.8906 - accuracy: 0.2500\n",
      "Epoch 4/100\n",
      "1/1 [==============================] - 0s 3ms/step - loss: -3878.4524 - accuracy: 0.2500\n",
      "Epoch 5/100\n",
      "1/1 [==============================] - 0s 4ms/step - loss: -3948.1335 - accuracy: 0.2500\n",
      "Epoch 6/100\n",
      "1/1 [==============================] - 0s 3ms/step - loss: -4018.1394 - accuracy: 0.2500\n",
      "Epoch 7/100\n",
      "1/1 [==============================] - 0s 4ms/step - loss: -4088.5283 - accuracy: 0.2500\n",
      "Epoch 8/100\n",
      "1/1 [==============================] - 0s 4ms/step - loss: -4159.1089 - accuracy: 0.2500\n",
      "Epoch 9/100\n",
      "1/1 [==============================] - 0s 5ms/step - loss: -4229.9351 - accuracy: 0.2500\n",
      "Epoch 10/100\n",
      "1/1 [==============================] - 0s 3ms/step - loss: -4300.7632 - accuracy: 0.2500\n",
      "Epoch 11/100\n",
      "1/1 [==============================] - 0s 3ms/step - loss: -4370.5312 - accuracy: 0.2500\n",
      "Epoch 12/100\n",
      "1/1 [==============================] - 0s 3ms/step - loss: -4439.8086 - accuracy: 0.2500\n",
      "Epoch 13/100\n",
      "1/1 [==============================] - 0s 3ms/step - loss: -4509.2739 - accuracy: 0.2500\n",
      "Epoch 14/100\n",
      "1/1 [==============================] - 0s 3ms/step - loss: -4579.1694 - accuracy: 0.2500\n",
      "Epoch 15/100\n",
      "1/1 [==============================] - 0s 3ms/step - loss: -4649.4536 - accuracy: 0.2500\n",
      "Epoch 16/100\n",
      "1/1 [==============================] - 0s 3ms/step - loss: -4720.1157 - accuracy: 0.2500\n",
      "Epoch 17/100\n",
      "1/1 [==============================] - 0s 4ms/step - loss: -4791.2095 - accuracy: 0.2500\n",
      "Epoch 18/100\n",
      "1/1 [==============================] - 0s 4ms/step - loss: -4862.8511 - accuracy: 0.2500\n",
      "Epoch 19/100\n",
      "1/1 [==============================] - 0s 4ms/step - loss: -4934.9756 - accuracy: 0.2500\n",
      "Epoch 20/100\n",
      "1/1 [==============================] - 0s 4ms/step - loss: -5007.6079 - accuracy: 0.2500\n",
      "Epoch 21/100\n",
      "1/1 [==============================] - 0s 4ms/step - loss: -5080.7383 - accuracy: 0.2500\n",
      "Epoch 22/100\n",
      "1/1 [==============================] - 0s 3ms/step - loss: -5154.3789 - accuracy: 0.2500\n",
      "Epoch 23/100\n",
      "1/1 [==============================] - 0s 5ms/step - loss: -5228.5342 - accuracy: 0.2500\n",
      "Epoch 24/100\n",
      "1/1 [==============================] - 0s 3ms/step - loss: -5303.2114 - accuracy: 0.2500\n",
      "Epoch 25/100\n",
      "1/1 [==============================] - 0s 3ms/step - loss: -5378.4204 - accuracy: 0.2500\n",
      "Epoch 26/100\n",
      "1/1 [==============================] - 0s 3ms/step - loss: -5454.1733 - accuracy: 0.2500\n",
      "Epoch 27/100\n",
      "1/1 [==============================] - 0s 2ms/step - loss: -5530.4731 - accuracy: 0.2500\n",
      "Epoch 28/100\n",
      "1/1 [==============================] - 0s 4ms/step - loss: -5607.3320 - accuracy: 0.2500\n",
      "Epoch 29/100\n",
      "1/1 [==============================] - 0s 2ms/step - loss: -5684.7173 - accuracy: 0.2500\n",
      "Epoch 30/100\n",
      "1/1 [==============================] - 0s 6ms/step - loss: -5762.6440 - accuracy: 0.2500\n",
      "Epoch 31/100\n",
      "1/1 [==============================] - 0s 3ms/step - loss: -5841.1562 - accuracy: 0.2500\n",
      "Epoch 32/100\n",
      "1/1 [==============================] - 0s 2ms/step - loss: -5920.2573 - accuracy: 0.2500\n",
      "Epoch 33/100\n",
      "1/1 [==============================] - 0s 6ms/step - loss: -5999.9595 - accuracy: 0.2500\n",
      "Epoch 34/100\n",
      "1/1 [==============================] - 0s 3ms/step - loss: -6080.2700 - accuracy: 0.2500\n",
      "Epoch 35/100\n",
      "1/1 [==============================] - 0s 4ms/step - loss: -6161.1909 - accuracy: 0.2500\n",
      "Epoch 36/100\n",
      "1/1 [==============================] - 0s 4ms/step - loss: -6242.7373 - accuracy: 0.2500\n",
      "Epoch 37/100\n",
      "1/1 [==============================] - 0s 3ms/step - loss: -6324.9170 - accuracy: 0.2500\n",
      "Epoch 38/100\n",
      "1/1 [==============================] - 0s 4ms/step - loss: -6407.7476 - accuracy: 0.2500\n",
      "Epoch 39/100\n",
      "1/1 [==============================] - 0s 3ms/step - loss: -6491.2300 - accuracy: 0.2500\n",
      "Epoch 40/100\n",
      "1/1 [==============================] - 0s 4ms/step - loss: -6575.3662 - accuracy: 0.2500\n",
      "Epoch 41/100\n",
      "1/1 [==============================] - 0s 4ms/step - loss: -6660.1802 - accuracy: 0.2500\n",
      "Epoch 42/100\n",
      "1/1 [==============================] - 0s 3ms/step - loss: -6745.6719 - accuracy: 0.2500\n",
      "Epoch 43/100\n",
      "1/1 [==============================] - 0s 3ms/step - loss: -6831.8428 - accuracy: 0.2500\n",
      "Epoch 44/100\n",
      "1/1 [==============================] - 0s 4ms/step - loss: -6918.6992 - accuracy: 0.2500\n",
      "Epoch 45/100\n",
      "1/1 [==============================] - 0s 4ms/step - loss: -7006.2583 - accuracy: 0.2500\n",
      "Epoch 46/100\n",
      "1/1 [==============================] - 0s 3ms/step - loss: -7094.5405 - accuracy: 0.2500\n",
      "Epoch 47/100\n",
      "1/1 [==============================] - 0s 3ms/step - loss: -7183.5649 - accuracy: 0.2500\n",
      "Epoch 48/100\n",
      "1/1 [==============================] - 0s 6ms/step - loss: -7273.3149 - accuracy: 0.2500\n",
      "Epoch 49/100\n",
      "1/1 [==============================] - 0s 3ms/step - loss: -7363.7983 - accuracy: 0.2500\n",
      "Epoch 50/100\n",
      "1/1 [==============================] - 0s 3ms/step - loss: -7455.0205 - accuracy: 0.2500\n",
      "Epoch 51/100\n",
      "1/1 [==============================] - 0s 3ms/step - loss: -7546.9893 - accuracy: 0.2500\n",
      "Epoch 52/100\n",
      "1/1 [==============================] - 0s 2ms/step - loss: -7639.7095 - accuracy: 0.2500\n",
      "Epoch 53/100\n",
      "1/1 [==============================] - 0s 3ms/step - loss: -7733.1899 - accuracy: 0.2500\n",
      "Epoch 54/100\n",
      "1/1 [==============================] - 0s 4ms/step - loss: -7827.4360 - accuracy: 0.2500\n",
      "Epoch 55/100\n",
      "1/1 [==============================] - 0s 3ms/step - loss: -7922.4556 - accuracy: 0.2500\n",
      "Epoch 56/100\n",
      "1/1 [==============================] - 0s 3ms/step - loss: -8018.2559 - accuracy: 0.2500\n",
      "Epoch 57/100\n",
      "1/1 [==============================] - 0s 4ms/step - loss: -8114.8423 - accuracy: 0.2500\n",
      "Epoch 58/100\n",
      "1/1 [==============================] - 0s 4ms/step - loss: -8212.2236 - accuracy: 0.2500\n",
      "Epoch 59/100\n",
      "1/1 [==============================] - 0s 3ms/step - loss: -8310.4072 - accuracy: 0.2500\n",
      "Epoch 60/100\n",
      "1/1 [==============================] - 0s 5ms/step - loss: -8409.3984 - accuracy: 0.2500\n",
      "Epoch 61/100\n",
      "1/1 [==============================] - 0s 3ms/step - loss: -8509.2070 - accuracy: 0.2500\n",
      "Epoch 62/100\n",
      "1/1 [==============================] - 0s 4ms/step - loss: -8609.7939 - accuracy: 0.2500\n",
      "Epoch 63/100\n",
      "1/1 [==============================] - 0s 3ms/step - loss: -8711.1934 - accuracy: 0.2500\n",
      "Epoch 64/100\n",
      "1/1 [==============================] - 0s 4ms/step - loss: -8813.4248 - accuracy: 0.2500\n",
      "Epoch 65/100\n",
      "1/1 [==============================] - 0s 3ms/step - loss: -8916.4971 - accuracy: 0.2500\n",
      "Epoch 66/100\n",
      "1/1 [==============================] - 0s 4ms/step - loss: -9020.4189 - accuracy: 0.2500\n",
      "Epoch 67/100\n",
      "1/1 [==============================] - 0s 3ms/step - loss: -9125.0898 - accuracy: 0.2500\n",
      "Epoch 68/100\n",
      "1/1 [==============================] - 0s 4ms/step - loss: -9230.5479 - accuracy: 0.2500\n",
      "Epoch 69/100\n",
      "1/1 [==============================] - 0s 3ms/step - loss: -9336.8564 - accuracy: 0.2500\n",
      "Epoch 70/100\n",
      "1/1 [==============================] - 0s 3ms/step - loss: -9444.0449 - accuracy: 0.2500\n",
      "Epoch 71/100\n",
      "1/1 [==============================] - 0s 6ms/step - loss: -9552.1230 - accuracy: 0.2500\n",
      "Epoch 72/100\n",
      "1/1 [==============================] - 0s 3ms/step - loss: -9661.0732 - accuracy: 0.2500\n",
      "Epoch 73/100\n",
      "1/1 [==============================] - 0s 7ms/step - loss: -9770.9258 - accuracy: 0.2500\n",
      "Epoch 74/100\n",
      "1/1 [==============================] - 0s 4ms/step - loss: -9881.6973 - accuracy: 0.2500\n",
      "Epoch 75/100\n",
      "1/1 [==============================] - 0s 3ms/step - loss: -9993.3936 - accuracy: 0.2500\n",
      "Epoch 76/100\n",
      "1/1 [==============================] - 0s 3ms/step - loss: -10106.0215 - accuracy: 0.2500\n",
      "Epoch 77/100\n",
      "1/1 [==============================] - 0s 5ms/step - loss: -10219.5928 - accuracy: 0.2500\n",
      "Epoch 78/100\n",
      "1/1 [==============================] - 0s 4ms/step - loss: -10334.1133 - accuracy: 0.2500\n",
      "Epoch 79/100\n",
      "1/1 [==============================] - 0s 3ms/step - loss: -10449.5918 - accuracy: 0.2500\n",
      "Epoch 80/100\n",
      "1/1 [==============================] - 0s 4ms/step - loss: -10566.0381 - accuracy: 0.2500\n",
      "Epoch 81/100\n",
      "1/1 [==============================] - 0s 5ms/step - loss: -10683.4590 - accuracy: 0.2500\n",
      "Epoch 82/100\n",
      "1/1 [==============================] - 0s 4ms/step - loss: -10801.8623 - accuracy: 0.2500\n",
      "Epoch 83/100\n",
      "1/1 [==============================] - 0s 4ms/step - loss: -10921.2598 - accuracy: 0.2500\n",
      "Epoch 84/100\n",
      "1/1 [==============================] - 0s 4ms/step - loss: -11041.6592 - accuracy: 0.2500\n",
      "Epoch 85/100\n",
      "1/1 [==============================] - 0s 3ms/step - loss: -11163.0703 - accuracy: 0.2500\n",
      "Epoch 86/100\n",
      "1/1 [==============================] - 0s 3ms/step - loss: -11285.5000 - accuracy: 0.2500\n",
      "Epoch 87/100\n",
      "1/1 [==============================] - 0s 5ms/step - loss: -11408.9561 - accuracy: 0.2500\n",
      "Epoch 88/100\n",
      "1/1 [==============================] - 0s 2ms/step - loss: -11533.4473 - accuracy: 0.2500\n",
      "Epoch 89/100\n",
      "1/1 [==============================] - 0s 4ms/step - loss: -11658.9873 - accuracy: 0.2500\n",
      "Epoch 90/100\n",
      "1/1 [==============================] - 0s 4ms/step - loss: -11785.5811 - accuracy: 0.2500\n",
      "Epoch 91/100\n",
      "1/1 [==============================] - 0s 3ms/step - loss: -11913.2412 - accuracy: 0.2500\n",
      "Epoch 92/100\n",
      "1/1 [==============================] - 0s 2ms/step - loss: -12041.9766 - accuracy: 0.2500\n",
      "Epoch 93/100\n",
      "1/1 [==============================] - 0s 3ms/step - loss: -12171.8008 - accuracy: 0.2500\n",
      "Epoch 94/100\n",
      "1/1 [==============================] - 0s 3ms/step - loss: -12302.7227 - accuracy: 0.2500\n",
      "Epoch 95/100\n",
      "1/1 [==============================] - 0s 3ms/step - loss: -12434.7510 - accuracy: 0.2500\n",
      "Epoch 96/100\n",
      "1/1 [==============================] - 0s 3ms/step - loss: -12567.8936 - accuracy: 0.2500\n",
      "Epoch 97/100\n",
      "1/1 [==============================] - 0s 4ms/step - loss: -12702.1582 - accuracy: 0.2500\n",
      "Epoch 98/100\n",
      "1/1 [==============================] - 0s 3ms/step - loss: -12837.5625 - accuracy: 0.2500\n",
      "Epoch 99/100\n",
      "1/1 [==============================] - 0s 3ms/step - loss: -12974.1006 - accuracy: 0.2500\n",
      "Epoch 100/100\n",
      "1/1 [==============================] - 0s 6ms/step - loss: -13111.7881 - accuracy: 0.2500\n"
     ]
    },
    {
     "data": {
      "text/plain": [
       "<keras.callbacks.History at 0x243d0570d60>"
      ]
     },
     "execution_count": 59,
     "metadata": {},
     "output_type": "execute_result"
    }
   ],
   "source": [
    "model.fit(X_train_deep, y_train_deep, epochs=100, batch_size=100)"
   ]
  },
  {
   "cell_type": "code",
   "execution_count": 60,
   "id": "8cbde9f1",
   "metadata": {},
   "outputs": [
    {
     "name": "stdout",
     "output_type": "stream",
     "text": [
      "1/1 [==============================] - 0s 255ms/step - loss: -6961.8579 - accuracy: 0.2500\n",
      "Accuracy: 25.00\n"
     ]
    }
   ],
   "source": [
    "_, accuracy = model.evaluate(X_test_deep, y_test_deep)\n",
    "print('Accuracy: %.2f' % (accuracy*100))"
   ]
  },
  {
   "cell_type": "markdown",
   "id": "597120f7",
   "metadata": {},
   "source": [
    "### Notas\n",
    "* Melhoria significativa em disversos algoritmos\n",
    "* Redes Neurais ainda se mostram muito ineficientes"
   ]
  },
  {
   "cell_type": "code",
   "execution_count": 61,
   "id": "d38cbf68",
   "metadata": {},
   "outputs": [],
   "source": [
    "from sklearn.metrics import confusion_matrix, accuracy_score, classification_report\n",
    "\n",
    "clf = GradientBoostingClassifier()\n",
    "clf.fit(X_train, y_train)  \n",
    "predicoes = clf.predict(X_test)"
   ]
  },
  {
   "cell_type": "code",
   "execution_count": 62,
   "id": "7a02033a",
   "metadata": {},
   "outputs": [
    {
     "data": {
      "text/plain": [
       "0.65"
      ]
     },
     "execution_count": 62,
     "metadata": {},
     "output_type": "execute_result"
    }
   ],
   "source": [
    "accuracy_score(y_test, predicoes)"
   ]
  },
  {
   "cell_type": "code",
   "execution_count": 63,
   "id": "ba503437",
   "metadata": {},
   "outputs": [
    {
     "data": {
      "text/plain": [
       "array([[4, 1, 0, 0],\n",
       "       [1, 3, 1, 0],\n",
       "       [0, 1, 4, 0],\n",
       "       [2, 0, 1, 2]], dtype=int64)"
      ]
     },
     "execution_count": 63,
     "metadata": {},
     "output_type": "execute_result"
    }
   ],
   "source": [
    "confusion_matrix(y_test, predicoes)"
   ]
  },
  {
   "cell_type": "code",
   "execution_count": 64,
   "id": "98f73410",
   "metadata": {},
   "outputs": [
    {
     "data": {
      "image/png": "[encoded data removed]",
      "text/plain": [
       "<Figure size 432x288 with 2 Axes>"
      ]
     },
     "metadata": {
      "needs_background": "light"
     },
     "output_type": "display_data"
    }
   ],
   "source": [
    "sns.heatmap(confusion_matrix(y_test, predicoes));"
   ]
  },
  {
   "cell_type": "code",
   "execution_count": 65,
   "id": "74540946",
   "metadata": {},
   "outputs": [
    {
     "name": "stdout",
     "output_type": "stream",
     "text": [
      "              precision    recall  f1-score   support\n",
      "\n",
      "           0       0.57      0.80      0.67         5\n",
      "           1       0.60      0.60      0.60         5\n",
      "           2       0.67      0.80      0.73         5\n",
      "           3       1.00      0.40      0.57         5\n",
      "\n",
      "    accuracy                           0.65        20\n",
      "   macro avg       0.71      0.65      0.64        20\n",
      "weighted avg       0.71      0.65      0.64        20\n",
      "\n"
     ]
    }
   ],
   "source": [
    "print(classification_report(y_test, predicoes))"
   ]
  },
  {
   "cell_type": "code",
   "execution_count": 66,
   "id": "5be433e1",
   "metadata": {},
   "outputs": [
    {
     "data": {
      "text/plain": [
       "array(['0 - Regime Normal/', '1 - Falta de tensão/', '2 - Sobrecarga/',\n",
       "       '3 - Desbalanceamento do eixo/'], dtype=object)"
      ]
     },
     "execution_count": 66,
     "metadata": {},
     "output_type": "execute_result"
    }
   ],
   "source": [
    "lbl_enc.inverse_transform([0,1,2,3])"
   ]
  },
  {
   "cell_type": "markdown",
   "id": "ce75bac9",
   "metadata": {},
   "source": [
    "## Notas\n",
    "* O algoritmo está com dificuldades para classificar corretamente a 'Falta de tensão', confundindo com \"Desbalanceamento de eixo\", entretanto. identifica perfeitamente a 'Falta de Tensão' e o 'Regime Normal'"
   ]
  },
  {
   "cell_type": "markdown",
   "id": "4df64bc2",
   "metadata": {},
   "source": [
    "# 4º Teste: Aplicando um filtro passa alta nos dados da fft"
   ]
  },
  {
   "cell_type": "code",
   "execution_count": 125,
   "id": "83344048",
   "metadata": {},
   "outputs": [
    {
     "data": {
      "text/html": [
       "<div>\n",
       "<style scoped>\n",
       "    .dataframe tbody tr th:only-of-type {\n",
       "        vertical-align: middle;\n",
       "    }\n",
       "\n",
       "    .dataframe tbody tr th {\n",
       "        vertical-align: top;\n",
       "    }\n",
       "\n",
       "    .dataframe thead th {\n",
       "        text-align: right;\n",
       "    }\n",
       "</style>\n",
       "<table border=\"1\" class=\"dataframe\">\n",
       "  <thead>\n",
       "    <tr style=\"text-align: right;\">\n",
       "      <th></th>\n",
       "      <th>Média</th>\n",
       "      <th>Minímo</th>\n",
       "      <th>Máximo</th>\n",
       "      <th>FFT Real</th>\n",
       "      <th>FFT Imaginário</th>\n",
       "    </tr>\n",
       "  </thead>\n",
       "  <tbody>\n",
       "    <tr>\n",
       "      <th>0</th>\n",
       "      <td>305.159180</td>\n",
       "      <td>-3476.0</td>\n",
       "      <td>3145.0</td>\n",
       "      <td>8216.385376</td>\n",
       "      <td>-2.019346e-13</td>\n",
       "    </tr>\n",
       "    <tr>\n",
       "      <th>1</th>\n",
       "      <td>19.894043</td>\n",
       "      <td>-3654.0</td>\n",
       "      <td>4321.0</td>\n",
       "      <td>8145.628366</td>\n",
       "      <td>-2.192969e-13</td>\n",
       "    </tr>\n",
       "    <tr>\n",
       "      <th>2</th>\n",
       "      <td>296.060547</td>\n",
       "      <td>-3701.0</td>\n",
       "      <td>4180.0</td>\n",
       "      <td>9802.488175</td>\n",
       "      <td>0.000000e+00</td>\n",
       "    </tr>\n",
       "    <tr>\n",
       "      <th>3</th>\n",
       "      <td>617.674805</td>\n",
       "      <td>-3547.0</td>\n",
       "      <td>4654.0</td>\n",
       "      <td>10037.539304</td>\n",
       "      <td>7.846020e-13</td>\n",
       "    </tr>\n",
       "    <tr>\n",
       "      <th>4</th>\n",
       "      <td>313.874023</td>\n",
       "      <td>-3681.0</td>\n",
       "      <td>4748.0</td>\n",
       "      <td>9933.713270</td>\n",
       "      <td>8.886666e-13</td>\n",
       "    </tr>\n",
       "  </tbody>\n",
       "</table>\n",
       "</div>"
      ],
      "text/plain": [
       "        Média  Minímo  Máximo      FFT Real  FFT Imaginário\n",
       "0  305.159180 -3476.0  3145.0   8216.385376   -2.019346e-13\n",
       "1   19.894043 -3654.0  4321.0   8145.628366   -2.192969e-13\n",
       "2  296.060547 -3701.0  4180.0   9802.488175    0.000000e+00\n",
       "3  617.674805 -3547.0  4654.0  10037.539304    7.846020e-13\n",
       "4  313.874023 -3681.0  4748.0   9933.713270    8.886666e-13"
      ]
     },
     "execution_count": 125,
     "metadata": {},
     "output_type": "execute_result"
    }
   ],
   "source": [
    "def transform_array(arr, filter_limit = 50):    \n",
    "    arr = arr.values   \n",
    "    \n",
    "    mean = arr.mean()\n",
    "    minimun = arr.min()\n",
    "    maximun = arr.max()        \n",
    "   \n",
    "    fft_filtered = arr[np.where(arr > filter_limit)]\n",
    "    fft_value = np.fft.fft(fft_filtered)   \n",
    "    \n",
    "    real_part = np.abs(fft_value).mean()\n",
    "    imaginary_part = np.imag(fft_value).mean()    \n",
    "\n",
    "    return np.array([mean, minimun, maximun, real_part, imaginary_part])\n",
    "\n",
    "\n",
    "\n",
    "X_transform = X.apply(transform_array, axis=1, result_type='expand')\n",
    "X_transform.columns = ['Média', 'Minímo', 'Máximo', 'FFT Real', 'FFT Imaginário']\n",
    "X_transform.head()"
   ]
  },
  {
   "cell_type": "code",
   "execution_count": 126,
   "id": "5aa8fd19",
   "metadata": {},
   "outputs": [],
   "source": [
    "from sklearn.model_selection import train_test_split\n",
    "\n",
    "X_train, X_test, y_train, y_test = train_test_split(X_transform, y, test_size=0.2, random_state=42, stratify=y)"
   ]
  },
  {
   "cell_type": "code",
   "execution_count": 127,
   "id": "fd316431",
   "metadata": {
    "scrolled": true
   },
   "outputs": [
    {
     "name": "stdout",
     "output_type": "stream",
     "text": [
      "KNeighborsClassifier(n_neighbors=3)\n",
      "model score: 0.550\n",
      "\n",
      "\n",
      "SVC(C=0.025, gamma='auto', probability=True)\n",
      "model score: 0.350\n",
      "\n",
      "\n",
      "NuSVC(gamma='auto', probability=True)\n",
      "model score: 0.350\n",
      "\n",
      "\n",
      "DecisionTreeClassifier()\n",
      "model score: 0.600\n",
      "\n",
      "\n",
      "RandomForestClassifier()\n",
      "model score: 0.550\n",
      "\n",
      "\n",
      "AdaBoostClassifier()\n",
      "model score: 0.450\n",
      "\n",
      "\n",
      "GradientBoostingClassifier()\n",
      "model score: 0.500\n",
      "\n",
      "\n"
     ]
    }
   ],
   "source": [
    "from sklearn.metrics import accuracy_score, log_loss\n",
    "from sklearn.neighbors import KNeighborsClassifier\n",
    "from sklearn.svm import SVC, LinearSVC, NuSVC\n",
    "from sklearn.tree import DecisionTreeClassifier\n",
    "from sklearn.ensemble import RandomForestClassifier, AdaBoostClassifier, GradientBoostingClassifier\n",
    "from sklearn.discriminant_analysis import LinearDiscriminantAnalysis\n",
    "from sklearn.discriminant_analysis import QuadraticDiscriminantAnalysis\n",
    "\n",
    "classifiers = [\n",
    "    KNeighborsClassifier(3),\n",
    "    SVC(kernel=\"rbf\", C=0.025, probability=True, gamma=\"auto\"),\n",
    "    NuSVC(probability=True, gamma=\"auto\"),\n",
    "    DecisionTreeClassifier(),\n",
    "    RandomForestClassifier(n_estimators=100),\n",
    "    AdaBoostClassifier(),\n",
    "    GradientBoostingClassifier()\n",
    "]\n",
    "\n",
    "for classifier in classifiers:\n",
    "    classifier.fit(X_train, y_train)   \n",
    "    print(classifier)\n",
    "    print(\"model score: %.3f\" % classifier.score(X_test, y_test))\n",
    "    print(\"\\n\")"
   ]
  },
  {
   "cell_type": "code",
   "execution_count": 128,
   "id": "b21dae42",
   "metadata": {},
   "outputs": [],
   "source": [
    "from sklearn.metrics import confusion_matrix, accuracy_score, classification_report\n",
    "\n",
    "clf = DecisionTreeClassifier()\n",
    "clf.fit(X_train, y_train)  \n",
    "predicoes = clf.predict(X_test)"
   ]
  },
  {
   "cell_type": "code",
   "execution_count": 129,
   "id": "56a30253",
   "metadata": {},
   "outputs": [
    {
     "data": {
      "text/plain": [
       "array([[2, 0, 1, 2],\n",
       "       [2, 2, 0, 1],\n",
       "       [0, 0, 4, 1],\n",
       "       [0, 1, 0, 4]], dtype=int64)"
      ]
     },
     "execution_count": 129,
     "metadata": {},
     "output_type": "execute_result"
    }
   ],
   "source": [
    "confusion_matrix(y_test, predicoes)"
   ]
  },
  {
   "cell_type": "code",
   "execution_count": 130,
   "id": "fa0a1cc6",
   "metadata": {
    "scrolled": true
   },
   "outputs": [
    {
     "data": {
      "image/png": "[encoded data removed]",
      "text/plain": [
       "<Figure size 432x288 with 2 Axes>"
      ]
     },
     "metadata": {
      "needs_background": "light"
     },
     "output_type": "display_data"
    }
   ],
   "source": [
    "sns.heatmap(confusion_matrix(y_test, predicoes));"
   ]
  },
  {
   "cell_type": "code",
   "execution_count": 131,
   "id": "96a47847",
   "metadata": {
    "scrolled": true
   },
   "outputs": [
    {
     "name": "stdout",
     "output_type": "stream",
     "text": [
      "              precision    recall  f1-score   support\n",
      "\n",
      "           0       0.50      0.40      0.44         5\n",
      "           1       0.67      0.40      0.50         5\n",
      "           2       0.80      0.80      0.80         5\n",
      "           3       0.50      0.80      0.62         5\n",
      "\n",
      "    accuracy                           0.60        20\n",
      "   macro avg       0.62      0.60      0.59        20\n",
      "weighted avg       0.62      0.60      0.59        20\n",
      "\n"
     ]
    }
   ],
   "source": [
    "print(classification_report(y_test, predicoes))"
   ]
  },
  {
   "cell_type": "code",
   "execution_count": 132,
   "id": "e109d943",
   "metadata": {},
   "outputs": [
    {
     "data": {
      "text/plain": [
       "array(['0 - Regime Normal/', '1 - Falta de tensão/', '2 - Sobrecarga/',\n",
       "       '3 - Desbalanceamento do eixo/'], dtype=object)"
      ]
     },
     "execution_count": 132,
     "metadata": {},
     "output_type": "execute_result"
    }
   ],
   "source": [
    "lbl_enc.classes_"
   ]
  },
  {
   "cell_type": "markdown",
   "id": "e9fbbaf7",
   "metadata": {},
   "source": [
    "# Notas:\n",
    "* O algoritmo tem dificuldade para diferenciar \"0\" e \"1\"\n",
    "* Será que um ganho no sinal ajudaria?"
   ]
  },
  {
   "cell_type": "markdown",
   "id": "959dd2be",
   "metadata": {},
   "source": [
    "# 5º Teste: Aplicando um ganho na parte imaginaria com as técnicas do 3º teste"
   ]
  },
  {
   "cell_type": "code",
   "execution_count": 74,
   "id": "fa883652",
   "metadata": {},
   "outputs": [],
   "source": [
    "ganho = 0.5\n",
    "\n",
    "def ganho_audio(row):\n",
    "    row[4] = row[4] * ganho\n",
    "    return row"
   ]
  },
  {
   "cell_type": "code",
   "execution_count": 75,
   "id": "dd04464b",
   "metadata": {},
   "outputs": [
    {
     "data": {
      "text/html": [
       "<div>\n",
       "<style scoped>\n",
       "    .dataframe tbody tr th:only-of-type {\n",
       "        vertical-align: middle;\n",
       "    }\n",
       "\n",
       "    .dataframe tbody tr th {\n",
       "        vertical-align: top;\n",
       "    }\n",
       "\n",
       "    .dataframe thead th {\n",
       "        text-align: right;\n",
       "    }\n",
       "</style>\n",
       "<table border=\"1\" class=\"dataframe\">\n",
       "  <thead>\n",
       "    <tr style=\"text-align: right;\">\n",
       "      <th></th>\n",
       "      <th>Média</th>\n",
       "      <th>Minímo</th>\n",
       "      <th>Máximo</th>\n",
       "      <th>FFT Real</th>\n",
       "      <th>FFT Imaginário</th>\n",
       "    </tr>\n",
       "  </thead>\n",
       "  <tbody>\n",
       "    <tr>\n",
       "      <th>0</th>\n",
       "      <td>305.159180</td>\n",
       "      <td>-3476.0</td>\n",
       "      <td>3145.0</td>\n",
       "      <td>8216.385376</td>\n",
       "      <td>-1.009673e-13</td>\n",
       "    </tr>\n",
       "    <tr>\n",
       "      <th>1</th>\n",
       "      <td>19.894043</td>\n",
       "      <td>-3654.0</td>\n",
       "      <td>4321.0</td>\n",
       "      <td>8145.628366</td>\n",
       "      <td>-1.096484e-13</td>\n",
       "    </tr>\n",
       "    <tr>\n",
       "      <th>2</th>\n",
       "      <td>296.060547</td>\n",
       "      <td>-3701.0</td>\n",
       "      <td>4180.0</td>\n",
       "      <td>9802.488175</td>\n",
       "      <td>0.000000e+00</td>\n",
       "    </tr>\n",
       "    <tr>\n",
       "      <th>3</th>\n",
       "      <td>617.674805</td>\n",
       "      <td>-3547.0</td>\n",
       "      <td>4654.0</td>\n",
       "      <td>10037.539304</td>\n",
       "      <td>3.923010e-13</td>\n",
       "    </tr>\n",
       "    <tr>\n",
       "      <th>4</th>\n",
       "      <td>313.874023</td>\n",
       "      <td>-3681.0</td>\n",
       "      <td>4748.0</td>\n",
       "      <td>9933.713270</td>\n",
       "      <td>4.443333e-13</td>\n",
       "    </tr>\n",
       "  </tbody>\n",
       "</table>\n",
       "</div>"
      ],
      "text/plain": [
       "        Média  Minímo  Máximo      FFT Real  FFT Imaginário\n",
       "0  305.159180 -3476.0  3145.0   8216.385376   -1.009673e-13\n",
       "1   19.894043 -3654.0  4321.0   8145.628366   -1.096484e-13\n",
       "2  296.060547 -3701.0  4180.0   9802.488175    0.000000e+00\n",
       "3  617.674805 -3547.0  4654.0  10037.539304    3.923010e-13\n",
       "4  313.874023 -3681.0  4748.0   9933.713270    4.443333e-13"
      ]
     },
     "execution_count": 75,
     "metadata": {},
     "output_type": "execute_result"
    }
   ],
   "source": [
    "X_transform = X.apply(transform_array, axis=1, result_type='expand')\n",
    "X_ganho = X_transform.apply(ganho_audio, axis=1, result_type='expand')\n",
    "X_ganho.columns = ['Média', 'Minímo', 'Máximo', 'FFT Real', 'FFT Imaginário']\n",
    "X_ganho.head()"
   ]
  },
  {
   "cell_type": "code",
   "execution_count": 76,
   "id": "29f83473",
   "metadata": {},
   "outputs": [],
   "source": [
    "from sklearn.preprocessing import StandardScaler\n",
    "from sklearn.model_selection import train_test_split\n",
    "\n",
    "X_train, X_test, y_train, y_test = train_test_split(X_ganho, y, test_size=0.2, random_state=42, stratify=y)"
   ]
  },
  {
   "cell_type": "code",
   "execution_count": null,
   "id": "a7561f4a",
   "metadata": {},
   "outputs": [],
   "source": []
  },
  {
   "cell_type": "code",
   "execution_count": 77,
   "id": "e5ad4bd8",
   "metadata": {},
   "outputs": [
    {
     "name": "stdout",
     "output_type": "stream",
     "text": [
      "KNeighborsClassifier(n_neighbors=3)\n",
      "model score: 0.550\n",
      "\n",
      "\n",
      "SVC(C=0.025, gamma='auto', probability=True)\n",
      "model score: 0.350\n",
      "\n",
      "\n",
      "NuSVC(gamma='auto', probability=True)\n",
      "model score: 0.350\n",
      "\n",
      "\n",
      "DecisionTreeClassifier()\n",
      "model score: 0.600\n",
      "\n",
      "\n",
      "RandomForestClassifier()\n",
      "model score: 0.650\n",
      "\n",
      "\n",
      "AdaBoostClassifier()\n",
      "model score: 0.450\n",
      "\n",
      "\n",
      "GradientBoostingClassifier()\n",
      "model score: 0.500\n",
      "\n",
      "\n"
     ]
    }
   ],
   "source": [
    "from sklearn.metrics import accuracy_score, log_loss\n",
    "from sklearn.neighbors import KNeighborsClassifier\n",
    "from sklearn.svm import SVC, LinearSVC, NuSVC\n",
    "from sklearn.tree import DecisionTreeClassifier\n",
    "from sklearn.ensemble import RandomForestClassifier, AdaBoostClassifier, GradientBoostingClassifier\n",
    "from sklearn.discriminant_analysis import LinearDiscriminantAnalysis\n",
    "from sklearn.discriminant_analysis import QuadraticDiscriminantAnalysis\n",
    "\n",
    "classifiers = [\n",
    "    KNeighborsClassifier(3),\n",
    "    SVC(kernel=\"rbf\", C=0.025, probability=True, gamma=\"auto\"),\n",
    "    NuSVC(probability=True, gamma=\"auto\"),\n",
    "    DecisionTreeClassifier(),\n",
    "    RandomForestClassifier(n_estimators=100),\n",
    "    AdaBoostClassifier(),\n",
    "    GradientBoostingClassifier()\n",
    "]\n",
    "\n",
    "for classifier in classifiers:\n",
    "    classifier.fit(X_train, y_train)   \n",
    "    print(classifier)\n",
    "    print(\"model score: %.3f\" % classifier.score(X_test, y_test))\n",
    "    print(\"\\n\")"
   ]
  },
  {
   "cell_type": "code",
   "execution_count": 78,
   "id": "b4f6924c",
   "metadata": {},
   "outputs": [],
   "source": [
    "from sklearn.metrics import confusion_matrix, accuracy_score, classification_report\n",
    "\n",
    "clf = DecisionTreeClassifier()\n",
    "clf.fit(X_train, y_train)  \n",
    "predicoes = clf.predict(X_test)"
   ]
  },
  {
   "cell_type": "code",
   "execution_count": 79,
   "id": "89216c68",
   "metadata": {},
   "outputs": [
    {
     "data": {
      "text/plain": [
       "array([[2, 1, 1, 1],\n",
       "       [2, 3, 0, 0],\n",
       "       [0, 1, 3, 1],\n",
       "       [0, 1, 0, 4]], dtype=int64)"
      ]
     },
     "execution_count": 79,
     "metadata": {},
     "output_type": "execute_result"
    }
   ],
   "source": [
    "confusion_matrix(y_test, predicoes)"
   ]
  },
  {
   "cell_type": "code",
   "execution_count": 80,
   "id": "1ffa067e",
   "metadata": {},
   "outputs": [
    {
     "data": {
      "image/png": "[encoded data removed]",
      "text/plain": [
       "<Figure size 432x288 with 2 Axes>"
      ]
     },
     "metadata": {
      "needs_background": "light"
     },
     "output_type": "display_data"
    }
   ],
   "source": [
    "sns.heatmap(confusion_matrix(y_test, predicoes));"
   ]
  },
  {
   "cell_type": "code",
   "execution_count": 81,
   "id": "541e1a9a",
   "metadata": {
    "scrolled": true
   },
   "outputs": [
    {
     "name": "stdout",
     "output_type": "stream",
     "text": [
      "              precision    recall  f1-score   support\n",
      "\n",
      "           0       0.50      0.40      0.44         5\n",
      "           1       0.50      0.60      0.55         5\n",
      "           2       0.75      0.60      0.67         5\n",
      "           3       0.67      0.80      0.73         5\n",
      "\n",
      "    accuracy                           0.60        20\n",
      "   macro avg       0.60      0.60      0.60        20\n",
      "weighted avg       0.60      0.60      0.60        20\n",
      "\n"
     ]
    }
   ],
   "source": [
    "print(classification_report(y_test, predicoes))"
   ]
  },
  {
   "cell_type": "markdown",
   "id": "a3e7a3c8",
   "metadata": {},
   "source": [
    "# 6º Teste: Aplicando faixas de frequencia ao conjunto de dados\n",
    "\n",
    "Sera verificado se o conjunto de dados possui um valor minimo em alguns agrupamentos de frequencias nas seguintes faixas:\n",
    "\n",
    "* 0-250\n",
    "* 250-500\n",
    "* 500-750\n",
    "* 750-1000\n",
    "* 1000-1250\n",
    "* maiores que 1250"
   ]
  },
  {
   "cell_type": "code",
   "execution_count": 82,
   "id": "69ed53cc",
   "metadata": {},
   "outputs": [],
   "source": [
    "X_fft = np.fft.fft(X)\n",
    "n = len(X)\n",
    "X_fft = 2.0/n * np.abs(X_fft[:n//2])\n",
    "arr_dataset_mean = X_fft.mean(axis=0)\n",
    "\n",
    "ranges = (\n",
    "        (0, 100),\n",
    "        (250, 750),\n",
    "        (750, 1250),\n",
    "        (1250, 2000),\n",
    ")\n",
    "\n",
    "\n",
    "def mean_amplitude_by_freq_range(arr, high, low, sample_rate = 22050):\n",
    "    n = len(data)\n",
    "    T = 1/sample_rate\n",
    "\n",
    "    amplitude = np.fft.fft(arr) # Aplica a FFT no audio\n",
    "    amplitude = 2.0/n * np.abs(amplitude[:n//2]) # Módulo da amplitude\n",
    "    frequency = np.linspace(0.0, 1.0/(2.0*T), n//2) # Cria um array contendo as frequencias\n",
    "    min_index = np.argmax(frequency >= low)\n",
    "    max_index = np.argmax(frequency >= high)\n",
    "\n",
    "    return amplitude[min_index:max_index].mean()\n",
    "    \n",
    "    \n",
    "def get_ranges(row, ranges):    \n",
    "    arr_out = []   \n",
    "    \n",
    "    for low, high in ranges:      \n",
    "        dataset_mean = mean_amplitude_by_freq_range(arr_dataset_mean, high, low)\n",
    "        register_mean = mean_amplitude_by_freq_range(row, high, low)\n",
    "        \n",
    "        # Se o valor do registro for maior que a média considerar a faixa como verdadeira\n",
    "        if register_mean >= 1.5 * dataset_mean:\n",
    "            arr_out.append(1)\n",
    "        else:\n",
    "            arr_out.append(0)\n",
    "    \n",
    "    return arr_out\n",
    "\n",
    "\n",
    "X_extract = pd.DataFrame([get_ranges(r, ranges) for r in X.values])\n",
    "X_extract.columns = [str(l) + \"-\" + str(h) for l, h in ranges]"
   ]
  },
  {
   "cell_type": "code",
   "execution_count": 83,
   "id": "0271de99",
   "metadata": {},
   "outputs": [
    {
     "data": {
      "text/html": [
       "<div>\n",
       "<style scoped>\n",
       "    .dataframe tbody tr th:only-of-type {\n",
       "        vertical-align: middle;\n",
       "    }\n",
       "\n",
       "    .dataframe tbody tr th {\n",
       "        vertical-align: top;\n",
       "    }\n",
       "\n",
       "    .dataframe thead th {\n",
       "        text-align: right;\n",
       "    }\n",
       "</style>\n",
       "<table border=\"1\" class=\"dataframe\">\n",
       "  <thead>\n",
       "    <tr style=\"text-align: right;\">\n",
       "      <th></th>\n",
       "      <th>0-100</th>\n",
       "      <th>250-750</th>\n",
       "      <th>750-1250</th>\n",
       "      <th>1250-2000</th>\n",
       "    </tr>\n",
       "  </thead>\n",
       "  <tbody>\n",
       "    <tr>\n",
       "      <th>0</th>\n",
       "      <td>1</td>\n",
       "      <td>0</td>\n",
       "      <td>0</td>\n",
       "      <td>0</td>\n",
       "    </tr>\n",
       "    <tr>\n",
       "      <th>1</th>\n",
       "      <td>1</td>\n",
       "      <td>0</td>\n",
       "      <td>0</td>\n",
       "      <td>0</td>\n",
       "    </tr>\n",
       "    <tr>\n",
       "      <th>2</th>\n",
       "      <td>1</td>\n",
       "      <td>0</td>\n",
       "      <td>0</td>\n",
       "      <td>0</td>\n",
       "    </tr>\n",
       "    <tr>\n",
       "      <th>3</th>\n",
       "      <td>1</td>\n",
       "      <td>0</td>\n",
       "      <td>0</td>\n",
       "      <td>0</td>\n",
       "    </tr>\n",
       "    <tr>\n",
       "      <th>4</th>\n",
       "      <td>1</td>\n",
       "      <td>0</td>\n",
       "      <td>0</td>\n",
       "      <td>0</td>\n",
       "    </tr>\n",
       "    <tr>\n",
       "      <th>...</th>\n",
       "      <td>...</td>\n",
       "      <td>...</td>\n",
       "      <td>...</td>\n",
       "      <td>...</td>\n",
       "    </tr>\n",
       "    <tr>\n",
       "      <th>91</th>\n",
       "      <td>0</td>\n",
       "      <td>0</td>\n",
       "      <td>0</td>\n",
       "      <td>0</td>\n",
       "    </tr>\n",
       "    <tr>\n",
       "      <th>92</th>\n",
       "      <td>0</td>\n",
       "      <td>0</td>\n",
       "      <td>1</td>\n",
       "      <td>1</td>\n",
       "    </tr>\n",
       "    <tr>\n",
       "      <th>93</th>\n",
       "      <td>1</td>\n",
       "      <td>0</td>\n",
       "      <td>1</td>\n",
       "      <td>0</td>\n",
       "    </tr>\n",
       "    <tr>\n",
       "      <th>94</th>\n",
       "      <td>1</td>\n",
       "      <td>0</td>\n",
       "      <td>1</td>\n",
       "      <td>0</td>\n",
       "    </tr>\n",
       "    <tr>\n",
       "      <th>95</th>\n",
       "      <td>1</td>\n",
       "      <td>0</td>\n",
       "      <td>1</td>\n",
       "      <td>0</td>\n",
       "    </tr>\n",
       "  </tbody>\n",
       "</table>\n",
       "<p>96 rows × 4 columns</p>\n",
       "</div>"
      ],
      "text/plain": [
       "    0-100  250-750  750-1250  1250-2000\n",
       "0       1        0         0          0\n",
       "1       1        0         0          0\n",
       "2       1        0         0          0\n",
       "3       1        0         0          0\n",
       "4       1        0         0          0\n",
       "..    ...      ...       ...        ...\n",
       "91      0        0         0          0\n",
       "92      0        0         1          1\n",
       "93      1        0         1          0\n",
       "94      1        0         1          0\n",
       "95      1        0         1          0\n",
       "\n",
       "[96 rows x 4 columns]"
      ]
     },
     "execution_count": 83,
     "metadata": {},
     "output_type": "execute_result"
    }
   ],
   "source": [
    "X_extract"
   ]
  },
  {
   "cell_type": "markdown",
   "id": "ca31d834",
   "metadata": {},
   "source": [
    "### Baixa variacao, aumentar o numero de faixas"
   ]
  },
  {
   "cell_type": "code",
   "execution_count": 84,
   "id": "ecefd3ab",
   "metadata": {},
   "outputs": [],
   "source": [
    "X_fft = np.fft.fft(X)\n",
    "X_fft = 2.0/n * np.abs(X_fft[:n//2])\n",
    "arr_dataset_mean = X_fft.mean(axis=0)\n",
    "\n",
    "ranges = (\n",
    "        (0, 100),\n",
    "        (100, 200),\n",
    "        (200, 300),\n",
    "        (300, 400),\n",
    "        (400, 500),\n",
    "        (500, 600),\n",
    "        (600, 700),\n",
    "        (700, 800),\n",
    "        (800, 900),\n",
    "        (900, 1000),\n",
    "        (1000, 1100),\n",
    "        (1100, 1200),\n",
    "        (1200, 2000),\n",
    ")\n",
    "\n",
    "\n",
    "def mean_amplitude_by_freq_range(arr, high, low, sample_rate = 22050):\n",
    "    n = len(data)\n",
    "    T = 1/sample_rate\n",
    "\n",
    "    amplitude = np.fft.fft(arr) # Aplica a FFT no audio\n",
    "    amplitude = 2.0/n * np.abs(amplitude[:n//2]) # Módulo da amplitude\n",
    "    frequency = np.linspace(0.0, 1.0/(2.0*T), n//2) # Cria um array contendo as frequencias\n",
    "    min_index = np.argmax(frequency >= low)\n",
    "    max_index = np.argmax(frequency >= high)\n",
    "\n",
    "    return amplitude[min_index:max_index].mean()\n",
    "    \n",
    "    \n",
    "def get_ranges(row, ranges):    \n",
    "    arr_out = []   \n",
    "    \n",
    "    for low, high in ranges:      \n",
    "        dataset_mean = mean_amplitude_by_freq_range(arr_dataset_mean, high, low)\n",
    "        register_mean = mean_amplitude_by_freq_range(row, high, low)\n",
    "        \n",
    "        # Se o valor do registro for maior que a média considerar a faixa como verdadeira\n",
    "        if register_mean >= 1.5 * dataset_mean:\n",
    "            arr_out.append(1)\n",
    "        else:\n",
    "            arr_out.append(0)\n",
    "    \n",
    "    return arr_out\n",
    "\n",
    "\n",
    "X_extract = pd.DataFrame([get_ranges(r, ranges) for r in X.values])\n",
    "X_extract.columns = [str(l) + \"-\" + str(h) for l, h in ranges]"
   ]
  },
  {
   "cell_type": "code",
   "execution_count": 85,
   "id": "56a865a9",
   "metadata": {},
   "outputs": [
    {
     "data": {
      "text/html": [
       "<div>\n",
       "<style scoped>\n",
       "    .dataframe tbody tr th:only-of-type {\n",
       "        vertical-align: middle;\n",
       "    }\n",
       "\n",
       "    .dataframe tbody tr th {\n",
       "        vertical-align: top;\n",
       "    }\n",
       "\n",
       "    .dataframe thead th {\n",
       "        text-align: right;\n",
       "    }\n",
       "</style>\n",
       "<table border=\"1\" class=\"dataframe\">\n",
       "  <thead>\n",
       "    <tr style=\"text-align: right;\">\n",
       "      <th></th>\n",
       "      <th>0-100</th>\n",
       "      <th>100-200</th>\n",
       "      <th>200-300</th>\n",
       "      <th>300-400</th>\n",
       "      <th>400-500</th>\n",
       "      <th>500-600</th>\n",
       "      <th>600-700</th>\n",
       "      <th>700-800</th>\n",
       "      <th>800-900</th>\n",
       "      <th>900-1000</th>\n",
       "      <th>1000-1100</th>\n",
       "      <th>1100-1200</th>\n",
       "      <th>1200-2000</th>\n",
       "    </tr>\n",
       "  </thead>\n",
       "  <tbody>\n",
       "    <tr>\n",
       "      <th>0</th>\n",
       "      <td>1</td>\n",
       "      <td>0</td>\n",
       "      <td>0</td>\n",
       "      <td>0</td>\n",
       "      <td>0</td>\n",
       "      <td>0</td>\n",
       "      <td>0</td>\n",
       "      <td>0</td>\n",
       "      <td>0</td>\n",
       "      <td>0</td>\n",
       "      <td>0</td>\n",
       "      <td>0</td>\n",
       "      <td>0</td>\n",
       "    </tr>\n",
       "    <tr>\n",
       "      <th>1</th>\n",
       "      <td>1</td>\n",
       "      <td>0</td>\n",
       "      <td>0</td>\n",
       "      <td>0</td>\n",
       "      <td>0</td>\n",
       "      <td>0</td>\n",
       "      <td>0</td>\n",
       "      <td>0</td>\n",
       "      <td>0</td>\n",
       "      <td>0</td>\n",
       "      <td>0</td>\n",
       "      <td>0</td>\n",
       "      <td>0</td>\n",
       "    </tr>\n",
       "    <tr>\n",
       "      <th>2</th>\n",
       "      <td>1</td>\n",
       "      <td>0</td>\n",
       "      <td>0</td>\n",
       "      <td>0</td>\n",
       "      <td>0</td>\n",
       "      <td>0</td>\n",
       "      <td>0</td>\n",
       "      <td>0</td>\n",
       "      <td>0</td>\n",
       "      <td>0</td>\n",
       "      <td>0</td>\n",
       "      <td>0</td>\n",
       "      <td>0</td>\n",
       "    </tr>\n",
       "    <tr>\n",
       "      <th>3</th>\n",
       "      <td>1</td>\n",
       "      <td>0</td>\n",
       "      <td>0</td>\n",
       "      <td>0</td>\n",
       "      <td>0</td>\n",
       "      <td>0</td>\n",
       "      <td>0</td>\n",
       "      <td>0</td>\n",
       "      <td>0</td>\n",
       "      <td>0</td>\n",
       "      <td>0</td>\n",
       "      <td>0</td>\n",
       "      <td>0</td>\n",
       "    </tr>\n",
       "    <tr>\n",
       "      <th>4</th>\n",
       "      <td>1</td>\n",
       "      <td>0</td>\n",
       "      <td>0</td>\n",
       "      <td>0</td>\n",
       "      <td>0</td>\n",
       "      <td>0</td>\n",
       "      <td>0</td>\n",
       "      <td>0</td>\n",
       "      <td>0</td>\n",
       "      <td>0</td>\n",
       "      <td>0</td>\n",
       "      <td>0</td>\n",
       "      <td>0</td>\n",
       "    </tr>\n",
       "    <tr>\n",
       "      <th>...</th>\n",
       "      <td>...</td>\n",
       "      <td>...</td>\n",
       "      <td>...</td>\n",
       "      <td>...</td>\n",
       "      <td>...</td>\n",
       "      <td>...</td>\n",
       "      <td>...</td>\n",
       "      <td>...</td>\n",
       "      <td>...</td>\n",
       "      <td>...</td>\n",
       "      <td>...</td>\n",
       "      <td>...</td>\n",
       "      <td>...</td>\n",
       "    </tr>\n",
       "    <tr>\n",
       "      <th>91</th>\n",
       "      <td>0</td>\n",
       "      <td>0</td>\n",
       "      <td>0</td>\n",
       "      <td>0</td>\n",
       "      <td>0</td>\n",
       "      <td>0</td>\n",
       "      <td>0</td>\n",
       "      <td>0</td>\n",
       "      <td>0</td>\n",
       "      <td>0</td>\n",
       "      <td>0</td>\n",
       "      <td>0</td>\n",
       "      <td>0</td>\n",
       "    </tr>\n",
       "    <tr>\n",
       "      <th>92</th>\n",
       "      <td>0</td>\n",
       "      <td>0</td>\n",
       "      <td>0</td>\n",
       "      <td>0</td>\n",
       "      <td>0</td>\n",
       "      <td>0</td>\n",
       "      <td>0</td>\n",
       "      <td>1</td>\n",
       "      <td>1</td>\n",
       "      <td>1</td>\n",
       "      <td>1</td>\n",
       "      <td>1</td>\n",
       "      <td>1</td>\n",
       "    </tr>\n",
       "    <tr>\n",
       "      <th>93</th>\n",
       "      <td>1</td>\n",
       "      <td>0</td>\n",
       "      <td>0</td>\n",
       "      <td>0</td>\n",
       "      <td>0</td>\n",
       "      <td>0</td>\n",
       "      <td>0</td>\n",
       "      <td>1</td>\n",
       "      <td>1</td>\n",
       "      <td>1</td>\n",
       "      <td>1</td>\n",
       "      <td>0</td>\n",
       "      <td>0</td>\n",
       "    </tr>\n",
       "    <tr>\n",
       "      <th>94</th>\n",
       "      <td>1</td>\n",
       "      <td>0</td>\n",
       "      <td>0</td>\n",
       "      <td>0</td>\n",
       "      <td>0</td>\n",
       "      <td>0</td>\n",
       "      <td>0</td>\n",
       "      <td>1</td>\n",
       "      <td>1</td>\n",
       "      <td>1</td>\n",
       "      <td>1</td>\n",
       "      <td>1</td>\n",
       "      <td>0</td>\n",
       "    </tr>\n",
       "    <tr>\n",
       "      <th>95</th>\n",
       "      <td>1</td>\n",
       "      <td>0</td>\n",
       "      <td>0</td>\n",
       "      <td>0</td>\n",
       "      <td>0</td>\n",
       "      <td>0</td>\n",
       "      <td>0</td>\n",
       "      <td>0</td>\n",
       "      <td>1</td>\n",
       "      <td>1</td>\n",
       "      <td>1</td>\n",
       "      <td>1</td>\n",
       "      <td>0</td>\n",
       "    </tr>\n",
       "  </tbody>\n",
       "</table>\n",
       "<p>96 rows × 13 columns</p>\n",
       "</div>"
      ],
      "text/plain": [
       "    0-100  100-200  200-300  300-400  400-500  500-600  600-700  700-800  \\\n",
       "0       1        0        0        0        0        0        0        0   \n",
       "1       1        0        0        0        0        0        0        0   \n",
       "2       1        0        0        0        0        0        0        0   \n",
       "3       1        0        0        0        0        0        0        0   \n",
       "4       1        0        0        0        0        0        0        0   \n",
       "..    ...      ...      ...      ...      ...      ...      ...      ...   \n",
       "91      0        0        0        0        0        0        0        0   \n",
       "92      0        0        0        0        0        0        0        1   \n",
       "93      1        0        0        0        0        0        0        1   \n",
       "94      1        0        0        0        0        0        0        1   \n",
       "95      1        0        0        0        0        0        0        0   \n",
       "\n",
       "    800-900  900-1000  1000-1100  1100-1200  1200-2000  \n",
       "0         0         0          0          0          0  \n",
       "1         0         0          0          0          0  \n",
       "2         0         0          0          0          0  \n",
       "3         0         0          0          0          0  \n",
       "4         0         0          0          0          0  \n",
       "..      ...       ...        ...        ...        ...  \n",
       "91        0         0          0          0          0  \n",
       "92        1         1          1          1          1  \n",
       "93        1         1          1          0          0  \n",
       "94        1         1          1          1          0  \n",
       "95        1         1          1          1          0  \n",
       "\n",
       "[96 rows x 13 columns]"
      ]
     },
     "execution_count": 85,
     "metadata": {},
     "output_type": "execute_result"
    }
   ],
   "source": [
    "X_extract"
   ]
  },
  {
   "cell_type": "code",
   "execution_count": 86,
   "id": "fa9c6ce8",
   "metadata": {},
   "outputs": [],
   "source": [
    "from sklearn.preprocessing import StandardScaler\n",
    "from sklearn.model_selection import train_test_split\n",
    "\n",
    "X_train, X_test, y_train, y_test = train_test_split(X_extract, y, test_size=0.2, random_state=42, stratify=y)"
   ]
  },
  {
   "cell_type": "code",
   "execution_count": 87,
   "id": "e8f5d92c",
   "metadata": {},
   "outputs": [
    {
     "name": "stdout",
     "output_type": "stream",
     "text": [
      "KNeighborsClassifier(n_neighbors=3)\n",
      "model score: 0.150\n",
      "\n",
      "\n",
      "SVC(C=0.025, gamma='auto', probability=True)\n",
      "model score: 0.250\n",
      "\n",
      "\n",
      "NuSVC(gamma='auto', probability=True)\n",
      "model score: 0.150\n",
      "\n",
      "\n",
      "DecisionTreeClassifier()\n",
      "model score: 0.250\n",
      "\n",
      "\n",
      "RandomForestClassifier()\n",
      "model score: 0.300\n",
      "\n",
      "\n",
      "AdaBoostClassifier()\n",
      "model score: 0.150\n",
      "\n",
      "\n",
      "GradientBoostingClassifier()\n",
      "model score: 0.300\n",
      "\n",
      "\n"
     ]
    }
   ],
   "source": [
    "from sklearn.metrics import accuracy_score, log_loss\n",
    "from sklearn.neighbors import KNeighborsClassifier\n",
    "from sklearn.svm import SVC, LinearSVC, NuSVC\n",
    "from sklearn.tree import DecisionTreeClassifier\n",
    "from sklearn.ensemble import RandomForestClassifier, AdaBoostClassifier, GradientBoostingClassifier\n",
    "from sklearn.discriminant_analysis import LinearDiscriminantAnalysis\n",
    "from sklearn.discriminant_analysis import QuadraticDiscriminantAnalysis\n",
    "\n",
    "classifiers = [\n",
    "    KNeighborsClassifier(3),\n",
    "    SVC(kernel=\"rbf\", C=0.025, probability=True, gamma=\"auto\"),\n",
    "    NuSVC(probability=True, gamma=\"auto\"),\n",
    "    DecisionTreeClassifier(),\n",
    "    RandomForestClassifier(n_estimators=100),\n",
    "    AdaBoostClassifier(),\n",
    "    GradientBoostingClassifier()\n",
    "]\n",
    "\n",
    "for classifier in classifiers:\n",
    "    classifier.fit(X_train, y_train)   \n",
    "    print(classifier)\n",
    "    print(\"model score: %.3f\" % classifier.score(X_test, y_test))\n",
    "    print(\"\\n\")"
   ]
  },
  {
   "cell_type": "code",
   "execution_count": 88,
   "id": "938a567f",
   "metadata": {},
   "outputs": [],
   "source": [
    "from sklearn.metrics import confusion_matrix, accuracy_score, classification_report\n",
    "\n",
    "clf = DecisionTreeClassifier()\n",
    "clf.fit(X_train, y_train)  \n",
    "predicoes = clf.predict(X_test)"
   ]
  },
  {
   "cell_type": "code",
   "execution_count": 89,
   "id": "f4a283eb",
   "metadata": {},
   "outputs": [
    {
     "data": {
      "text/plain": [
       "array([[3, 2, 0, 0],\n",
       "       [2, 2, 1, 0],\n",
       "       [2, 3, 0, 0],\n",
       "       [0, 3, 1, 1]], dtype=int64)"
      ]
     },
     "execution_count": 89,
     "metadata": {},
     "output_type": "execute_result"
    }
   ],
   "source": [
    "confusion_matrix(y_test, predicoes)"
   ]
  },
  {
   "cell_type": "code",
   "execution_count": 90,
   "id": "ea7f0a87",
   "metadata": {},
   "outputs": [
    {
     "data": {
      "image/png": "[encoded data removed]",
      "text/plain": [
       "<Figure size 432x288 with 2 Axes>"
      ]
     },
     "metadata": {
      "needs_background": "light"
     },
     "output_type": "display_data"
    }
   ],
   "source": [
    "sns.heatmap(confusion_matrix(y_test, predicoes));"
   ]
  },
  {
   "cell_type": "code",
   "execution_count": 91,
   "id": "a560f2e9",
   "metadata": {},
   "outputs": [
    {
     "name": "stdout",
     "output_type": "stream",
     "text": [
      "              precision    recall  f1-score   support\n",
      "\n",
      "           0       0.43      0.60      0.50         5\n",
      "           1       0.20      0.40      0.27         5\n",
      "           2       0.00      0.00      0.00         5\n",
      "           3       1.00      0.20      0.33         5\n",
      "\n",
      "    accuracy                           0.30        20\n",
      "   macro avg       0.41      0.30      0.28        20\n",
      "weighted avg       0.41      0.30      0.28        20\n",
      "\n"
     ]
    }
   ],
   "source": [
    "print(classification_report(y_test, predicoes))"
   ]
  },
  {
   "cell_type": "markdown",
   "id": "eec31256",
   "metadata": {},
   "source": [
    "# Conclusões:\n",
    "\n",
    "* Algoritmo ainda nao consegue diferenciar desbalanceamento de eixo\n",
    "* Melhor metodo ate o momento: Método 3."
   ]
  },
  {
   "cell_type": "markdown",
   "id": "bf4b93a9",
   "metadata": {},
   "source": [
    "## Utilização da busca em grade para obter os melhores parâmetros da árvore de decisão"
   ]
  },
  {
   "cell_type": "code",
   "execution_count": 92,
   "id": "a41726cb",
   "metadata": {},
   "outputs": [
    {
     "data": {
      "text/html": [
       "<div>\n",
       "<style scoped>\n",
       "    .dataframe tbody tr th:only-of-type {\n",
       "        vertical-align: middle;\n",
       "    }\n",
       "\n",
       "    .dataframe tbody tr th {\n",
       "        vertical-align: top;\n",
       "    }\n",
       "\n",
       "    .dataframe thead th {\n",
       "        text-align: right;\n",
       "    }\n",
       "</style>\n",
       "<table border=\"1\" class=\"dataframe\">\n",
       "  <thead>\n",
       "    <tr style=\"text-align: right;\">\n",
       "      <th></th>\n",
       "      <th>Média</th>\n",
       "      <th>Minímo</th>\n",
       "      <th>Máximo</th>\n",
       "      <th>FFT Real</th>\n",
       "      <th>FFT Imaginário</th>\n",
       "    </tr>\n",
       "  </thead>\n",
       "  <tbody>\n",
       "    <tr>\n",
       "      <th>0</th>\n",
       "      <td>305.159180</td>\n",
       "      <td>-3476.0</td>\n",
       "      <td>3145.0</td>\n",
       "      <td>8216.385376</td>\n",
       "      <td>-2.019346e-13</td>\n",
       "    </tr>\n",
       "    <tr>\n",
       "      <th>1</th>\n",
       "      <td>19.894043</td>\n",
       "      <td>-3654.0</td>\n",
       "      <td>4321.0</td>\n",
       "      <td>8145.628366</td>\n",
       "      <td>-2.192969e-13</td>\n",
       "    </tr>\n",
       "    <tr>\n",
       "      <th>2</th>\n",
       "      <td>296.060547</td>\n",
       "      <td>-3701.0</td>\n",
       "      <td>4180.0</td>\n",
       "      <td>9802.488175</td>\n",
       "      <td>0.000000e+00</td>\n",
       "    </tr>\n",
       "    <tr>\n",
       "      <th>3</th>\n",
       "      <td>617.674805</td>\n",
       "      <td>-3547.0</td>\n",
       "      <td>4654.0</td>\n",
       "      <td>10037.539304</td>\n",
       "      <td>7.846020e-13</td>\n",
       "    </tr>\n",
       "    <tr>\n",
       "      <th>4</th>\n",
       "      <td>313.874023</td>\n",
       "      <td>-3681.0</td>\n",
       "      <td>4748.0</td>\n",
       "      <td>9933.713270</td>\n",
       "      <td>8.886666e-13</td>\n",
       "    </tr>\n",
       "  </tbody>\n",
       "</table>\n",
       "</div>"
      ],
      "text/plain": [
       "        Média  Minímo  Máximo      FFT Real  FFT Imaginário\n",
       "0  305.159180 -3476.0  3145.0   8216.385376   -2.019346e-13\n",
       "1   19.894043 -3654.0  4321.0   8145.628366   -2.192969e-13\n",
       "2  296.060547 -3701.0  4180.0   9802.488175    0.000000e+00\n",
       "3  617.674805 -3547.0  4654.0  10037.539304    7.846020e-13\n",
       "4  313.874023 -3681.0  4748.0   9933.713270    8.886666e-13"
      ]
     },
     "execution_count": 92,
     "metadata": {},
     "output_type": "execute_result"
    }
   ],
   "source": [
    "X_transform = X.apply(transform_array, axis=1, result_type='expand')\n",
    "X_transform.columns = ['Média', 'Minímo', 'Máximo', 'FFT Real', 'FFT Imaginário']\n",
    "X_transform.head()"
   ]
  },
  {
   "cell_type": "code",
   "execution_count": 116,
   "id": "4abda1c3",
   "metadata": {},
   "outputs": [],
   "source": [
    "from sklearn.model_selection import train_test_split\n",
    "\n",
    "X_train, X_test, y_train, y_test = train_test_split(X_transform, y, test_size=0.2, random_state=42, stratify=y)"
   ]
  },
  {
   "cell_type": "code",
   "execution_count": 117,
   "id": "b1b5b57f",
   "metadata": {},
   "outputs": [],
   "source": [
    "from sklearn.model_selection import GridSearchCV\n",
    "from sklearn.metrics import classification_report\n",
    "\n",
    "\n",
    "criterion = ['gini', 'entropy']\n",
    "max_depth = [2, 3, 4, 6, 8, 10, 12]\n",
    "min_samples_split = [2, 3, 4, 6, 8, 10, 12]\n",
    "    \n",
    "parameters = {                \n",
    "                'criterion':criterion, \n",
    "                'max_depth':max_depth, \n",
    "                'min_samples_split':min_samples_split\n",
    "             }\n",
    "\n",
    "dec_tree = DecisionTreeClassifier()\n",
    "clf = GridSearchCV(dec_tree, parameters, scoring='f1_macro')"
   ]
  },
  {
   "cell_type": "code",
   "execution_count": 118,
   "id": "bbe22bb6",
   "metadata": {
    "scrolled": true
   },
   "outputs": [],
   "source": [
    "grid_search = clf.fit(X_train, y_train)"
   ]
  },
  {
   "cell_type": "code",
   "execution_count": 119,
   "id": "772b2ae5",
   "metadata": {},
   "outputs": [
    {
     "data": {
      "text/plain": [
       "{'criterion': 'entropy', 'max_depth': 8, 'min_samples_split': 4}"
      ]
     },
     "execution_count": 119,
     "metadata": {},
     "output_type": "execute_result"
    }
   ],
   "source": [
    "grid_search.best_params_"
   ]
  },
  {
   "cell_type": "code",
   "execution_count": 120,
   "id": "8e1cc749",
   "metadata": {},
   "outputs": [],
   "source": [
    "best_clf = grid_search.best_estimator_"
   ]
  },
  {
   "cell_type": "code",
   "execution_count": 121,
   "id": "314f7687",
   "metadata": {},
   "outputs": [
    {
     "name": "stdout",
     "output_type": "stream",
     "text": [
      "              precision    recall  f1-score   support\n",
      "\n",
      "           0       0.50      0.60      0.55         5\n",
      "           1       0.67      0.80      0.73         5\n",
      "           2       0.33      0.40      0.36         5\n",
      "           3       1.00      0.40      0.57         5\n",
      "\n",
      "    accuracy                           0.55        20\n",
      "   macro avg       0.62      0.55      0.55        20\n",
      "weighted avg       0.62      0.55      0.55        20\n",
      "\n"
     ]
    }
   ],
   "source": [
    "predicoes = best_clf.predict(X_test)\n",
    "print(classification_report(y_test, predicoes))"
   ]
  },
  {
   "cell_type": "code",
   "execution_count": 122,
   "id": "b063cad8",
   "metadata": {},
   "outputs": [
    {
     "data": {
      "text/plain": [
       "array([[3, 0, 2, 0],\n",
       "       [0, 4, 1, 0],\n",
       "       [1, 2, 2, 0],\n",
       "       [2, 0, 1, 2]], dtype=int64)"
      ]
     },
     "execution_count": 122,
     "metadata": {},
     "output_type": "execute_result"
    }
   ],
   "source": [
    "confusion_matrix(y_test, predicoes)"
   ]
  },
  {
   "cell_type": "code",
   "execution_count": 123,
   "id": "0a658fa9",
   "metadata": {},
   "outputs": [
    {
     "data": {
      "text/plain": [
       "array(['0 - Regime Normal/', '1 - Falta de tensão/', '2 - Sobrecarga/',\n",
       "       '3 - Desbalanceamento do eixo/'], dtype=object)"
      ]
     },
     "execution_count": 123,
     "metadata": {},
     "output_type": "execute_result"
    }
   ],
   "source": [
    "lbl_enc.classes_"
   ]
  },
  {
   "cell_type": "markdown",
   "id": "0c47174c",
   "metadata": {},
   "source": [
    "**Agora o algoritmo esta confundindo a Sobrecarga com o Regime normal**"
   ]
  },
  {
   "cell_type": "markdown",
   "id": "422f0e6b",
   "metadata": {},
   "source": [
    "# Concluoes:\n",
    "\n",
    "* Método: Obter os valores de média, minimo e máximo e a média da parte real e imaginária da FFT\n",
    "* Classificador DecisionTreeClassifier com {'criterion': 'entropy', 'max_depth': 10, 'min_samples_split': 3}"
   ]
  },
  {
   "cell_type": "markdown",
   "id": "67950f6b",
   "metadata": {},
   "source": [
    "# Resumo de exportação (modelo criado + funções de tratamento de dados)"
   ]
  },
  {
   "cell_type": "markdown",
   "id": "769391b8",
   "metadata": {},
   "source": [
    "#### Funções utilizadas"
   ]
  },
  {
   "cell_type": "code",
   "execution_count": 100,
   "id": "7b6a64b5",
   "metadata": {},
   "outputs": [],
   "source": [
    "import numpy as np\n",
    "\n",
    "def transform_array(arr):\n",
    "    \"\"\" Esta função retorna os valores médios, minimos, \n",
    "    máximos e a média das componentes real e imaginária da FFT\"\"\"\n",
    "    \n",
    "    mean = arr.mean()\n",
    "    minimun = arr.min()\n",
    "    maximun = arr.max()\n",
    "    \n",
    "    fft_value = np.fft.fft(arr)\n",
    "    real_part = np.abs(fft_value).mean()\n",
    "    imaginary_part = np.imag(fft_value).mean()\n",
    "    \n",
    "    return np.array([mean, minimun, maximun, real_part, imaginary_part])"
   ]
  },
  {
   "cell_type": "markdown",
   "id": "b57bc150",
   "metadata": {},
   "source": [
    "#### Treino do modelo"
   ]
  },
  {
   "cell_type": "code",
   "execution_count": 101,
   "id": "d17eaedb",
   "metadata": {},
   "outputs": [
    {
     "data": {
      "text/html": [
       "<div>\n",
       "<style scoped>\n",
       "    .dataframe tbody tr th:only-of-type {\n",
       "        vertical-align: middle;\n",
       "    }\n",
       "\n",
       "    .dataframe tbody tr th {\n",
       "        vertical-align: top;\n",
       "    }\n",
       "\n",
       "    .dataframe thead th {\n",
       "        text-align: right;\n",
       "    }\n",
       "</style>\n",
       "<table border=\"1\" class=\"dataframe\">\n",
       "  <thead>\n",
       "    <tr style=\"text-align: right;\">\n",
       "      <th></th>\n",
       "      <th>Média</th>\n",
       "      <th>Minímo</th>\n",
       "      <th>Máximo</th>\n",
       "      <th>FFT Real</th>\n",
       "      <th>FFT Imaginário</th>\n",
       "    </tr>\n",
       "  </thead>\n",
       "  <tbody>\n",
       "    <tr>\n",
       "      <th>0</th>\n",
       "      <td>305.159180</td>\n",
       "      <td>-3476.0</td>\n",
       "      <td>3145.0</td>\n",
       "      <td>11332.257144</td>\n",
       "      <td>-2.273737e-13</td>\n",
       "    </tr>\n",
       "    <tr>\n",
       "      <th>1</th>\n",
       "      <td>19.894043</td>\n",
       "      <td>-3654.0</td>\n",
       "      <td>4321.0</td>\n",
       "      <td>12496.597213</td>\n",
       "      <td>0.000000e+00</td>\n",
       "    </tr>\n",
       "    <tr>\n",
       "      <th>2</th>\n",
       "      <td>296.060547</td>\n",
       "      <td>-3701.0</td>\n",
       "      <td>4180.0</td>\n",
       "      <td>12886.051282</td>\n",
       "      <td>0.000000e+00</td>\n",
       "    </tr>\n",
       "    <tr>\n",
       "      <th>3</th>\n",
       "      <td>617.674805</td>\n",
       "      <td>-3547.0</td>\n",
       "      <td>4654.0</td>\n",
       "      <td>11888.214177</td>\n",
       "      <td>2.273737e-13</td>\n",
       "    </tr>\n",
       "    <tr>\n",
       "      <th>4</th>\n",
       "      <td>313.874023</td>\n",
       "      <td>-3681.0</td>\n",
       "      <td>4748.0</td>\n",
       "      <td>13832.573825</td>\n",
       "      <td>0.000000e+00</td>\n",
       "    </tr>\n",
       "  </tbody>\n",
       "</table>\n",
       "</div>"
      ],
      "text/plain": [
       "        Média  Minímo  Máximo      FFT Real  FFT Imaginário\n",
       "0  305.159180 -3476.0  3145.0  11332.257144   -2.273737e-13\n",
       "1   19.894043 -3654.0  4321.0  12496.597213    0.000000e+00\n",
       "2  296.060547 -3701.0  4180.0  12886.051282    0.000000e+00\n",
       "3  617.674805 -3547.0  4654.0  11888.214177    2.273737e-13\n",
       "4  313.874023 -3681.0  4748.0  13832.573825    0.000000e+00"
      ]
     },
     "execution_count": 101,
     "metadata": {},
     "output_type": "execute_result"
    }
   ],
   "source": [
    "X_transform = X.apply(transform_array, axis=1, result_type='expand')\n",
    "X_transform.columns = ['Média', 'Minímo', 'Máximo', 'FFT Real', 'FFT Imaginário']\n",
    "X_transform.head()"
   ]
  },
  {
   "cell_type": "code",
   "execution_count": 102,
   "id": "2092251a",
   "metadata": {},
   "outputs": [],
   "source": [
    "from sklearn.model_selection import GridSearchCV\n",
    "from sklearn.metrics import classification_report\n",
    "\n",
    "criterion = ['gini', 'entropy']\n",
    "max_depth = [2, 3, 4, 6, 8, 10, 12]\n",
    "min_samples_split = [2, 3, 4, 6, 8, 10, 12]\n",
    "\n",
    "X_train, X_test, y_train, y_test = train_test_split(X_transform, y, test_size=0.2, random_state=42, stratify=y)\n",
    "    \n",
    "parameters = {                \n",
    "                'criterion':criterion, \n",
    "                'max_depth':max_depth, \n",
    "                'min_samples_split':min_samples_split\n",
    "             }\n",
    "\n",
    "dec_tree = DecisionTreeClassifier()\n",
    "clf = GridSearchCV(dec_tree, parameters, scoring='f1_macro')\n",
    "grid_search = clf.fit(X_train, y_train)\n",
    "best_clf = grid_search.best_estimator_"
   ]
  },
  {
   "cell_type": "markdown",
   "id": "9979f837",
   "metadata": {},
   "source": [
    "#### Exportação do modelo criado"
   ]
  },
  {
   "cell_type": "code",
   "execution_count": 103,
   "id": "95bda2de",
   "metadata": {},
   "outputs": [],
   "source": [
    "import pickle as pkl\n",
    "\n",
    "\n",
    "with open('Preditores/classificador.pkl', 'wb') as best_file:\n",
    "    pkl.dump(best_clf, best_file)"
   ]
  }
 ],
 "metadata": {
  "kernelspec": {
   "display_name": "Python 3",
   "language": "python",
   "name": "python3"
  },
  "language_info": {
   "codemirror_mode": {
    "name": "ipython",
    "version": 3
   },
   "file_extension": ".py",
   "mimetype": "text/x-python",
   "name": "python",
   "nbconvert_exporter": "python",
   "pygments_lexer": "ipython3",
   "version": "3.8.8"
  }
 },
 "nbformat": 4,
 "nbformat_minor": 5
}
