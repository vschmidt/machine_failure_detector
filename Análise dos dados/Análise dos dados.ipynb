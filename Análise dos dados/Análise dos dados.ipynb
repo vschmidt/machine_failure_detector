{
 "cells": [
  {
   "cell_type": "code",
   "execution_count": 1,
   "id": "4f148bdd",
   "metadata": {},
   "outputs": [],
   "source": [
    "import os\n",
    "import wave\n",
    "import struct\n",
    "import pandas as pd\n",
    "import scipy\n",
    "from scipy import signal\n",
    "from scipy.fft import fftshift\n",
    "\n",
    "import numpy as np\n",
    "np.random.seed(seed=42)\n",
    "import seaborn as sns\n",
    "\n",
    "import matplotlib.pyplot as plt \n",
    "import matplotlib.pylab as plab\n",
    "\n",
    "import IPython.display as ipd\n",
    "import librosa\n",
    "import librosa.display"
   ]
  },
  {
   "cell_type": "markdown",
   "id": "1a2f055b",
   "metadata": {},
   "source": [
    "# Funções auxiliares"
   ]
  },
  {
   "cell_type": "code",
   "execution_count": 2,
   "id": "93ea9734",
   "metadata": {},
   "outputs": [],
   "source": [
    "def plot_wave(caminho, titulo):    \n",
    "    data, sample_rate = librosa.load(caminho)\n",
    "    print(\"Frequência do áudio: \", sample_rate)\n",
    "    librosa.display.waveplot(data,sr=sample_rate)\n",
    "    plt.title(titulo)\n",
    "    plt.xlabel(\"Tempo\")\n",
    "    plt.ylabel(\"Amplitude\")   \n",
    "    \n",
    "def plot_fft_wave(caminho, titulo, x_limits):\n",
    "    data, sample_rate = librosa.load(caminho)\n",
    "    n = len(data)\n",
    "    T = 1/sample_rate\n",
    "    yf = scipy.fft.fft(data) #Aplica a FFT no audio\n",
    "    xf = np.linspace(0.0, 1.0/(2.0*T), n//2) #Cria um array contendo os pontos de x correspondentes ao yf\n",
    "    \n",
    "    fig, ax = plt.subplots()\n",
    "    \n",
    "    ax.plot(xf, 2.0/n * np.abs(yf[:n//2]))\n",
    "    ax.set_xlim(x_limits)\n",
    "    plt.grid()\n",
    "    plt.xlabel(\"Frequência\")\n",
    "    plt.ylabel(\"Magnitude\")\n",
    "    plt.title(titulo)\n",
    "    \n",
    "def plot_wave_with_fft(caminho):\n",
    "    data, sample_rate = librosa.load(caminho)\n",
    "    n = len(data)\n",
    "    T = 1/sample_rate\n",
    "    yf = scipy.fft.fft(data) #Aplica a FFT no audio\n",
    "    xf = np.linspace(0.0, 1.0/(2.0*T), n//2) #Cria um array contendo os pontos de x correspondentes ao yf\n",
    "    \n",
    "    plt.figure(figsize=(15,5))\n",
    "    \n",
    "    plt.subplot(1, 2, 1)\n",
    "    librosa.display.waveplot(data,sr=sample_rate)\n",
    "    plt.xlabel(\"Tempo\")\n",
    "    plt.ylabel(\"Amplitude\")\n",
    "    plt.title(\"Onda\")\n",
    "    \n",
    "    plt.subplot(1, 2, 2)\n",
    "    plt.plot(xf, 2.0/n * np.abs(yf[:n//2]))\n",
    "    plt.grid()\n",
    "    plt.xlim(0, 2000)\n",
    "    plt.xlabel(\"Frequência\")\n",
    "    plt.ylabel(\"Magnitude\")\n",
    "    plt.title(\"FFT\")\n",
    "    \n",
    "def plot_multiple_FFT(lista_caminhos, xlim=[0,2000]):\n",
    "    plt.figure(figsize=(15, 10))\n",
    "    plt.grid()\n",
    "    plt.xlabel(\"Frequência\")\n",
    "    plt.xlim(xlim)\n",
    "    plt.ylabel(\"Magnitude\")    \n",
    "    \n",
    "    for caminho in lista_caminhos:\n",
    "        data, sample_rate = librosa.load(caminho)\n",
    "        n = len(data)\n",
    "        T = 1/sample_rate\n",
    "        yf = scipy.fft.fft(data) #Aplica a FFT no audio\n",
    "        xf = np.linspace(0.0, 1.0/(2.0*T), n//2) #Cria um array contendo os pontos de x correspondentes ao yf\n",
    "\n",
    "        plt.plot(xf, 2.0/n * np.abs(yf[:n//2]))\n",
    "    \n",
    "    plt.legend(lista_caminhos)\n",
    "        \n",
    "def spectrograma(caminho):\n",
    "    x, fs = librosa.load(caminho)\n",
    "    f, t, Sxx = signal.spectrogram(x, fs)\n",
    "    plt.pcolormesh(t, f, Sxx, shading='gouraud')\n",
    "    plt.ylabel('Frequência [Hz]')\n",
    "    plt.xlabel('Tempo [sec]')"
   ]
  },
  {
   "cell_type": "markdown",
   "id": "81aca74f",
   "metadata": {},
   "source": [
    "# Analise do cenário em som ambiente"
   ]
  },
  {
   "cell_type": "code",
   "execution_count": 3,
   "id": "762a6416",
   "metadata": {},
   "outputs": [
    {
     "data": {
      "text/plain": [
       "'../Obtenção de dados/Saídas/'"
      ]
     },
     "execution_count": 3,
     "metadata": {},
     "output_type": "execute_result"
    }
   ],
   "source": [
    "base_path = '../Obtenção de dados/Saídas/'\n",
    "base_path"
   ]
  },
  {
   "cell_type": "markdown",
   "id": "364624ea",
   "metadata": {},
   "source": [
    "# Carregar os dados"
   ]
  },
  {
   "cell_type": "code",
   "execution_count": 4,
   "id": "644f69c6",
   "metadata": {},
   "outputs": [
    {
     "data": {
      "text/plain": [
       "['0 - Regime Normal/',\n",
       " '1 - Falta de tensão/',\n",
       " '2 - Sobrecarga/',\n",
       " '3 - Desbalanceamento do eixo/']"
      ]
     },
     "execution_count": 4,
     "metadata": {},
     "output_type": "execute_result"
    }
   ],
   "source": [
    "tests_path = ['0 - Regime Normal/', \n",
    "              '1 - Falta de tensão/', \n",
    "              '2 - Sobrecarga/', \n",
    "              '3 - Desbalanceamento do eixo/']\n",
    "\n",
    "tests_path"
   ]
  },
  {
   "cell_type": "code",
   "execution_count": 5,
   "id": "3f866732",
   "metadata": {},
   "outputs": [
    {
     "data": {
      "text/plain": [
       "['0 - Regime Normal',\n",
       " '1 - Falta de tensão',\n",
       " '2 - Sobrecarga',\n",
       " '3 - Desbalanceamento do eixo']"
      ]
     },
     "execution_count": 5,
     "metadata": {},
     "output_type": "execute_result"
    }
   ],
   "source": [
    "os.listdir(base_path)"
   ]
  },
  {
   "cell_type": "markdown",
   "id": "4f442f7f",
   "metadata": {},
   "source": [
    "### Encontrar o caminho completo de todos os arquivos"
   ]
  },
  {
   "cell_type": "code",
   "execution_count": 6,
   "id": "676eb34d",
   "metadata": {},
   "outputs": [
    {
     "data": {
      "text/plain": [
       "[('../Obtenção de dados/Saídas/0 - Regime Normal/2021-05-26 20_52_05.056246.wav',\n",
       "  '0 - Regime Normal/'),\n",
       " ('../Obtenção de dados/Saídas/0 - Regime Normal/2021-05-26 20_52_19.030997.wav',\n",
       "  '0 - Regime Normal/'),\n",
       " ('../Obtenção de dados/Saídas/0 - Regime Normal/2021-05-26 20_52_48.734353.wav',\n",
       "  '0 - Regime Normal/'),\n",
       " ('../Obtenção de dados/Saídas/0 - Regime Normal/2021-05-26 20_53_01.114803.wav',\n",
       "  '0 - Regime Normal/'),\n",
       " ('../Obtenção de dados/Saídas/0 - Regime Normal/2021-05-26 20_53_12.448972.wav',\n",
       "  '0 - Regime Normal/'),\n",
       " ('../Obtenção de dados/Saídas/0 - Regime Normal/2021-05-26 20_53_24.358845.wav',\n",
       "  '0 - Regime Normal/'),\n",
       " ('../Obtenção de dados/Saídas/0 - Regime Normal/2021-05-26 20_53_43.925687.wav',\n",
       "  '0 - Regime Normal/'),\n",
       " ('../Obtenção de dados/Saídas/0 - Regime Normal/2021-05-26 20_54_01.121870.wav',\n",
       "  '0 - Regime Normal/'),\n",
       " ('../Obtenção de dados/Saídas/0 - Regime Normal/2021-05-26 20_54_13.613173.wav',\n",
       "  '0 - Regime Normal/'),\n",
       " ('../Obtenção de dados/Saídas/0 - Regime Normal/2021-05-26 20_54_25.130846.wav',\n",
       "  '0 - Regime Normal/'),\n",
       " ('../Obtenção de dados/Saídas/0 - Regime Normal/2021-05-26 20_54_37.037314.wav',\n",
       "  '0 - Regime Normal/'),\n",
       " ('../Obtenção de dados/Saídas/0 - Regime Normal/2021-05-26 20_54_48.132438.wav',\n",
       "  '0 - Regime Normal/'),\n",
       " ('../Obtenção de dados/Saídas/0 - Regime Normal/2021-05-26 22_01_35.359185.wav',\n",
       "  '0 - Regime Normal/'),\n",
       " ('../Obtenção de dados/Saídas/0 - Regime Normal/2021-05-26 22_01_47.511928.wav',\n",
       "  '0 - Regime Normal/'),\n",
       " ('../Obtenção de dados/Saídas/0 - Regime Normal/2021-05-26 22_02_01.471486.wav',\n",
       "  '0 - Regime Normal/'),\n",
       " ('../Obtenção de dados/Saídas/0 - Regime Normal/2021-05-26 22_02_12.607124.wav',\n",
       "  '0 - Regime Normal/'),\n",
       " ('../Obtenção de dados/Saídas/0 - Regime Normal/2021-05-26 22_02_24.220128.wav',\n",
       "  '0 - Regime Normal/'),\n",
       " ('../Obtenção de dados/Saídas/0 - Regime Normal/2021-05-26 22_02_35.518746.wav',\n",
       "  '0 - Regime Normal/'),\n",
       " ('../Obtenção de dados/Saídas/0 - Regime Normal/2021-05-26 22_03_08.334314.wav',\n",
       "  '0 - Regime Normal/'),\n",
       " ('../Obtenção de dados/Saídas/0 - Regime Normal/2021-05-26 22_03_19.189881.wav',\n",
       "  '0 - Regime Normal/'),\n",
       " ('../Obtenção de dados/Saídas/0 - Regime Normal/2021-05-26 22_03_29.958938.wav',\n",
       "  '0 - Regime Normal/'),\n",
       " ('../Obtenção de dados/Saídas/0 - Regime Normal/2021-05-26 22_03_40.958462.wav',\n",
       "  '0 - Regime Normal/'),\n",
       " ('../Obtenção de dados/Saídas/0 - Regime Normal/2021-05-26 22_03_54.049081.wav',\n",
       "  '0 - Regime Normal/'),\n",
       " ('../Obtenção de dados/Saídas/0 - Regime Normal/2021-05-26 22_04_04.799341.wav',\n",
       "  '0 - Regime Normal/'),\n",
       " ('../Obtenção de dados/Saídas/1 - Falta de tensão/2021-05-26 20_57_34.723577.wav',\n",
       "  '1 - Falta de tensão/'),\n",
       " ('../Obtenção de dados/Saídas/1 - Falta de tensão/2021-05-26 21_01_15.193305.wav',\n",
       "  '1 - Falta de tensão/'),\n",
       " ('../Obtenção de dados/Saídas/1 - Falta de tensão/2021-05-26 21_01_42.722524.wav',\n",
       "  '1 - Falta de tensão/'),\n",
       " ('../Obtenção de dados/Saídas/1 - Falta de tensão/2021-05-26 21_01_54.225982.wav',\n",
       "  '1 - Falta de tensão/'),\n",
       " ('../Obtenção de dados/Saídas/1 - Falta de tensão/2021-05-26 21_02_17.097680.wav',\n",
       "  '1 - Falta de tensão/'),\n",
       " ('../Obtenção de dados/Saídas/1 - Falta de tensão/2021-05-26 21_11_36.947380.wav',\n",
       "  '1 - Falta de tensão/'),\n",
       " ('../Obtenção de dados/Saídas/1 - Falta de tensão/2021-05-26 21_14_21.649827.wav',\n",
       "  '1 - Falta de tensão/'),\n",
       " ('../Obtenção de dados/Saídas/1 - Falta de tensão/2021-05-26 21_19_59.742587.wav',\n",
       "  '1 - Falta de tensão/'),\n",
       " ('../Obtenção de dados/Saídas/1 - Falta de tensão/2021-05-26 21_22_12.670312.wav',\n",
       "  '1 - Falta de tensão/'),\n",
       " ('../Obtenção de dados/Saídas/1 - Falta de tensão/2021-05-26 21_23_01.473350.wav',\n",
       "  '1 - Falta de tensão/'),\n",
       " ('../Obtenção de dados/Saídas/1 - Falta de tensão/2021-05-26 21_25_19.019990.wav',\n",
       "  '1 - Falta de tensão/'),\n",
       " ('../Obtenção de dados/Saídas/1 - Falta de tensão/2021-05-26 21_26_48.990455.wav',\n",
       "  '1 - Falta de tensão/'),\n",
       " ('../Obtenção de dados/Saídas/1 - Falta de tensão/2021-05-26 21_52_01.317983.wav',\n",
       "  '1 - Falta de tensão/'),\n",
       " ('../Obtenção de dados/Saídas/1 - Falta de tensão/2021-05-26 21_52_12.589382.wav',\n",
       "  '1 - Falta de tensão/'),\n",
       " ('../Obtenção de dados/Saídas/1 - Falta de tensão/2021-05-26 21_52_23.465594.wav',\n",
       "  '1 - Falta de tensão/'),\n",
       " ('../Obtenção de dados/Saídas/1 - Falta de tensão/2021-05-26 21_52_36.682779.wav',\n",
       "  '1 - Falta de tensão/'),\n",
       " ('../Obtenção de dados/Saídas/1 - Falta de tensão/2021-05-26 21_52_47.698133.wav',\n",
       "  '1 - Falta de tensão/'),\n",
       " ('../Obtenção de dados/Saídas/1 - Falta de tensão/2021-05-26 21_52_58.747160.wav',\n",
       "  '1 - Falta de tensão/'),\n",
       " ('../Obtenção de dados/Saídas/1 - Falta de tensão/2021-05-26 21_53_11.103712.wav',\n",
       "  '1 - Falta de tensão/'),\n",
       " ('../Obtenção de dados/Saídas/1 - Falta de tensão/2021-05-26 21_53_24.933286.wav',\n",
       "  '1 - Falta de tensão/'),\n",
       " ('../Obtenção de dados/Saídas/1 - Falta de tensão/2021-05-26 21_53_36.499406.wav',\n",
       "  '1 - Falta de tensão/'),\n",
       " ('../Obtenção de dados/Saídas/1 - Falta de tensão/2021-05-26 21_53_47.926832.wav',\n",
       "  '1 - Falta de tensão/'),\n",
       " ('../Obtenção de dados/Saídas/1 - Falta de tensão/2021-05-26 21_54_10.942758.wav',\n",
       "  '1 - Falta de tensão/'),\n",
       " ('../Obtenção de dados/Saídas/1 - Falta de tensão/2021-05-26 21_54_22.172506.wav',\n",
       "  '1 - Falta de tensão/'),\n",
       " ('../Obtenção de dados/Saídas/2 - Sobrecarga/2021-05-26 21_29_52.639584.wav',\n",
       "  '2 - Sobrecarga/'),\n",
       " ('../Obtenção de dados/Saídas/2 - Sobrecarga/2021-05-26 21_30_07.287844.wav',\n",
       "  '2 - Sobrecarga/'),\n",
       " ('../Obtenção de dados/Saídas/2 - Sobrecarga/2021-05-26 21_31_23.045015.wav',\n",
       "  '2 - Sobrecarga/'),\n",
       " ('../Obtenção de dados/Saídas/2 - Sobrecarga/2021-05-26 21_31_36.998812.wav',\n",
       "  '2 - Sobrecarga/'),\n",
       " ('../Obtenção de dados/Saídas/2 - Sobrecarga/2021-05-26 21_32_27.349514.wav',\n",
       "  '2 - Sobrecarga/'),\n",
       " ('../Obtenção de dados/Saídas/2 - Sobrecarga/2021-05-26 21_32_40.661905.wav',\n",
       "  '2 - Sobrecarga/'),\n",
       " ('../Obtenção de dados/Saídas/2 - Sobrecarga/2021-05-26 21_33_01.165547.wav',\n",
       "  '2 - Sobrecarga/'),\n",
       " ('../Obtenção de dados/Saídas/2 - Sobrecarga/2021-05-26 21_33_14.009581.wav',\n",
       "  '2 - Sobrecarga/'),\n",
       " ('../Obtenção de dados/Saídas/2 - Sobrecarga/2021-05-26 21_33_27.310885.wav',\n",
       "  '2 - Sobrecarga/'),\n",
       " ('../Obtenção de dados/Saídas/2 - Sobrecarga/2021-05-26 21_33_51.109577.wav',\n",
       "  '2 - Sobrecarga/'),\n",
       " ('../Obtenção de dados/Saídas/2 - Sobrecarga/2021-05-26 21_34_01.227154.wav',\n",
       "  '2 - Sobrecarga/'),\n",
       " ('../Obtenção de dados/Saídas/2 - Sobrecarga/2021-05-26 21_34_11.374896.wav',\n",
       "  '2 - Sobrecarga/'),\n",
       " ('../Obtenção de dados/Saídas/2 - Sobrecarga/2021-05-26 22_07_40.758852.wav',\n",
       "  '2 - Sobrecarga/'),\n",
       " ('../Obtenção de dados/Saídas/2 - Sobrecarga/2021-05-26 22_07_53.586308.wav',\n",
       "  '2 - Sobrecarga/'),\n",
       " ('../Obtenção de dados/Saídas/2 - Sobrecarga/2021-05-26 22_08_13.843309.wav',\n",
       "  '2 - Sobrecarga/'),\n",
       " ('../Obtenção de dados/Saídas/2 - Sobrecarga/2021-05-26 22_08_26.661042.wav',\n",
       "  '2 - Sobrecarga/'),\n",
       " ('../Obtenção de dados/Saídas/2 - Sobrecarga/2021-05-26 22_08_39.061739.wav',\n",
       "  '2 - Sobrecarga/'),\n",
       " ('../Obtenção de dados/Saídas/2 - Sobrecarga/2021-05-26 22_09_26.019891.wav',\n",
       "  '2 - Sobrecarga/'),\n",
       " ('../Obtenção de dados/Saídas/2 - Sobrecarga/2021-05-26 22_09_39.964743.wav',\n",
       "  '2 - Sobrecarga/'),\n",
       " ('../Obtenção de dados/Saídas/2 - Sobrecarga/2021-05-26 22_09_52.859921.wav',\n",
       "  '2 - Sobrecarga/'),\n",
       " ('../Obtenção de dados/Saídas/2 - Sobrecarga/2021-05-26 22_10_05.416206.wav',\n",
       "  '2 - Sobrecarga/'),\n",
       " ('../Obtenção de dados/Saídas/2 - Sobrecarga/2021-05-26 22_10_18.111724.wav',\n",
       "  '2 - Sobrecarga/'),\n",
       " ('../Obtenção de dados/Saídas/2 - Sobrecarga/2021-05-26 22_10_31.573769.wav',\n",
       "  '2 - Sobrecarga/'),\n",
       " ('../Obtenção de dados/Saídas/2 - Sobrecarga/2021-05-26 22_10_44.552912.wav',\n",
       "  '2 - Sobrecarga/'),\n",
       " ('../Obtenção de dados/Saídas/3 - Desbalanceamento do eixo/2021-05-26 21_42_55.301808.wav',\n",
       "  '3 - Desbalanceamento do eixo/'),\n",
       " ('../Obtenção de dados/Saídas/3 - Desbalanceamento do eixo/2021-05-26 21_44_42.744929.wav',\n",
       "  '3 - Desbalanceamento do eixo/'),\n",
       " ('../Obtenção de dados/Saídas/3 - Desbalanceamento do eixo/2021-05-26 21_45_24.848066.wav',\n",
       "  '3 - Desbalanceamento do eixo/'),\n",
       " ('../Obtenção de dados/Saídas/3 - Desbalanceamento do eixo/2021-05-26 21_45_47.199023.wav',\n",
       "  '3 - Desbalanceamento do eixo/'),\n",
       " ('../Obtenção de dados/Saídas/3 - Desbalanceamento do eixo/2021-05-26 21_45_58.494619.wav',\n",
       "  '3 - Desbalanceamento do eixo/'),\n",
       " ('../Obtenção de dados/Saídas/3 - Desbalanceamento do eixo/2021-05-26 21_46_09.281196.wav',\n",
       "  '3 - Desbalanceamento do eixo/'),\n",
       " ('../Obtenção de dados/Saídas/3 - Desbalanceamento do eixo/2021-05-26 21_46_50.377921.wav',\n",
       "  '3 - Desbalanceamento do eixo/'),\n",
       " ('../Obtenção de dados/Saídas/3 - Desbalanceamento do eixo/2021-05-26 21_47_00.511879.wav',\n",
       "  '3 - Desbalanceamento do eixo/'),\n",
       " ('../Obtenção de dados/Saídas/3 - Desbalanceamento do eixo/2021-05-26 21_48_08.231853.wav',\n",
       "  '3 - Desbalanceamento do eixo/'),\n",
       " ('../Obtenção de dados/Saídas/3 - Desbalanceamento do eixo/2021-05-26 21_48_19.707781.wav',\n",
       "  '3 - Desbalanceamento do eixo/'),\n",
       " ('../Obtenção de dados/Saídas/3 - Desbalanceamento do eixo/2021-05-26 21_48_30.994333.wav',\n",
       "  '3 - Desbalanceamento do eixo/'),\n",
       " ('../Obtenção de dados/Saídas/3 - Desbalanceamento do eixo/2021-05-26 21_48_42.890983.wav',\n",
       "  '3 - Desbalanceamento do eixo/'),\n",
       " ('../Obtenção de dados/Saídas/3 - Desbalanceamento do eixo/2021-05-26 21_55_47.771111.wav',\n",
       "  '3 - Desbalanceamento do eixo/'),\n",
       " ('../Obtenção de dados/Saídas/3 - Desbalanceamento do eixo/2021-05-26 21_56_00.457387.wav',\n",
       "  '3 - Desbalanceamento do eixo/'),\n",
       " ('../Obtenção de dados/Saídas/3 - Desbalanceamento do eixo/2021-05-26 21_56_11.419927.wav',\n",
       "  '3 - Desbalanceamento do eixo/'),\n",
       " ('../Obtenção de dados/Saídas/3 - Desbalanceamento do eixo/2021-05-26 21_56_22.593388.wav',\n",
       "  '3 - Desbalanceamento do eixo/'),\n",
       " ('../Obtenção de dados/Saídas/3 - Desbalanceamento do eixo/2021-05-26 21_56_33.424180.wav',\n",
       "  '3 - Desbalanceamento do eixo/'),\n",
       " ('../Obtenção de dados/Saídas/3 - Desbalanceamento do eixo/2021-05-26 21_56_44.588094.wav',\n",
       "  '3 - Desbalanceamento do eixo/'),\n",
       " ('../Obtenção de dados/Saídas/3 - Desbalanceamento do eixo/2021-05-26 21_56_55.326143.wav',\n",
       "  '3 - Desbalanceamento do eixo/'),\n",
       " ('../Obtenção de dados/Saídas/3 - Desbalanceamento do eixo/2021-05-26 21_57_55.278574.wav',\n",
       "  '3 - Desbalanceamento do eixo/'),\n",
       " ('../Obtenção de dados/Saídas/3 - Desbalanceamento do eixo/2021-05-26 21_58_06.528957.wav',\n",
       "  '3 - Desbalanceamento do eixo/'),\n",
       " ('../Obtenção de dados/Saídas/3 - Desbalanceamento do eixo/2021-05-26 21_58_17.581098.wav',\n",
       "  '3 - Desbalanceamento do eixo/'),\n",
       " ('../Obtenção de dados/Saídas/3 - Desbalanceamento do eixo/2021-05-26 21_58_28.367005.wav',\n",
       "  '3 - Desbalanceamento do eixo/'),\n",
       " ('../Obtenção de dados/Saídas/3 - Desbalanceamento do eixo/2021-05-26 21_58_39.487154.wav',\n",
       "  '3 - Desbalanceamento do eixo/')]"
      ]
     },
     "execution_count": 6,
     "metadata": {},
     "output_type": "execute_result"
    }
   ],
   "source": [
    "all_files = []\n",
    "\n",
    "for f in tests_path:    \n",
    "    all_files = all_files + [(base_path + f + i, f) for i in os.listdir(base_path + f)]\n",
    "\n",
    "all_files"
   ]
  },
  {
   "cell_type": "markdown",
   "id": "f7b5e4af",
   "metadata": {},
   "source": [
    "## Carregar os arquivos e adiciona-los em um conjunto manipulável"
   ]
  },
  {
   "cell_type": "markdown",
   "id": "3c3065f8",
   "metadata": {},
   "source": [
    "#### Exemplo para um arquivo"
   ]
  },
  {
   "cell_type": "code",
   "execution_count": 7,
   "id": "75285d66",
   "metadata": {},
   "outputs": [],
   "source": [
    "import wave\n",
    "import struct\n",
    "\n",
    "CHUNK = 1024 * 2\n",
    "\n",
    "# some_file = '../Obtenção de dados/Saídas/0 - Regime Normal/2021-05-26 20:53:43.925687.wav'\n",
    "some_file = all_files[0][0]\n",
    "\n",
    "wave_file = wave.open(some_file, 'rb')\n",
    "data = wave_file.readframes(CHUNK)\n",
    "dataInt = struct.unpack(str(CHUNK) + 'h', data)"
   ]
  },
  {
   "cell_type": "markdown",
   "id": "c379672e",
   "metadata": {},
   "source": [
    "#### Carregar todos"
   ]
  },
  {
   "cell_type": "code",
   "execution_count": 8,
   "id": "327b2585",
   "metadata": {},
   "outputs": [
    {
     "data": {
      "text/html": [
       "<div>\n",
       "<style scoped>\n",
       "    .dataframe tbody tr th:only-of-type {\n",
       "        vertical-align: middle;\n",
       "    }\n",
       "\n",
       "    .dataframe tbody tr th {\n",
       "        vertical-align: top;\n",
       "    }\n",
       "\n",
       "    .dataframe thead th {\n",
       "        text-align: right;\n",
       "    }\n",
       "</style>\n",
       "<table border=\"1\" class=\"dataframe\">\n",
       "  <thead>\n",
       "    <tr style=\"text-align: right;\">\n",
       "      <th></th>\n",
       "      <th>0</th>\n",
       "      <th>1</th>\n",
       "      <th>2</th>\n",
       "      <th>3</th>\n",
       "      <th>4</th>\n",
       "      <th>5</th>\n",
       "      <th>6</th>\n",
       "      <th>7</th>\n",
       "      <th>8</th>\n",
       "      <th>9</th>\n",
       "      <th>...</th>\n",
       "      <th>2039</th>\n",
       "      <th>2040</th>\n",
       "      <th>2041</th>\n",
       "      <th>2042</th>\n",
       "      <th>2043</th>\n",
       "      <th>2044</th>\n",
       "      <th>2045</th>\n",
       "      <th>2046</th>\n",
       "      <th>2047</th>\n",
       "      <th>class</th>\n",
       "    </tr>\n",
       "  </thead>\n",
       "  <tbody>\n",
       "    <tr>\n",
       "      <th>0</th>\n",
       "      <td>1262.0</td>\n",
       "      <td>1180.0</td>\n",
       "      <td>1160.0</td>\n",
       "      <td>1200.0</td>\n",
       "      <td>1273.0</td>\n",
       "      <td>1372.0</td>\n",
       "      <td>1399.0</td>\n",
       "      <td>1465.0</td>\n",
       "      <td>1578.0</td>\n",
       "      <td>1595.0</td>\n",
       "      <td>...</td>\n",
       "      <td>-5.0</td>\n",
       "      <td>68.0</td>\n",
       "      <td>124.0</td>\n",
       "      <td>152.0</td>\n",
       "      <td>146.0</td>\n",
       "      <td>90.0</td>\n",
       "      <td>2.0</td>\n",
       "      <td>-131.0</td>\n",
       "      <td>-182.0</td>\n",
       "      <td>0 - Regime Normal/</td>\n",
       "    </tr>\n",
       "    <tr>\n",
       "      <th>1</th>\n",
       "      <td>-3654.0</td>\n",
       "      <td>-3577.0</td>\n",
       "      <td>-3553.0</td>\n",
       "      <td>-3519.0</td>\n",
       "      <td>-3389.0</td>\n",
       "      <td>-3346.0</td>\n",
       "      <td>-3378.0</td>\n",
       "      <td>-3438.0</td>\n",
       "      <td>-3496.0</td>\n",
       "      <td>-3498.0</td>\n",
       "      <td>...</td>\n",
       "      <td>-85.0</td>\n",
       "      <td>-91.0</td>\n",
       "      <td>-203.0</td>\n",
       "      <td>-305.0</td>\n",
       "      <td>-355.0</td>\n",
       "      <td>-335.0</td>\n",
       "      <td>-331.0</td>\n",
       "      <td>-322.0</td>\n",
       "      <td>-294.0</td>\n",
       "      <td>0 - Regime Normal/</td>\n",
       "    </tr>\n",
       "    <tr>\n",
       "      <th>2</th>\n",
       "      <td>-551.0</td>\n",
       "      <td>-399.0</td>\n",
       "      <td>-394.0</td>\n",
       "      <td>-418.0</td>\n",
       "      <td>-445.0</td>\n",
       "      <td>-379.0</td>\n",
       "      <td>-283.0</td>\n",
       "      <td>-310.0</td>\n",
       "      <td>-253.0</td>\n",
       "      <td>-125.0</td>\n",
       "      <td>...</td>\n",
       "      <td>2240.0</td>\n",
       "      <td>2329.0</td>\n",
       "      <td>2438.0</td>\n",
       "      <td>2558.0</td>\n",
       "      <td>2550.0</td>\n",
       "      <td>2380.0</td>\n",
       "      <td>2297.0</td>\n",
       "      <td>2343.0</td>\n",
       "      <td>2320.0</td>\n",
       "      <td>0 - Regime Normal/</td>\n",
       "    </tr>\n",
       "    <tr>\n",
       "      <th>3</th>\n",
       "      <td>1775.0</td>\n",
       "      <td>1653.0</td>\n",
       "      <td>1672.0</td>\n",
       "      <td>1650.0</td>\n",
       "      <td>1670.0</td>\n",
       "      <td>1720.0</td>\n",
       "      <td>1767.0</td>\n",
       "      <td>1847.0</td>\n",
       "      <td>1947.0</td>\n",
       "      <td>2004.0</td>\n",
       "      <td>...</td>\n",
       "      <td>3742.0</td>\n",
       "      <td>3800.0</td>\n",
       "      <td>3850.0</td>\n",
       "      <td>4008.0</td>\n",
       "      <td>4176.0</td>\n",
       "      <td>4197.0</td>\n",
       "      <td>4116.0</td>\n",
       "      <td>4012.0</td>\n",
       "      <td>3931.0</td>\n",
       "      <td>0 - Regime Normal/</td>\n",
       "    </tr>\n",
       "    <tr>\n",
       "      <th>4</th>\n",
       "      <td>2305.0</td>\n",
       "      <td>2196.0</td>\n",
       "      <td>2092.0</td>\n",
       "      <td>2028.0</td>\n",
       "      <td>1909.0</td>\n",
       "      <td>1807.0</td>\n",
       "      <td>1776.0</td>\n",
       "      <td>1839.0</td>\n",
       "      <td>1902.0</td>\n",
       "      <td>1943.0</td>\n",
       "      <td>...</td>\n",
       "      <td>-1234.0</td>\n",
       "      <td>-1330.0</td>\n",
       "      <td>-1386.0</td>\n",
       "      <td>-1403.0</td>\n",
       "      <td>-1380.0</td>\n",
       "      <td>-1344.0</td>\n",
       "      <td>-1329.0</td>\n",
       "      <td>-1344.0</td>\n",
       "      <td>-1366.0</td>\n",
       "      <td>0 - Regime Normal/</td>\n",
       "    </tr>\n",
       "  </tbody>\n",
       "</table>\n",
       "<p>5 rows × 2049 columns</p>\n",
       "</div>"
      ],
      "text/plain": [
       "        0       1       2       3       4       5       6       7       8  \\\n",
       "0  1262.0  1180.0  1160.0  1200.0  1273.0  1372.0  1399.0  1465.0  1578.0   \n",
       "1 -3654.0 -3577.0 -3553.0 -3519.0 -3389.0 -3346.0 -3378.0 -3438.0 -3496.0   \n",
       "2  -551.0  -399.0  -394.0  -418.0  -445.0  -379.0  -283.0  -310.0  -253.0   \n",
       "3  1775.0  1653.0  1672.0  1650.0  1670.0  1720.0  1767.0  1847.0  1947.0   \n",
       "4  2305.0  2196.0  2092.0  2028.0  1909.0  1807.0  1776.0  1839.0  1902.0   \n",
       "\n",
       "        9  ...    2039    2040    2041    2042    2043    2044    2045  \\\n",
       "0  1595.0  ...    -5.0    68.0   124.0   152.0   146.0    90.0     2.0   \n",
       "1 -3498.0  ...   -85.0   -91.0  -203.0  -305.0  -355.0  -335.0  -331.0   \n",
       "2  -125.0  ...  2240.0  2329.0  2438.0  2558.0  2550.0  2380.0  2297.0   \n",
       "3  2004.0  ...  3742.0  3800.0  3850.0  4008.0  4176.0  4197.0  4116.0   \n",
       "4  1943.0  ... -1234.0 -1330.0 -1386.0 -1403.0 -1380.0 -1344.0 -1329.0   \n",
       "\n",
       "     2046    2047               class  \n",
       "0  -131.0  -182.0  0 - Regime Normal/  \n",
       "1  -322.0  -294.0  0 - Regime Normal/  \n",
       "2  2343.0  2320.0  0 - Regime Normal/  \n",
       "3  4012.0  3931.0  0 - Regime Normal/  \n",
       "4 -1344.0 -1366.0  0 - Regime Normal/  \n",
       "\n",
       "[5 rows x 2049 columns]"
      ]
     },
     "execution_count": 8,
     "metadata": {},
     "output_type": "execute_result"
    }
   ],
   "source": [
    "df_audio = pd.DataFrame()\n",
    "\n",
    "for f, c in all_files:\n",
    "    df_aux = pd.DataFrame()\n",
    "    \n",
    "    wave_file = wave.open(f, 'rb')\n",
    "    data = wave_file.readframes(CHUNK)\n",
    "    dataInt = struct.unpack(str(CHUNK) + 'h', data)\n",
    "    \n",
    "    df_aux = df_aux.append(pd.Series(dataInt), ignore_index=True)\n",
    "    df_aux['class'] = c\n",
    "    df_audio = pd.concat([df_audio, df_aux])\n",
    "    \n",
    "    \n",
    "    \n",
    "df_audio = df_audio.reset_index(drop=True)\n",
    "df_audio.head()"
   ]
  },
  {
   "cell_type": "markdown",
   "id": "25236b51",
   "metadata": {},
   "source": [
    "## Salvar os dados em um conjunto intermediário"
   ]
  },
  {
   "cell_type": "code",
   "execution_count": 9,
   "id": "7c04027b",
   "metadata": {},
   "outputs": [],
   "source": [
    "df_audio.to_csv('Saídas/dados_carregados.csv')"
   ]
  },
  {
   "cell_type": "markdown",
   "id": "def8f580",
   "metadata": {},
   "source": [
    "### Verificar a quantidade de amostras por classe"
   ]
  },
  {
   "cell_type": "code",
   "execution_count": 10,
   "id": "fae5ad90",
   "metadata": {},
   "outputs": [
    {
     "data": {
      "image/png": "[encoded data removed]",
      "text/plain": [
       "<Figure size 1080x360 with 1 Axes>"
      ]
     },
     "metadata": {
      "needs_background": "light"
     },
     "output_type": "display_data"
    }
   ],
   "source": [
    "plt.figure(figsize=(15,5))\n",
    "sns.countplot(data=df_audio, x = 'class');"
   ]
  },
  {
   "cell_type": "markdown",
   "id": "f3ce3fb3",
   "metadata": {},
   "source": [
    "# Análise das formas de onda no dominio da transformada"
   ]
  },
  {
   "cell_type": "code",
   "execution_count": 11,
   "id": "11fa3a2c",
   "metadata": {},
   "outputs": [],
   "source": [
    "regime_normal = all_files[0][0]\n",
    "falta_tensao = all_files[14][0]\n",
    "sobrecarga = all_files[24][0]\n",
    "desbalanceado = all_files[36][0]"
   ]
  },
  {
   "cell_type": "markdown",
   "id": "9d85e872",
   "metadata": {},
   "source": [
    "### Regime normal"
   ]
  },
  {
   "cell_type": "code",
   "execution_count": 12,
   "id": "5d7c6d9b",
   "metadata": {},
   "outputs": [
    {
     "data": {
      "image/png": "[encoded data removed]",
      "text/plain": [
       "<Figure size 1080x360 with 2 Axes>"
      ]
     },
     "metadata": {
      "needs_background": "light"
     },
     "output_type": "display_data"
    }
   ],
   "source": [
    "plot_wave_with_fft(regime_normal)"
   ]
  },
  {
   "cell_type": "markdown",
   "id": "d2106f4d",
   "metadata": {},
   "source": [
    "### Falta de tensão"
   ]
  },
  {
   "cell_type": "code",
   "execution_count": 13,
   "id": "46ae1227",
   "metadata": {},
   "outputs": [
    {
     "data": {
      "image/png": "[encoded data removed]",
      "text/plain": [
       "<Figure size 1080x360 with 2 Axes>"
      ]
     },
     "metadata": {
      "needs_background": "light"
     },
     "output_type": "display_data"
    }
   ],
   "source": [
    "plot_wave_with_fft(falta_tensao)"
   ]
  },
  {
   "cell_type": "markdown",
   "id": "0cac6ec5",
   "metadata": {},
   "source": [
    "### Sobrecarga"
   ]
  },
  {
   "cell_type": "code",
   "execution_count": 14,
   "id": "d07224a4",
   "metadata": {},
   "outputs": [
    {
     "data": {
      "image/png": "[encoded data removed]",
      "text/plain": [
       "<Figure size 1080x360 with 2 Axes>"
      ]
     },
     "metadata": {
      "needs_background": "light"
     },
     "output_type": "display_data"
    }
   ],
   "source": [
    "plot_wave_with_fft(sobrecarga)"
   ]
  },
  {
   "cell_type": "markdown",
   "id": "e805f86f",
   "metadata": {},
   "source": [
    "### Desbalanceamento"
   ]
  },
  {
   "cell_type": "code",
   "execution_count": 15,
   "id": "4e75b044",
   "metadata": {},
   "outputs": [
    {
     "data": {
      "image/png": "[encoded data removed]",
      "text/plain": [
       "<Figure size 1080x360 with 2 Axes>"
      ]
     },
     "metadata": {
      "needs_background": "light"
     },
     "output_type": "display_data"
    }
   ],
   "source": [
    "plot_wave_with_fft(desbalanceado)"
   ]
  },
  {
   "cell_type": "markdown",
   "id": "3477f39d",
   "metadata": {},
   "source": [
    "### Notas observadas\n",
    "\n",
    "* Pouca variação no espectro\n",
    "* A aplicacao de um filtro passa alta pode ser interessante visto que a sobrecarga e o regime normal em baixas frequencias sao muito semelhantes\n",
    "\n",
    "### Considerações no processamento\n",
    "* Experimentar um modo hibrido de treinamento caso não se tenha um bom desempenho apenas com a FFT\\"
   ]
  },
  {
   "cell_type": "markdown",
   "id": "bda46d72",
   "metadata": {},
   "source": [
    "# Resumo das faixas de frequência"
   ]
  },
  {
   "cell_type": "code",
   "execution_count": 16,
   "id": "e06e242a",
   "metadata": {},
   "outputs": [
    {
     "data": {
      "image/png": "[encoded data removed]",
      "text/plain": [
       "<Figure size 1080x720 with 1 Axes>"
      ]
     },
     "metadata": {
      "needs_background": "light"
     },
     "output_type": "display_data"
    }
   ],
   "source": [
    "lista_fft = [\n",
    "    regime_normal,\n",
    "    falta_tensao,\n",
    "    sobrecarga,\n",
    "    desbalanceado\n",
    "]\n",
    "\n",
    "plot_multiple_FFT(lista_fft)"
   ]
  },
  {
   "cell_type": "markdown",
   "id": "970316f9",
   "metadata": {},
   "source": [
    "### Notas:\n",
    "* Amplo espectro com baixa variação "
   ]
  },
  {
   "cell_type": "markdown",
   "id": "2dc3a44e",
   "metadata": {},
   "source": [
    "# Análise com Espectograma "
   ]
  },
  {
   "cell_type": "code",
   "execution_count": 17,
   "id": "445b7b53",
   "metadata": {},
   "outputs": [
    {
     "data": {
      "image/png": "[encoded data removed]",
      "text/plain": [
       "<Figure size 432x288 with 1 Axes>"
      ]
     },
     "metadata": {
      "needs_background": "light"
     },
     "output_type": "display_data"
    }
   ],
   "source": [
    "spectrograma(regime_normal)"
   ]
  },
  {
   "cell_type": "code",
   "execution_count": 18,
   "id": "54795893",
   "metadata": {},
   "outputs": [
    {
     "data": {
      "image/png": "[encoded data removed]",
      "text/plain": [
       "<Figure size 432x288 with 1 Axes>"
      ]
     },
     "metadata": {
      "needs_background": "light"
     },
     "output_type": "display_data"
    }
   ],
   "source": [
    "spectrograma(falta_tensao)"
   ]
  },
  {
   "cell_type": "code",
   "execution_count": 19,
   "id": "47178379",
   "metadata": {},
   "outputs": [
    {
     "data": {
      "image/png": "[encoded data removed]",
      "text/plain": [
       "<Figure size 432x288 with 1 Axes>"
      ]
     },
     "metadata": {
      "needs_background": "light"
     },
     "output_type": "display_data"
    }
   ],
   "source": [
    "spectrograma(sobrecarga)"
   ]
  },
  {
   "cell_type": "code",
   "execution_count": 20,
   "id": "a04059ea",
   "metadata": {},
   "outputs": [
    {
     "data": {
      "image/png": "[encoded data removed]",
      "text/plain": [
       "<Figure size 432x288 with 1 Axes>"
      ]
     },
     "metadata": {
      "needs_background": "light"
     },
     "output_type": "display_data"
    }
   ],
   "source": [
    "spectrograma(desbalanceado)"
   ]
  },
  {
   "cell_type": "markdown",
   "id": "c8fcf1bb",
   "metadata": {},
   "source": [
    "### Notas\n",
    "* A variação da frequência no tempo fica um pouco mais evidente com o uso do espectrograma"
   ]
  },
  {
   "cell_type": "markdown",
   "id": "16dc9e2f",
   "metadata": {},
   "source": [
    "# 1º Teste: Conjunto de dados cru sem aplicação da FFT"
   ]
  },
  {
   "cell_type": "code",
   "execution_count": 21,
   "id": "52dbc33d",
   "metadata": {},
   "outputs": [
    {
     "data": {
      "text/html": [
       "<div>\n",
       "<style scoped>\n",
       "    .dataframe tbody tr th:only-of-type {\n",
       "        vertical-align: middle;\n",
       "    }\n",
       "\n",
       "    .dataframe tbody tr th {\n",
       "        vertical-align: top;\n",
       "    }\n",
       "\n",
       "    .dataframe thead th {\n",
       "        text-align: right;\n",
       "    }\n",
       "</style>\n",
       "<table border=\"1\" class=\"dataframe\">\n",
       "  <thead>\n",
       "    <tr style=\"text-align: right;\">\n",
       "      <th></th>\n",
       "      <th>0</th>\n",
       "      <th>1</th>\n",
       "      <th>2</th>\n",
       "      <th>3</th>\n",
       "      <th>4</th>\n",
       "      <th>5</th>\n",
       "      <th>6</th>\n",
       "      <th>7</th>\n",
       "      <th>8</th>\n",
       "      <th>9</th>\n",
       "      <th>...</th>\n",
       "      <th>2039</th>\n",
       "      <th>2040</th>\n",
       "      <th>2041</th>\n",
       "      <th>2042</th>\n",
       "      <th>2043</th>\n",
       "      <th>2044</th>\n",
       "      <th>2045</th>\n",
       "      <th>2046</th>\n",
       "      <th>2047</th>\n",
       "      <th>class</th>\n",
       "    </tr>\n",
       "  </thead>\n",
       "  <tbody>\n",
       "    <tr>\n",
       "      <th>0</th>\n",
       "      <td>1262.0</td>\n",
       "      <td>1180.0</td>\n",
       "      <td>1160.0</td>\n",
       "      <td>1200.0</td>\n",
       "      <td>1273.0</td>\n",
       "      <td>1372.0</td>\n",
       "      <td>1399.0</td>\n",
       "      <td>1465.0</td>\n",
       "      <td>1578.0</td>\n",
       "      <td>1595.0</td>\n",
       "      <td>...</td>\n",
       "      <td>-5.0</td>\n",
       "      <td>68.0</td>\n",
       "      <td>124.0</td>\n",
       "      <td>152.0</td>\n",
       "      <td>146.0</td>\n",
       "      <td>90.0</td>\n",
       "      <td>2.0</td>\n",
       "      <td>-131.0</td>\n",
       "      <td>-182.0</td>\n",
       "      <td>0 - Regime Normal/</td>\n",
       "    </tr>\n",
       "    <tr>\n",
       "      <th>1</th>\n",
       "      <td>-3654.0</td>\n",
       "      <td>-3577.0</td>\n",
       "      <td>-3553.0</td>\n",
       "      <td>-3519.0</td>\n",
       "      <td>-3389.0</td>\n",
       "      <td>-3346.0</td>\n",
       "      <td>-3378.0</td>\n",
       "      <td>-3438.0</td>\n",
       "      <td>-3496.0</td>\n",
       "      <td>-3498.0</td>\n",
       "      <td>...</td>\n",
       "      <td>-85.0</td>\n",
       "      <td>-91.0</td>\n",
       "      <td>-203.0</td>\n",
       "      <td>-305.0</td>\n",
       "      <td>-355.0</td>\n",
       "      <td>-335.0</td>\n",
       "      <td>-331.0</td>\n",
       "      <td>-322.0</td>\n",
       "      <td>-294.0</td>\n",
       "      <td>0 - Regime Normal/</td>\n",
       "    </tr>\n",
       "    <tr>\n",
       "      <th>2</th>\n",
       "      <td>-551.0</td>\n",
       "      <td>-399.0</td>\n",
       "      <td>-394.0</td>\n",
       "      <td>-418.0</td>\n",
       "      <td>-445.0</td>\n",
       "      <td>-379.0</td>\n",
       "      <td>-283.0</td>\n",
       "      <td>-310.0</td>\n",
       "      <td>-253.0</td>\n",
       "      <td>-125.0</td>\n",
       "      <td>...</td>\n",
       "      <td>2240.0</td>\n",
       "      <td>2329.0</td>\n",
       "      <td>2438.0</td>\n",
       "      <td>2558.0</td>\n",
       "      <td>2550.0</td>\n",
       "      <td>2380.0</td>\n",
       "      <td>2297.0</td>\n",
       "      <td>2343.0</td>\n",
       "      <td>2320.0</td>\n",
       "      <td>0 - Regime Normal/</td>\n",
       "    </tr>\n",
       "    <tr>\n",
       "      <th>3</th>\n",
       "      <td>1775.0</td>\n",
       "      <td>1653.0</td>\n",
       "      <td>1672.0</td>\n",
       "      <td>1650.0</td>\n",
       "      <td>1670.0</td>\n",
       "      <td>1720.0</td>\n",
       "      <td>1767.0</td>\n",
       "      <td>1847.0</td>\n",
       "      <td>1947.0</td>\n",
       "      <td>2004.0</td>\n",
       "      <td>...</td>\n",
       "      <td>3742.0</td>\n",
       "      <td>3800.0</td>\n",
       "      <td>3850.0</td>\n",
       "      <td>4008.0</td>\n",
       "      <td>4176.0</td>\n",
       "      <td>4197.0</td>\n",
       "      <td>4116.0</td>\n",
       "      <td>4012.0</td>\n",
       "      <td>3931.0</td>\n",
       "      <td>0 - Regime Normal/</td>\n",
       "    </tr>\n",
       "    <tr>\n",
       "      <th>4</th>\n",
       "      <td>2305.0</td>\n",
       "      <td>2196.0</td>\n",
       "      <td>2092.0</td>\n",
       "      <td>2028.0</td>\n",
       "      <td>1909.0</td>\n",
       "      <td>1807.0</td>\n",
       "      <td>1776.0</td>\n",
       "      <td>1839.0</td>\n",
       "      <td>1902.0</td>\n",
       "      <td>1943.0</td>\n",
       "      <td>...</td>\n",
       "      <td>-1234.0</td>\n",
       "      <td>-1330.0</td>\n",
       "      <td>-1386.0</td>\n",
       "      <td>-1403.0</td>\n",
       "      <td>-1380.0</td>\n",
       "      <td>-1344.0</td>\n",
       "      <td>-1329.0</td>\n",
       "      <td>-1344.0</td>\n",
       "      <td>-1366.0</td>\n",
       "      <td>0 - Regime Normal/</td>\n",
       "    </tr>\n",
       "  </tbody>\n",
       "</table>\n",
       "<p>5 rows × 2049 columns</p>\n",
       "</div>"
      ],
      "text/plain": [
       "        0       1       2       3       4       5       6       7       8  \\\n",
       "0  1262.0  1180.0  1160.0  1200.0  1273.0  1372.0  1399.0  1465.0  1578.0   \n",
       "1 -3654.0 -3577.0 -3553.0 -3519.0 -3389.0 -3346.0 -3378.0 -3438.0 -3496.0   \n",
       "2  -551.0  -399.0  -394.0  -418.0  -445.0  -379.0  -283.0  -310.0  -253.0   \n",
       "3  1775.0  1653.0  1672.0  1650.0  1670.0  1720.0  1767.0  1847.0  1947.0   \n",
       "4  2305.0  2196.0  2092.0  2028.0  1909.0  1807.0  1776.0  1839.0  1902.0   \n",
       "\n",
       "        9  ...    2039    2040    2041    2042    2043    2044    2045  \\\n",
       "0  1595.0  ...    -5.0    68.0   124.0   152.0   146.0    90.0     2.0   \n",
       "1 -3498.0  ...   -85.0   -91.0  -203.0  -305.0  -355.0  -335.0  -331.0   \n",
       "2  -125.0  ...  2240.0  2329.0  2438.0  2558.0  2550.0  2380.0  2297.0   \n",
       "3  2004.0  ...  3742.0  3800.0  3850.0  4008.0  4176.0  4197.0  4116.0   \n",
       "4  1943.0  ... -1234.0 -1330.0 -1386.0 -1403.0 -1380.0 -1344.0 -1329.0   \n",
       "\n",
       "     2046    2047               class  \n",
       "0  -131.0  -182.0  0 - Regime Normal/  \n",
       "1  -322.0  -294.0  0 - Regime Normal/  \n",
       "2  2343.0  2320.0  0 - Regime Normal/  \n",
       "3  4012.0  3931.0  0 - Regime Normal/  \n",
       "4 -1344.0 -1366.0  0 - Regime Normal/  \n",
       "\n",
       "[5 rows x 2049 columns]"
      ]
     },
     "execution_count": 21,
     "metadata": {},
     "output_type": "execute_result"
    }
   ],
   "source": [
    "import pandas as pd\n",
    "\n",
    "df_audio = pd.read_csv('Saídas/dados_carregados.csv', index_col=0)\n",
    "df_audio.head()"
   ]
  },
  {
   "cell_type": "markdown",
   "id": "7a18ff3c",
   "metadata": {},
   "source": [
    "### Separação de entradas e saídas"
   ]
  },
  {
   "cell_type": "code",
   "execution_count": 22,
   "id": "255e4fdc",
   "metadata": {},
   "outputs": [],
   "source": [
    "X = df_audio.drop(['class'], axis=1)\n",
    "y = df_audio['class']"
   ]
  },
  {
   "cell_type": "markdown",
   "id": "2164926c",
   "metadata": {},
   "source": [
    "### Encode das saidas"
   ]
  },
  {
   "cell_type": "code",
   "execution_count": 23,
   "id": "8e04820b",
   "metadata": {},
   "outputs": [],
   "source": [
    "from sklearn.preprocessing import LabelEncoder\n",
    "\n",
    "lbl_enc = LabelEncoder()\n",
    "\n",
    "y = lbl_enc.fit_transform(y)"
   ]
  },
  {
   "cell_type": "markdown",
   "id": "7e5bf790",
   "metadata": {},
   "source": [
    "## Separação treino e teste "
   ]
  },
  {
   "cell_type": "code",
   "execution_count": 24,
   "id": "9a418601",
   "metadata": {},
   "outputs": [],
   "source": [
    "from sklearn.model_selection import train_test_split\n",
    "\n",
    "X_train, X_test, y_train, y_test = train_test_split(X, y, test_size=0.2, random_state=42, stratify=y)"
   ]
  },
  {
   "cell_type": "markdown",
   "id": "4ddf32f0",
   "metadata": {},
   "source": [
    "# Experimentação com algoritmos tradicionais "
   ]
  },
  {
   "cell_type": "code",
   "execution_count": 25,
   "id": "70d81660",
   "metadata": {},
   "outputs": [
    {
     "name": "stdout",
     "output_type": "stream",
     "text": [
      "KNeighborsClassifier(n_neighbors=3)\n",
      "model score: 0.400\n",
      "\n",
      "\n",
      "SVC(C=0.025, gamma='auto', probability=True)\n",
      "model score: 0.250\n",
      "\n",
      "\n",
      "NuSVC(gamma='auto', probability=True)\n",
      "model score: 0.250\n",
      "\n",
      "\n",
      "DecisionTreeClassifier()\n",
      "model score: 0.350\n",
      "\n",
      "\n",
      "RandomForestClassifier()\n",
      "model score: 0.450\n",
      "\n",
      "\n",
      "AdaBoostClassifier()\n",
      "model score: 0.350\n",
      "\n",
      "\n",
      "GradientBoostingClassifier()\n",
      "model score: 0.250\n",
      "\n",
      "\n"
     ]
    }
   ],
   "source": [
    "from sklearn.metrics import accuracy_score, log_loss\n",
    "from sklearn.neighbors import KNeighborsClassifier\n",
    "from sklearn.svm import SVC, LinearSVC, NuSVC\n",
    "from sklearn.tree import DecisionTreeClassifier\n",
    "from sklearn.ensemble import RandomForestClassifier, AdaBoostClassifier, GradientBoostingClassifier\n",
    "from sklearn.discriminant_analysis import LinearDiscriminantAnalysis\n",
    "from sklearn.discriminant_analysis import QuadraticDiscriminantAnalysis\n",
    "\n",
    "classifiers = [\n",
    "    KNeighborsClassifier(3),\n",
    "    SVC(kernel=\"rbf\", C=0.025, probability=True, gamma=\"auto\"),\n",
    "    NuSVC(probability=True, gamma=\"auto\"),\n",
    "    DecisionTreeClassifier(),\n",
    "    RandomForestClassifier(n_estimators=100),\n",
    "    AdaBoostClassifier(),\n",
    "    GradientBoostingClassifier(),\n",
    "        \n",
    "]\n",
    "\n",
    "for classifier in classifiers:\n",
    "    classifier.fit(X_train, y_train)   \n",
    "    print(classifier)\n",
    "    print(\"model score: %.3f\" % classifier.score(X_test, y_test))\n",
    "    print(\"\\n\")"
   ]
  },
  {
   "cell_type": "markdown",
   "id": "a25ac1b2",
   "metadata": {},
   "source": [
    "## Experimentação com Algoritimo de aprendizagem profunda"
   ]
  },
  {
   "cell_type": "code",
   "execution_count": 26,
   "id": "5ae022e8",
   "metadata": {},
   "outputs": [],
   "source": [
    "from keras.models import Sequential\n",
    "from keras.layers import Dense"
   ]
  },
  {
   "cell_type": "code",
   "execution_count": 27,
   "id": "36a40814",
   "metadata": {},
   "outputs": [],
   "source": [
    "model = Sequential()\n",
    "model.add(Dense(12, input_dim=2048, activation='relu'))\n",
    "model.add(Dense(1024, activation='relu'))\n",
    "model.add(Dense(1, activation='sigmoid'))"
   ]
  },
  {
   "cell_type": "code",
   "execution_count": 28,
   "id": "24d027d4",
   "metadata": {},
   "outputs": [],
   "source": [
    "model.compile(loss='binary_crossentropy', optimizer='adam', metrics=['accuracy'])"
   ]
  },
  {
   "cell_type": "code",
   "execution_count": 29,
   "id": "605ccde3",
   "metadata": {},
   "outputs": [],
   "source": [
    "X_train_deep = np.asarray(X_train)\n",
    "y_train_deep = np.asarray(y_train)\n",
    "X_test_deep = np.asarray(X_test)\n",
    "y_test_deep = np.asarray(y_test)"
   ]
  },
  {
   "cell_type": "code",
   "execution_count": null,
   "id": "ca60b09e",
   "metadata": {
    "scrolled": true
   },
   "outputs": [],
   "source": [
    "model.fit(X_train_deep, y_train_deep, epochs=100, batch_size=100)"
   ]
  },
  {
   "cell_type": "code",
   "execution_count": null,
   "id": "70174fea",
   "metadata": {},
   "outputs": [],
   "source": [
    "_, accuracy = model.evaluate(X_test_deep, y_test_deep)\n",
    "print('Accuracy: %.2f' % (accuracy*100))"
   ]
  },
  {
   "cell_type": "markdown",
   "id": "f880a278",
   "metadata": {},
   "source": [
    "### Notas:\n",
    "* Performance pifia"
   ]
  },
  {
   "cell_type": "markdown",
   "id": "13fa9691",
   "metadata": {},
   "source": [
    "# Teste do melhor algoritimo com outras métricas"
   ]
  },
  {
   "cell_type": "code",
   "execution_count": null,
   "id": "6cd8b471",
   "metadata": {},
   "outputs": [],
   "source": [
    "clf = KNeighborsClassifier()\n",
    "clf.fit(X_train, y_train)   "
   ]
  },
  {
   "cell_type": "code",
   "execution_count": null,
   "id": "0d387349",
   "metadata": {},
   "outputs": [],
   "source": [
    "from sklearn.metrics import confusion_matrix, accuracy_score, classification_report\n",
    "\n",
    "predicoes = clf.predict(X_test)"
   ]
  },
  {
   "cell_type": "code",
   "execution_count": null,
   "id": "b5423952",
   "metadata": {},
   "outputs": [],
   "source": [
    "accuracy_score(y_test, predicoes)"
   ]
  },
  {
   "cell_type": "code",
   "execution_count": null,
   "id": "68c27441",
   "metadata": {},
   "outputs": [],
   "source": [
    "confusion_matrix(y_test, predicoes)"
   ]
  },
  {
   "cell_type": "code",
   "execution_count": null,
   "id": "97954942",
   "metadata": {},
   "outputs": [],
   "source": [
    "sns.heatmap(confusion_matrix(y_test, predicoes));"
   ]
  },
  {
   "cell_type": "code",
   "execution_count": null,
   "id": "27bb2231",
   "metadata": {
    "scrolled": true
   },
   "outputs": [],
   "source": [
    "print(classification_report(y_test, predicoes))"
   ]
  },
  {
   "cell_type": "markdown",
   "id": "f0d664d9",
   "metadata": {},
   "source": [
    "### Resultados inaceitáveis"
   ]
  },
  {
   "cell_type": "markdown",
   "id": "b75f2b87",
   "metadata": {},
   "source": [
    "# 2º teste: Submissão dos dados a uma FFT "
   ]
  },
  {
   "cell_type": "code",
   "execution_count": null,
   "id": "a13eded6",
   "metadata": {},
   "outputs": [],
   "source": [
    "def apply_fft_in_df(dataInt):\n",
    "    fft_value = np.fft.fft(dataInt)\n",
    "    absolute_value = np.abs(fft_value).mean()\n",
    "    imaginary_value = np.imag(fft_value).mean()\n",
    "    \n",
    "    return absolute_value, imaginary_value\n",
    "\n",
    "X_fft = X.apply(apply_fft_in_df, axis=1, result_type='expand')"
   ]
  },
  {
   "cell_type": "code",
   "execution_count": null,
   "id": "b913548d",
   "metadata": {},
   "outputs": [],
   "source": [
    "X_fft.head()"
   ]
  },
  {
   "cell_type": "markdown",
   "id": "6eb3772b",
   "metadata": {},
   "source": [
    "## Separação treino e teste "
   ]
  },
  {
   "cell_type": "code",
   "execution_count": null,
   "id": "99b15b9e",
   "metadata": {},
   "outputs": [],
   "source": [
    "from sklearn.model_selection import train_test_split\n",
    "\n",
    "X_train, X_test, y_train, y_test = train_test_split(X_fft, y, test_size=0.2, random_state=42, stratify=y)"
   ]
  },
  {
   "cell_type": "markdown",
   "id": "d796dd7a",
   "metadata": {},
   "source": [
    "# Treino de algoritmo "
   ]
  },
  {
   "cell_type": "code",
   "execution_count": null,
   "id": "cbf60a5b",
   "metadata": {},
   "outputs": [],
   "source": [
    "from sklearn.metrics import accuracy_score, log_loss\n",
    "from sklearn.neighbors import KNeighborsClassifier\n",
    "from sklearn.svm import SVC, LinearSVC, NuSVC\n",
    "from sklearn.tree import DecisionTreeClassifier\n",
    "from sklearn.ensemble import RandomForestClassifier, AdaBoostClassifier, GradientBoostingClassifier\n",
    "from sklearn.discriminant_analysis import LinearDiscriminantAnalysis\n",
    "from sklearn.discriminant_analysis import QuadraticDiscriminantAnalysis\n",
    "\n",
    "classifiers = [\n",
    "    KNeighborsClassifier(3),\n",
    "    SVC(kernel=\"rbf\", C=0.025, probability=True, gamma=\"auto\"),\n",
    "    NuSVC(probability=True, gamma=\"auto\"),\n",
    "    DecisionTreeClassifier(),\n",
    "    RandomForestClassifier(n_estimators=100),\n",
    "    AdaBoostClassifier(),\n",
    "    GradientBoostingClassifier()\n",
    "]\n",
    "\n",
    "for classifier in classifiers:\n",
    "    classifier.fit(X_train, y_train)   \n",
    "    print(classifier)\n",
    "    print(\"model score: %.3f\" % classifier.score(X_test, y_test))\n",
    "    print(\"\\n\")"
   ]
  },
  {
   "cell_type": "code",
   "execution_count": null,
   "id": "593f893a",
   "metadata": {},
   "outputs": [],
   "source": [
    "model = Sequential()\n",
    "model.add(Dense(12, input_dim=2, activation='relu'))\n",
    "model.add(Dense(1024, activation='relu'))\n",
    "model.add(Dense(1, activation='sigmoid'))\n",
    "\n",
    "model.compile(loss='binary_crossentropy', optimizer='adam', metrics=['accuracy'])\n",
    "\n",
    "X_train_deep = np.asarray(X_train)\n",
    "y_train_deep = np.asarray(y_train)\n",
    "X_test_deep = np.asarray(X_test)\n",
    "y_test_deep = np.asarray(y_test)"
   ]
  },
  {
   "cell_type": "code",
   "execution_count": null,
   "id": "4888521f",
   "metadata": {
    "scrolled": true
   },
   "outputs": [],
   "source": [
    "model.fit(X_train_deep, y_train_deep, epochs=100, batch_size=100)"
   ]
  },
  {
   "cell_type": "code",
   "execution_count": null,
   "id": "48df4696",
   "metadata": {},
   "outputs": [],
   "source": [
    "_, accuracy = model.evaluate(X_test_deep, y_test_deep)\n",
    "print('Accuracy: %.2f' % (accuracy*100))"
   ]
  },
  {
   "cell_type": "markdown",
   "id": "28a051ee",
   "metadata": {},
   "source": [
    "### Notas:\n",
    "* Performance pifia, DecisionTreeClassifier e Gradient Boosting parecem promissores"
   ]
  },
  {
   "cell_type": "markdown",
   "id": "13fa969c",
   "metadata": {},
   "source": [
    "# Teste do melhor algoritimo com outras métricas"
   ]
  },
  {
   "cell_type": "code",
   "execution_count": null,
   "id": "6cd8b476",
   "metadata": {},
   "outputs": [],
   "source": [
    "clf = DecisionTreeClassifier()\n",
    "clf.fit(X_train, y_train)   "
   ]
  },
  {
   "cell_type": "code",
   "execution_count": null,
   "id": "0d387348",
   "metadata": {},
   "outputs": [],
   "source": [
    "from sklearn.metrics import confusion_matrix, accuracy_score, classification_report\n",
    "\n",
    "predicoes = clf.predict(X_test)"
   ]
  },
  {
   "cell_type": "code",
   "execution_count": null,
   "id": "b5423951",
   "metadata": {},
   "outputs": [],
   "source": [
    "accuracy_score(y_test, predicoes)"
   ]
  },
  {
   "cell_type": "code",
   "execution_count": null,
   "id": "68c2744f",
   "metadata": {},
   "outputs": [],
   "source": [
    "confusion_matrix(y_test, predicoes)"
   ]
  },
  {
   "cell_type": "code",
   "execution_count": null,
   "id": "97954941",
   "metadata": {},
   "outputs": [],
   "source": [
    "sns.heatmap(confusion_matrix(y_test, predicoes));"
   ]
  },
  {
   "cell_type": "code",
   "execution_count": null,
   "id": "27bb223c",
   "metadata": {
    "scrolled": true
   },
   "outputs": [],
   "source": [
    "print(classification_report(y_test, predicoes))"
   ]
  },
  {
   "cell_type": "markdown",
   "id": "2619ee9c",
   "metadata": {},
   "source": [
    "### Resultados melhoraram, mas ainda estao bem ruins. Por exemplo na classe 2 (Sobrecarga)"
   ]
  },
  {
   "cell_type": "code",
   "execution_count": null,
   "id": "57db51c3",
   "metadata": {},
   "outputs": [],
   "source": [
    "lbl_enc.classes_"
   ]
  },
  {
   "cell_type": "markdown",
   "id": "cb85e342",
   "metadata": {},
   "source": [
    "# 3º Teste: obter os valores de média, minimo e máximo e a média da parte real e imaginária da FFT "
   ]
  },
  {
   "cell_type": "code",
   "execution_count": null,
   "id": "7d598586",
   "metadata": {},
   "outputs": [],
   "source": [
    "def transform_array(arr):\n",
    "    mean = arr.mean()\n",
    "    minimun = arr.min()\n",
    "    maximun = arr.max()\n",
    "    \n",
    "    fft_value = np.fft.fft(arr)\n",
    "    real_part = np.abs(fft_value).mean()\n",
    "    imaginary_part = np.imag(fft_value).mean()\n",
    "    \n",
    "    return np.array([mean, minimun, maximun, real_part, imaginary_part])"
   ]
  },
  {
   "cell_type": "code",
   "execution_count": null,
   "id": "86d8b343",
   "metadata": {},
   "outputs": [],
   "source": [
    "transform_array(X.iloc[0])"
   ]
  },
  {
   "cell_type": "code",
   "execution_count": null,
   "id": "bb07b55b",
   "metadata": {
    "scrolled": true
   },
   "outputs": [],
   "source": [
    "X_transform = X.apply(transform_array, axis=1, result_type='expand')\n",
    "X_transform.columns = ['Média', 'Minímo', 'Máximo', 'FFT Real', 'FFT Imaginário']\n",
    "X_transform.head()"
   ]
  },
  {
   "cell_type": "code",
   "execution_count": null,
   "id": "cc6f1913",
   "metadata": {},
   "outputs": [],
   "source": [
    "X_output = X_transform.copy()\n",
    "X_output['class'] = y\n",
    "\n",
    "X_output.to_csv('Saídas/X_transform.csv')"
   ]
  },
  {
   "cell_type": "code",
   "execution_count": null,
   "id": "649c7faa",
   "metadata": {},
   "outputs": [],
   "source": [
    "from sklearn.model_selection import train_test_split\n",
    "\n",
    "X_train, X_test, y_train, y_test = train_test_split(X_transform, y, test_size=0.2, random_state=42, stratify=y)"
   ]
  },
  {
   "cell_type": "code",
   "execution_count": null,
   "id": "70e9758d",
   "metadata": {},
   "outputs": [],
   "source": [
    "from sklearn.metrics import accuracy_score, log_loss\n",
    "from sklearn.neighbors import KNeighborsClassifier\n",
    "from sklearn.svm import SVC, LinearSVC, NuSVC\n",
    "from sklearn.tree import DecisionTreeClassifier\n",
    "from sklearn.ensemble import RandomForestClassifier, AdaBoostClassifier, GradientBoostingClassifier\n",
    "from sklearn.discriminant_analysis import LinearDiscriminantAnalysis\n",
    "from sklearn.discriminant_analysis import QuadraticDiscriminantAnalysis\n",
    "\n",
    "classifiers = [\n",
    "    KNeighborsClassifier(3),\n",
    "    SVC(kernel=\"rbf\", C=0.025, probability=True, gamma=\"auto\"),\n",
    "    NuSVC(probability=True, gamma=\"auto\"),\n",
    "    DecisionTreeClassifier(),\n",
    "    RandomForestClassifier(n_estimators=100),\n",
    "    AdaBoostClassifier(),\n",
    "    GradientBoostingClassifier()\n",
    "]\n",
    "\n",
    "for classifier in classifiers:\n",
    "    classifier.fit(X_train, y_train)   \n",
    "    print(classifier)\n",
    "    print(\"model score: %.3f\" % classifier.score(X_test, y_test))\n",
    "    print(\"\\n\")"
   ]
  },
  {
   "cell_type": "code",
   "execution_count": null,
   "id": "51bbbaf1",
   "metadata": {},
   "outputs": [],
   "source": [
    "from keras.models import Sequential\n",
    "from keras.layers import Dense\n",
    "\n",
    "model = Sequential()\n",
    "model.add(Dense(12, input_dim=5, activation='relu'))\n",
    "model.add(Dense(8, activation='relu'))\n",
    "model.add(Dense(1, activation='sigmoid'))\n",
    "\n",
    "model.compile(loss='binary_crossentropy', optimizer='adam', metrics=['accuracy'])\n",
    "\n",
    "X_train_deep = np.asarray(X_train)\n",
    "y_train_deep = np.asarray(y_train)\n",
    "X_test_deep = np.asarray(X_test)\n",
    "y_test_deep = np.asarray(y_test)"
   ]
  },
  {
   "cell_type": "code",
   "execution_count": null,
   "id": "22a45639",
   "metadata": {
    "scrolled": true
   },
   "outputs": [],
   "source": [
    "model.fit(X_train_deep, y_train_deep, epochs=100, batch_size=100)"
   ]
  },
  {
   "cell_type": "code",
   "execution_count": null,
   "id": "8cbde9f1",
   "metadata": {},
   "outputs": [],
   "source": [
    "_, accuracy = model.evaluate(X_test_deep, y_test_deep)\n",
    "print('Accuracy: %.2f' % (accuracy*100))"
   ]
  },
  {
   "cell_type": "markdown",
   "id": "597120f7",
   "metadata": {},
   "source": [
    "### Notas\n",
    "* Melhoria significativa em disversos algoritmos\n",
    "* Redes Neurais ainda se mostram muito ineficientes"
   ]
  },
  {
   "cell_type": "code",
   "execution_count": null,
   "id": "d38cbf68",
   "metadata": {},
   "outputs": [],
   "source": [
    "from sklearn.metrics import confusion_matrix, accuracy_score, classification_report\n",
    "\n",
    "clf = GradientBoostingClassifier()\n",
    "clf.fit(X_train, y_train)  \n",
    "predicoes = clf.predict(X_test)"
   ]
  },
  {
   "cell_type": "code",
   "execution_count": null,
   "id": "7a02033a",
   "metadata": {},
   "outputs": [],
   "source": [
    "accuracy_score(y_test, predicoes)"
   ]
  },
  {
   "cell_type": "code",
   "execution_count": null,
   "id": "ba503437",
   "metadata": {},
   "outputs": [],
   "source": [
    "confusion_matrix(y_test, predicoes)"
   ]
  },
  {
   "cell_type": "code",
   "execution_count": null,
   "id": "98f73410",
   "metadata": {},
   "outputs": [],
   "source": [
    "sns.heatmap(confusion_matrix(y_test, predicoes));"
   ]
  },
  {
   "cell_type": "code",
   "execution_count": null,
   "id": "74540946",
   "metadata": {},
   "outputs": [],
   "source": [
    "print(classification_report(y_test, predicoes))"
   ]
  },
  {
   "cell_type": "code",
   "execution_count": null,
   "id": "5be433e1",
   "metadata": {},
   "outputs": [],
   "source": [
    "lbl_enc.inverse_transform([0,1,2,3])"
   ]
  },
  {
   "cell_type": "markdown",
   "id": "ce75bac9",
   "metadata": {},
   "source": [
    "## Notas\n",
    "* O algoritmo está com dificuldades para classificar corretamente a 'Falta de tensão', confundindo com \"Desbalanceamento de eixo\", entretanto. identifica perfeitamente a 'Falta de Tensão' e o 'Regime Normal'"
   ]
  },
  {
   "cell_type": "markdown",
   "id": "4df64bc2",
   "metadata": {},
   "source": [
    "# 4º Teste: Aplicando um filtro passa alta nos dados da fft"
   ]
  },
  {
   "cell_type": "code",
   "execution_count": null,
   "id": "83344048",
   "metadata": {},
   "outputs": [],
   "source": [
    "def transform_array(arr, filter_limit = 50):    \n",
    "    arr = arr.values   \n",
    "    \n",
    "    mean = arr.mean()\n",
    "    minimun = arr.min()\n",
    "    maximun = arr.max()        \n",
    "   \n",
    "    fft_filtered = arr[np.where(arr > filter_limit)]\n",
    "    fft_value = np.fft.fft(fft_filtered)   \n",
    "    \n",
    "    real_part = np.abs(fft_value).mean()\n",
    "    imaginary_part = np.imag(fft_value).mean()    \n",
    "\n",
    "    return np.array([mean, minimun, maximun, real_part, imaginary_part])\n",
    "\n",
    "\n",
    "\n",
    "X_transform = X.apply(transform_array, axis=1, result_type='expand')\n",
    "X_transform.columns = ['Média', 'Minímo', 'Máximo', 'FFT Real', 'FFT Imaginário']\n",
    "X_transform.head()"
   ]
  },
  {
   "cell_type": "code",
   "execution_count": null,
   "id": "5aa8fd19",
   "metadata": {},
   "outputs": [],
   "source": [
    "from sklearn.model_selection import train_test_split\n",
    "\n",
    "X_train, X_test, y_train, y_test = train_test_split(X_transform, y, test_size=0.2, random_state=42, stratify=y)"
   ]
  },
  {
   "cell_type": "code",
   "execution_count": null,
   "id": "fd316431",
   "metadata": {
    "scrolled": true
   },
   "outputs": [],
   "source": [
    "from sklearn.metrics import accuracy_score, log_loss\n",
    "from sklearn.neighbors import KNeighborsClassifier\n",
    "from sklearn.svm import SVC, LinearSVC, NuSVC\n",
    "from sklearn.tree import DecisionTreeClassifier\n",
    "from sklearn.ensemble import RandomForestClassifier, AdaBoostClassifier, GradientBoostingClassifier\n",
    "from sklearn.discriminant_analysis import LinearDiscriminantAnalysis\n",
    "from sklearn.discriminant_analysis import QuadraticDiscriminantAnalysis\n",
    "\n",
    "classifiers = [\n",
    "    KNeighborsClassifier(3),\n",
    "    SVC(kernel=\"rbf\", C=0.025, probability=True, gamma=\"auto\"),\n",
    "    NuSVC(probability=True, gamma=\"auto\"),\n",
    "    DecisionTreeClassifier(),\n",
    "    RandomForestClassifier(n_estimators=100),\n",
    "    AdaBoostClassifier(),\n",
    "    GradientBoostingClassifier()\n",
    "]\n",
    "\n",
    "for classifier in classifiers:\n",
    "    classifier.fit(X_train, y_train)   \n",
    "    print(classifier)\n",
    "    print(\"model score: %.3f\" % classifier.score(X_test, y_test))\n",
    "    print(\"\\n\")"
   ]
  },
  {
   "cell_type": "code",
   "execution_count": null,
   "id": "b21dae42",
   "metadata": {},
   "outputs": [],
   "source": [
    "from sklearn.metrics import confusion_matrix, accuracy_score, classification_report\n",
    "\n",
    "clf = DecisionTreeClassifier()\n",
    "clf.fit(X_train, y_train)  \n",
    "predicoes = clf.predict(X_test)"
   ]
  },
  {
   "cell_type": "code",
   "execution_count": null,
   "id": "56a30253",
   "metadata": {},
   "outputs": [],
   "source": [
    "confusion_matrix(y_test, predicoes)"
   ]
  },
  {
   "cell_type": "code",
   "execution_count": null,
   "id": "fa0a1cc6",
   "metadata": {
    "scrolled": true
   },
   "outputs": [],
   "source": [
    "sns.heatmap(confusion_matrix(y_test, predicoes));"
   ]
  },
  {
   "cell_type": "code",
   "execution_count": null,
   "id": "96a47847",
   "metadata": {
    "scrolled": true
   },
   "outputs": [],
   "source": [
    "print(classification_report(y_test, predicoes))"
   ]
  },
  {
   "cell_type": "markdown",
   "id": "e9fbbaf7",
   "metadata": {},
   "source": [
    "# Notas:\n",
    "* O algoritmo tem dificuldade para diferenciar \"0\" e \"1\"\n",
    "* Será que um ganho no sinal ajudaria?"
   ]
  },
  {
   "cell_type": "markdown",
   "id": "959dd2be",
   "metadata": {},
   "source": [
    "# 5º Teste: Aplicando um ganho na parte imaginaria com as técnicas do 3º teste"
   ]
  },
  {
   "cell_type": "code",
   "execution_count": null,
   "id": "fa883652",
   "metadata": {},
   "outputs": [],
   "source": [
    "ganho = 0.5\n",
    "\n",
    "def ganho_audio(row):\n",
    "    row[4] = row[4] * ganho\n",
    "    return row"
   ]
  },
  {
   "cell_type": "code",
   "execution_count": null,
   "id": "dd04464b",
   "metadata": {},
   "outputs": [],
   "source": [
    "X_transform = X.apply(transform_array, axis=1, result_type='expand')\n",
    "X_ganho = X_transform.apply(ganho_audio, axis=1, result_type='expand')\n",
    "X_ganho.columns = ['Média', 'Minímo', 'Máximo', 'FFT Real', 'FFT Imaginário']\n",
    "X_ganho.head()"
   ]
  },
  {
   "cell_type": "code",
   "execution_count": null,
   "id": "29f83473",
   "metadata": {},
   "outputs": [],
   "source": [
    "from sklearn.preprocessing import StandardScaler\n",
    "from sklearn.model_selection import train_test_split\n",
    "\n",
    "X_train, X_test, y_train, y_test = train_test_split(X_ganho, y, test_size=0.2, random_state=42, stratify=y)"
   ]
  },
  {
   "cell_type": "code",
   "execution_count": null,
   "id": "a7561f4a",
   "metadata": {},
   "outputs": [],
   "source": []
  },
  {
   "cell_type": "code",
   "execution_count": null,
   "id": "e5ad4bd8",
   "metadata": {},
   "outputs": [],
   "source": [
    "from sklearn.metrics import accuracy_score, log_loss\n",
    "from sklearn.neighbors import KNeighborsClassifier\n",
    "from sklearn.svm import SVC, LinearSVC, NuSVC\n",
    "from sklearn.tree import DecisionTreeClassifier\n",
    "from sklearn.ensemble import RandomForestClassifier, AdaBoostClassifier, GradientBoostingClassifier\n",
    "from sklearn.discriminant_analysis import LinearDiscriminantAnalysis\n",
    "from sklearn.discriminant_analysis import QuadraticDiscriminantAnalysis\n",
    "\n",
    "classifiers = [\n",
    "    KNeighborsClassifier(3),\n",
    "    SVC(kernel=\"rbf\", C=0.025, probability=True, gamma=\"auto\"),\n",
    "    NuSVC(probability=True, gamma=\"auto\"),\n",
    "    DecisionTreeClassifier(),\n",
    "    RandomForestClassifier(n_estimators=100),\n",
    "    AdaBoostClassifier(),\n",
    "    GradientBoostingClassifier()\n",
    "]\n",
    "\n",
    "for classifier in classifiers:\n",
    "    classifier.fit(X_train, y_train)   \n",
    "    print(classifier)\n",
    "    print(\"model score: %.3f\" % classifier.score(X_test, y_test))\n",
    "    print(\"\\n\")"
   ]
  },
  {
   "cell_type": "code",
   "execution_count": null,
   "id": "b4f6924c",
   "metadata": {},
   "outputs": [],
   "source": [
    "from sklearn.metrics import confusion_matrix, accuracy_score, classification_report\n",
    "\n",
    "clf = DecisionTreeClassifier()\n",
    "clf.fit(X_train, y_train)  \n",
    "predicoes = clf.predict(X_test)"
   ]
  },
  {
   "cell_type": "code",
   "execution_count": null,
   "id": "89216c68",
   "metadata": {},
   "outputs": [],
   "source": [
    "confusion_matrix(y_test, predicoes)"
   ]
  },
  {
   "cell_type": "code",
   "execution_count": null,
   "id": "1ffa067e",
   "metadata": {},
   "outputs": [],
   "source": [
    "sns.heatmap(confusion_matrix(y_test, predicoes));"
   ]
  },
  {
   "cell_type": "code",
   "execution_count": null,
   "id": "541e1a9a",
   "metadata": {
    "scrolled": true
   },
   "outputs": [],
   "source": [
    "print(classification_report(y_test, predicoes))"
   ]
  },
  {
   "cell_type": "markdown",
   "id": "a3e7a3c8",
   "metadata": {},
   "source": [
    "# 6º Teste: Aplicando faixas de frequencia ao conjunto de dados\n",
    "\n",
    "Sera verificado se o conjunto de dados possui um valor minimo em alguns agrupamentos de frequencias nas seguintes faixas:\n",
    "\n",
    "* 0-250\n",
    "* 250-500\n",
    "* 500-750\n",
    "* 750-1000\n",
    "* 1000-1250\n",
    "* maiores que 1250"
   ]
  },
  {
   "cell_type": "code",
   "execution_count": null,
   "id": "69ed53cc",
   "metadata": {},
   "outputs": [],
   "source": [
    "X_fft = np.fft.fft(X)\n",
    "n = len(X)\n",
    "X_fft = 2.0/n * np.abs(X_fft[:n//2])\n",
    "arr_dataset_mean = X_fft.mean(axis=0)\n",
    "\n",
    "ranges = (\n",
    "        (0, 100),\n",
    "        (250, 750),\n",
    "        (750, 1250),\n",
    "        (1250, 2000),\n",
    ")\n",
    "\n",
    "\n",
    "def mean_amplitude_by_freq_range(arr, high, low, sample_rate = 22050):\n",
    "    n = len(data)\n",
    "    T = 1/sample_rate\n",
    "\n",
    "    amplitude = np.fft.fft(arr) # Aplica a FFT no audio\n",
    "    amplitude = 2.0/n * np.abs(amplitude[:n//2]) # Módulo da amplitude\n",
    "    frequency = np.linspace(0.0, 1.0/(2.0*T), n//2) # Cria um array contendo as frequencias\n",
    "    min_index = np.argmax(frequency >= low)\n",
    "    max_index = np.argmax(frequency >= high)\n",
    "\n",
    "    return amplitude[min_index:max_index].mean()\n",
    "    \n",
    "    \n",
    "def get_ranges(row, ranges):    \n",
    "    arr_out = []   \n",
    "    \n",
    "    for low, high in ranges:      \n",
    "        dataset_mean = mean_amplitude_by_freq_range(arr_dataset_mean, high, low)\n",
    "        register_mean = mean_amplitude_by_freq_range(row, high, low)\n",
    "        \n",
    "        # Se o valor do registro for maior que a média considerar a faixa como verdadeira\n",
    "        if register_mean >= 1.5 * dataset_mean:\n",
    "            arr_out.append(1)\n",
    "        else:\n",
    "            arr_out.append(0)\n",
    "    \n",
    "    return arr_out\n",
    "\n",
    "\n",
    "X_extract = pd.DataFrame([get_ranges(r, ranges) for r in X.values])\n",
    "X_extract.columns = [str(l) + \"-\" + str(h) for l, h in ranges]"
   ]
  },
  {
   "cell_type": "code",
   "execution_count": null,
   "id": "0271de99",
   "metadata": {},
   "outputs": [],
   "source": [
    "X_extract"
   ]
  },
  {
   "cell_type": "markdown",
   "id": "ca31d834",
   "metadata": {},
   "source": [
    "### Baixa variacao, aumentar o numero de faixas"
   ]
  },
  {
   "cell_type": "code",
   "execution_count": null,
   "id": "ecefd3ab",
   "metadata": {},
   "outputs": [],
   "source": [
    "X_fft = np.fft.fft(X)\n",
    "X_fft = 2.0/n * np.abs(X_fft[:n//2])\n",
    "arr_dataset_mean = X_fft.mean(axis=0)\n",
    "\n",
    "ranges = (\n",
    "        (0, 100),\n",
    "        (100, 200),\n",
    "        (200, 300),\n",
    "        (300, 400),\n",
    "        (400, 500),\n",
    "        (500, 600),\n",
    "        (600, 700),\n",
    "        (700, 800),\n",
    "        (800, 900),\n",
    "        (900, 1000),\n",
    "        (1000, 1100),\n",
    "        (1100, 1200),\n",
    "        (1200, 2000),\n",
    ")\n",
    "\n",
    "\n",
    "def mean_amplitude_by_freq_range(arr, high, low, sample_rate = 22050):\n",
    "    n = len(data)\n",
    "    T = 1/sample_rate\n",
    "\n",
    "    amplitude = np.fft.fft(arr) # Aplica a FFT no audio\n",
    "    amplitude = 2.0/n * np.abs(amplitude[:n//2]) # Módulo da amplitude\n",
    "    frequency = np.linspace(0.0, 1.0/(2.0*T), n//2) # Cria um array contendo as frequencias\n",
    "    min_index = np.argmax(frequency >= low)\n",
    "    max_index = np.argmax(frequency >= high)\n",
    "\n",
    "    return amplitude[min_index:max_index].mean()\n",
    "    \n",
    "    \n",
    "def get_ranges(row, ranges):    \n",
    "    arr_out = []   \n",
    "    \n",
    "    for low, high in ranges:      \n",
    "        dataset_mean = mean_amplitude_by_freq_range(arr_dataset_mean, high, low)\n",
    "        register_mean = mean_amplitude_by_freq_range(row, high, low)\n",
    "        \n",
    "        # Se o valor do registro for maior que a média considerar a faixa como verdadeira\n",
    "        if register_mean >= 1.5 * dataset_mean:\n",
    "            arr_out.append(1)\n",
    "        else:\n",
    "            arr_out.append(0)\n",
    "    \n",
    "    return arr_out\n",
    "\n",
    "\n",
    "X_extract = pd.DataFrame([get_ranges(r, ranges) for r in X.values])\n",
    "X_extract.columns = [str(l) + \"-\" + str(h) for l, h in ranges]"
   ]
  },
  {
   "cell_type": "code",
   "execution_count": null,
   "id": "56a865a9",
   "metadata": {},
   "outputs": [],
   "source": [
    "X_extract"
   ]
  },
  {
   "cell_type": "code",
   "execution_count": null,
   "id": "fa9c6ce8",
   "metadata": {},
   "outputs": [],
   "source": [
    "from sklearn.preprocessing import StandardScaler\n",
    "from sklearn.model_selection import train_test_split\n",
    "\n",
    "X_train, X_test, y_train, y_test = train_test_split(X_extract, y, test_size=0.2, random_state=42, stratify=y)"
   ]
  },
  {
   "cell_type": "code",
   "execution_count": null,
   "id": "e8f5d92c",
   "metadata": {},
   "outputs": [],
   "source": [
    "from sklearn.metrics import accuracy_score, log_loss\n",
    "from sklearn.neighbors import KNeighborsClassifier\n",
    "from sklearn.svm import SVC, LinearSVC, NuSVC\n",
    "from sklearn.tree import DecisionTreeClassifier\n",
    "from sklearn.ensemble import RandomForestClassifier, AdaBoostClassifier, GradientBoostingClassifier\n",
    "from sklearn.discriminant_analysis import LinearDiscriminantAnalysis\n",
    "from sklearn.discriminant_analysis import QuadraticDiscriminantAnalysis\n",
    "\n",
    "classifiers = [\n",
    "    KNeighborsClassifier(3),\n",
    "    SVC(kernel=\"rbf\", C=0.025, probability=True, gamma=\"auto\"),\n",
    "    NuSVC(probability=True, gamma=\"auto\"),\n",
    "    DecisionTreeClassifier(),\n",
    "    RandomForestClassifier(n_estimators=100),\n",
    "    AdaBoostClassifier(),\n",
    "    GradientBoostingClassifier()\n",
    "]\n",
    "\n",
    "for classifier in classifiers:\n",
    "    classifier.fit(X_train, y_train)   \n",
    "    print(classifier)\n",
    "    print(\"model score: %.3f\" % classifier.score(X_test, y_test))\n",
    "    print(\"\\n\")"
   ]
  },
  {
   "cell_type": "code",
   "execution_count": null,
   "id": "938a567f",
   "metadata": {},
   "outputs": [],
   "source": [
    "from sklearn.metrics import confusion_matrix, accuracy_score, classification_report\n",
    "\n",
    "clf = DecisionTreeClassifier()\n",
    "clf.fit(X_train, y_train)  \n",
    "predicoes = clf.predict(X_test)"
   ]
  },
  {
   "cell_type": "code",
   "execution_count": null,
   "id": "f4a283eb",
   "metadata": {},
   "outputs": [],
   "source": [
    "confusion_matrix(y_test, predicoes)"
   ]
  },
  {
   "cell_type": "code",
   "execution_count": null,
   "id": "ea7f0a87",
   "metadata": {},
   "outputs": [],
   "source": [
    "sns.heatmap(confusion_matrix(y_test, predicoes));"
   ]
  },
  {
   "cell_type": "code",
   "execution_count": null,
   "id": "a560f2e9",
   "metadata": {},
   "outputs": [],
   "source": [
    "print(classification_report(y_test, predicoes))"
   ]
  },
  {
   "cell_type": "markdown",
   "id": "eec31256",
   "metadata": {},
   "source": [
    "# Conclusões:\n",
    "\n",
    "* Algoritmo ainda nao consegue diferenciar desbalanceamento de eixo\n",
    "* Melhor metodo ate o momento: Método 3."
   ]
  },
  {
   "cell_type": "markdown",
   "id": "bf4b93a9",
   "metadata": {},
   "source": [
    "## Utilização da busca em grade para obter os melhores parâmetros da árvore de decisão"
   ]
  },
  {
   "cell_type": "code",
   "execution_count": null,
   "id": "a41726cb",
   "metadata": {},
   "outputs": [],
   "source": [
    "X_transform = X.apply(transform_array, axis=1, result_type='expand')\n",
    "X_transform.columns = ['Média', 'Minímo', 'Máximo', 'FFT Real', 'FFT Imaginário']\n",
    "X_transform.head()"
   ]
  },
  {
   "cell_type": "code",
   "execution_count": null,
   "id": "4abda1c3",
   "metadata": {},
   "outputs": [],
   "source": [
    "from sklearn.model_selection import train_test_split\n",
    "\n",
    "X_train, X_test, y_train, y_test = train_test_split(X_transform, y, test_size=0.2, random_state=42, stratify=y)"
   ]
  },
  {
   "cell_type": "code",
   "execution_count": null,
   "id": "b1b5b57f",
   "metadata": {},
   "outputs": [],
   "source": [
    "from sklearn.model_selection import GridSearchCV\n",
    "from sklearn.metrics import classification_report\n",
    "\n",
    "\n",
    "criterion = ['gini', 'entropy']\n",
    "max_depth = [2, 3, 4, 6, 8, 10, 12]\n",
    "min_samples_split = [2, 3, 4, 6, 8, 10, 12]\n",
    "    \n",
    "parameters = {                \n",
    "                'criterion':criterion, \n",
    "                'max_depth':max_depth, \n",
    "                'min_samples_split':min_samples_split\n",
    "             }\n",
    "\n",
    "dec_tree = DecisionTreeClassifier()\n",
    "clf = GridSearchCV(dec_tree, parameters, scoring='f1_macro')"
   ]
  },
  {
   "cell_type": "code",
   "execution_count": null,
   "id": "bbe22bb6",
   "metadata": {
    "scrolled": true
   },
   "outputs": [],
   "source": [
    "grid_search = clf.fit(X_train, y_train)"
   ]
  },
  {
   "cell_type": "code",
   "execution_count": null,
   "id": "772b2ae5",
   "metadata": {},
   "outputs": [],
   "source": [
    "grid_search.best_params_"
   ]
  },
  {
   "cell_type": "code",
   "execution_count": null,
   "id": "8e1cc749",
   "metadata": {},
   "outputs": [],
   "source": [
    "best_clf = grid_search.best_estimator_"
   ]
  },
  {
   "cell_type": "code",
   "execution_count": null,
   "id": "314f7687",
   "metadata": {},
   "outputs": [],
   "source": [
    "predicoes = best_clf.predict(X_test)\n",
    "print(classification_report(y_test, predicoes))"
   ]
  },
  {
   "cell_type": "code",
   "execution_count": null,
   "id": "0a658fa9",
   "metadata": {},
   "outputs": [],
   "source": [
    "lbl_enc.classes_"
   ]
  },
  {
   "cell_type": "markdown",
   "id": "0c47174c",
   "metadata": {},
   "source": [
    "**Agora o algoritmo esta confundindo a Sobrecarga com o Regime normal**"
   ]
  },
  {
   "cell_type": "markdown",
   "id": "422f0e6b",
   "metadata": {},
   "source": [
    "# Concluoes:\n",
    "\n",
    "* Método: Obter os valores de média, minimo e máximo e a média da parte real e imaginária da FFT\n",
    "* Classificador DecisionTreeClassifier com {'criterion': 'entropy', 'max_depth': 10, 'min_samples_split': 3}"
   ]
  },
  {
   "cell_type": "markdown",
   "id": "67950f6b",
   "metadata": {},
   "source": [
    "# Resumo de exportação (modelo criado + funções de tratamento de dados)"
   ]
  },
  {
   "cell_type": "markdown",
   "id": "769391b8",
   "metadata": {},
   "source": [
    "#### Funções utilizadas"
   ]
  },
  {
   "cell_type": "code",
   "execution_count": null,
   "id": "7b6a64b5",
   "metadata": {},
   "outputs": [],
   "source": [
    "import numpy as np\n",
    "\n",
    "def transform_array(arr):\n",
    "    \"\"\" Esta função retorna os valores médios, minimos, \n",
    "    máximos e a média das componentes real e imaginária da FFT\"\"\"\n",
    "    \n",
    "    mean = arr.mean()\n",
    "    minimun = arr.min()\n",
    "    maximun = arr.max()\n",
    "    \n",
    "    fft_value = np.fft.fft(arr)\n",
    "    real_part = np.abs(fft_value).mean()\n",
    "    imaginary_part = np.imag(fft_value).mean()\n",
    "    \n",
    "    return np.array([mean, minimun, maximun, real_part, imaginary_part])"
   ]
  },
  {
   "cell_type": "markdown",
   "id": "b57bc150",
   "metadata": {},
   "source": [
    "#### Treino do modelo"
   ]
  },
  {
   "cell_type": "code",
   "execution_count": null,
   "id": "d17eaedb",
   "metadata": {},
   "outputs": [],
   "source": [
    "X_transform = X.apply(transform_array, axis=1, result_type='expand')\n",
    "X_transform.columns = ['Média', 'Minímo', 'Máximo', 'FFT Real', 'FFT Imaginário']\n",
    "X_transform.head()"
   ]
  },
  {
   "cell_type": "code",
   "execution_count": null,
   "id": "62e2f2bc",
   "metadata": {},
   "outputs": [],
   "source": [
    "from sklearn.model_selection import GridSearchCV\n",
    "from sklearn.metrics import classification_report\n",
    "\n",
    "criterion = ['gini', 'entropy']\n",
    "max_depth = [2, 3, 4, 6, 8, 10, 12]\n",
    "min_samples_split = [2, 3, 4, 6, 8, 10, 12]\n",
    "\n",
    "X_train, X_test, y_train, y_test = train_test_split(X_transform, y, test_size=0.2, random_state=42, stratify=y)\n",
    "    \n",
    "parameters = {                \n",
    "                'criterion':criterion, \n",
    "                'max_depth':max_depth, \n",
    "                'min_samples_split':min_samples_split\n",
    "             }\n",
    "\n",
    "dec_tree = DecisionTreeClassifier()\n",
    "clf = GridSearchCV(dec_tree, parameters, scoring='f1_macro')\n",
    "grid_search = clf.fit(X_train, y_train)\n",
    "best_clf = grid_search.best_estimator_"
   ]
  },
  {
   "cell_type": "markdown",
   "id": "9979f837",
   "metadata": {},
   "source": [
    "#### Exportação do modelo criado"
   ]
  },
  {
   "cell_type": "code",
   "execution_count": null,
   "id": "95bda2de",
   "metadata": {},
   "outputs": [],
   "source": [
    "import pickle as pkl\n",
    "\n",
    "\n",
    "with open('Preditores/classificador.pkl', 'wb') as best_file:\n",
    "    pkl.dump(best_clf, best_file)"
   ]
  }
 ],
 "metadata": {
  "kernelspec": {
   "display_name": "Python 3",
   "language": "python",
   "name": "python3"
  },
  "language_info": {
   "codemirror_mode": {
    "name": "ipython",
    "version": 3
   },
   "file_extension": ".py",
   "mimetype": "text/x-python",
   "name": "python",
   "nbconvert_exporter": "python",
   "pygments_lexer": "ipython3",
   "version": "3.9.5"
  }
 },
 "nbformat": 4,
 "nbformat_minor": 5
}
